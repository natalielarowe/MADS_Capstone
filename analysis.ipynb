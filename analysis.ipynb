{
 "cells": [
  {
   "cell_type": "markdown",
   "id": "860c11c1",
   "metadata": {},
   "source": [
    "# Food Desert Definition Analysis"
   ]
  },
  {
   "cell_type": "markdown",
   "id": "719843be",
   "metadata": {},
   "source": [
    "## USDA Definition Analysis"
   ]
  },
  {
   "cell_type": "code",
   "execution_count": null,
   "id": "b5169387",
   "metadata": {
    "vscode": {
     "languageId": "plaintext"
    }
   },
   "outputs": [],
   "source": []
  },
  {
   "cell_type": "markdown",
   "id": "b5f390b1",
   "metadata": {},
   "source": [
    "## CDC Definition Analysis"
   ]
  },
  {
   "cell_type": "code",
   "execution_count": null,
   "id": "292fa200",
   "metadata": {
    "vscode": {
     "languageId": "plaintext"
    }
   },
   "outputs": [],
   "source": []
  },
  {
   "cell_type": "markdown",
   "id": "3b27b124",
   "metadata": {},
   "source": [
    "## USDA with Vehicle Analysis"
   ]
  },
  {
   "cell_type": "code",
   "execution_count": null,
   "id": "7ad622dd",
   "metadata": {
    "vscode": {
     "languageId": "plaintext"
    }
   },
   "outputs": [],
   "source": []
  },
  {
   "cell_type": "markdown",
   "id": "fb061857",
   "metadata": {},
   "source": [
    "## Food Swamp Analysis"
   ]
  },
  {
   "cell_type": "code",
   "execution_count": null,
   "id": "6f9ca7be",
   "metadata": {
    "vscode": {
     "languageId": "plaintext"
    }
   },
   "outputs": [],
   "source": []
  },
  {
   "cell_type": "markdown",
   "id": "6e41f814",
   "metadata": {},
   "source": [
    "## Proposed Definition Analysis"
   ]
  },
  {
   "cell_type": "code",
   "execution_count": null,
   "id": "0a44fc1a",
   "metadata": {
    "vscode": {
     "languageId": "plaintext"
    }
   },
   "outputs": [],
   "source": []
  }
 ],
 "metadata": {
  "language_info": {
   "name": "python"
  }
 },
 "nbformat": 4,
 "nbformat_minor": 5
}
