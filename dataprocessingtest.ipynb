{
 "cells": [
  {
   "cell_type": "code",
   "execution_count": 66,
   "id": "e779405a",
   "metadata": {},
   "outputs": [],
   "source": [
    "import pandas as pd\n",
    "import numpy as np\n",
    "import warnings \n",
    "import geopandas as gpd\n",
    "import requests, zipfile, io\n",
    "from geopy import distance\n",
    "warnings.filterwarnings(\"ignore\")"
   ]
  },
  {
   "cell_type": "code",
   "execution_count": null,
   "id": "7f144fd8",
   "metadata": {},
   "outputs": [],
   "source": [
    "blockgroupshp = \"https://www2.census.gov/geo/tiger/TIGER2023/BG/tl_2023_48_bg.zip\"\n",
    "r = requests.get(blockgroupshp)\n",
    "zf = zipfile.ZipFile(io.BytesIO(r.content))\n",
    "zf.extractall()\n",
    "gdf = gpd.read_file('tl_2023_48_bg.shp')"
   ]
  },
  {
   "cell_type": "code",
   "execution_count": 14,
   "id": "1d16a511",
   "metadata": {},
   "outputs": [],
   "source": [
    "gdf['centroid'] = gdf['geometry'].centroid\n",
    "gdf['Block Group Centroid Longitude'] = gdf['centroid'].x\n",
    "gdf['Block Group Centroid Latitude'] = gdf['centroid'].y\n",
    "block_group_coordinates = gdf[['GEOIDFQ', 'Block Group Centroid Latitude', 'Block Group Centroid Longitude']]\n",
    "block_group_coordinates = block_group_coordinates.rename(columns={'GEOIDFQ': 'Geo Index'})"
   ]
  },
  {
   "cell_type": "code",
   "execution_count": null,
   "id": "582ad4fd",
   "metadata": {},
   "outputs": [],
   "source": [
    "##Decentennial DHC 2020 Rural vs Urban Population\n",
    "classifurl = 'https://drive.google.com/file/d/1ViQxHHbZi7X-BkvvYBKUeDOuSvznRFVr/view?usp=share-link'\n",
    "classifurl='https://drive.usercontent.google.com/download?id={}&export=download&authuser=0&confirm=t'.format(classifurl.split('/')[-2])\n",
    "classifdf = pd.read_csv(classifurl)\n",
    "classifdf = classifdf[2:].reset_index(drop=True)\n",
    "classifdf = classifdf.astype({'GEO_ID': 'str', 'NAME': 'str', 'P2_002N': 'int64', 'P2_003N': 'int64'})"
   ]
  },
  {
   "cell_type": "code",
   "execution_count": 63,
   "id": "3a17b35b",
   "metadata": {},
   "outputs": [],
   "source": [
    "classifdf['Classification'] = np.where(classifdf['P2_003N'] > classifdf['P2_002N'], \"Rural\", \"Urban\")\n",
    "classifdf = classifdf[['GEO_ID', 'Classification']].rename(columns={'GEO_ID': 'Geo Index'})"
   ]
  },
  {
   "cell_type": "code",
   "execution_count": 15,
   "id": "ed23b613",
   "metadata": {},
   "outputs": [],
   "source": [
    "##B25002 Occupancy of Housing Units\n",
    "occurl = 'https://drive.google.com/file/d/1v4YateaDR-UTQm6XhbqLMuzv6x1ZYXmF/view?usp=share_link'\n",
    "occurl='https://drive.usercontent.google.com/download?id={}&export=download&authuser=0&confirm=t'.format(occurl.split('/')[-2])\n",
    "occupancydf = pd.read_csv(occurl)\n",
    "occupancydf.columns = occupancydf.iloc[0]\n",
    "occupancydf = occupancydf[1:].reset_index(drop=True)\n",
    "occupancydf = occupancydf[['Geography', 'Geographic Area Name', 'Estimate!!Total:!!Occupied']]\n",
    "occupancydf.columns = ['Geo Index', 'Area Name', 'Occupied Housing Units']\n",
    "occupancydf = occupancydf.astype({'Geo Index': 'str', 'Area Name': 'str', 'Occupied Housing Units': 'int64'})"
   ]
  },
  {
   "cell_type": "code",
   "execution_count": 16,
   "id": "00d73bd7",
   "metadata": {},
   "outputs": [
    {
     "data": {
      "application/vnd.microsoft.datawrangler.viewer.v0+json": {
       "columns": [
        {
         "name": "index",
         "rawType": "int64",
         "type": "integer"
        },
        {
         "name": "Geo Index",
         "rawType": "object",
         "type": "string"
        },
        {
         "name": "Area Name",
         "rawType": "object",
         "type": "string"
        },
        {
         "name": "Occupied Housing Units",
         "rawType": "int64",
         "type": "integer"
        }
       ],
       "conversionMethod": "pd.DataFrame",
       "ref": "22d352a6-f3f8-47ce-a68a-9e0d397d736b",
       "rows": [
        [
         "0",
         "1500000US480019501001",
         "Block Group 1; Census Tract 9501; Anderson County; Texas",
         "611"
        ],
        [
         "1",
         "1500000US480019501002",
         "Block Group 2; Census Tract 9501; Anderson County; Texas",
         "839"
        ],
        [
         "2",
         "1500000US480019501003",
         "Block Group 3; Census Tract 9501; Anderson County; Texas",
         "477"
        ],
        [
         "3",
         "1500000US480019504011",
         "Block Group 1; Census Tract 9504.01; Anderson County; Texas",
         "26"
        ],
        [
         "4",
         "1500000US480019504021",
         "Block Group 1; Census Tract 9504.02; Anderson County; Texas",
         "0"
        ],
        [
         "5",
         "1500000US480019505001",
         "Block Group 1; Census Tract 9505; Anderson County; Texas",
         "169"
        ],
        [
         "6",
         "1500000US480019505002",
         "Block Group 2; Census Tract 9505; Anderson County; Texas",
         "208"
        ],
        [
         "7",
         "1500000US480019505003",
         "Block Group 3; Census Tract 9505; Anderson County; Texas",
         "515"
        ],
        [
         "8",
         "1500000US480019505004",
         "Block Group 4; Census Tract 9505; Anderson County; Texas",
         "533"
        ],
        [
         "9",
         "1500000US480019506001",
         "Block Group 1; Census Tract 9506; Anderson County; Texas",
         "580"
        ],
        [
         "10",
         "1500000US480019506002",
         "Block Group 2; Census Tract 9506; Anderson County; Texas",
         "675"
        ],
        [
         "11",
         "1500000US480019506003",
         "Block Group 3; Census Tract 9506; Anderson County; Texas",
         "294"
        ],
        [
         "12",
         "1500000US480019506004",
         "Block Group 4; Census Tract 9506; Anderson County; Texas",
         "399"
        ],
        [
         "13",
         "1500000US480019507001",
         "Block Group 1; Census Tract 9507; Anderson County; Texas",
         "347"
        ],
        [
         "14",
         "1500000US480019507002",
         "Block Group 2; Census Tract 9507; Anderson County; Texas",
         "204"
        ],
        [
         "15",
         "1500000US480019507003",
         "Block Group 3; Census Tract 9507; Anderson County; Texas",
         "177"
        ],
        [
         "16",
         "1500000US480019508001",
         "Block Group 1; Census Tract 9508; Anderson County; Texas",
         "994"
        ],
        [
         "17",
         "1500000US480019508002",
         "Block Group 2; Census Tract 9508; Anderson County; Texas",
         "600"
        ],
        [
         "18",
         "1500000US480019508003",
         "Block Group 3; Census Tract 9508; Anderson County; Texas",
         "493"
        ],
        [
         "19",
         "1500000US480019508004",
         "Block Group 4; Census Tract 9508; Anderson County; Texas",
         "272"
        ],
        [
         "20",
         "1500000US480019508005",
         "Block Group 5; Census Tract 9508; Anderson County; Texas",
         "360"
        ],
        [
         "21",
         "1500000US480019509011",
         "Block Group 1; Census Tract 9509.01; Anderson County; Texas",
         "394"
        ],
        [
         "22",
         "1500000US480019509012",
         "Block Group 2; Census Tract 9509.01; Anderson County; Texas",
         "200"
        ],
        [
         "23",
         "1500000US480019509013",
         "Block Group 3; Census Tract 9509.01; Anderson County; Texas",
         "424"
        ],
        [
         "24",
         "1500000US480019509014",
         "Block Group 4; Census Tract 9509.01; Anderson County; Texas",
         "679"
        ],
        [
         "25",
         "1500000US480019509021",
         "Block Group 1; Census Tract 9509.02; Anderson County; Texas",
         "250"
        ],
        [
         "26",
         "1500000US480019509022",
         "Block Group 2; Census Tract 9509.02; Anderson County; Texas",
         "834"
        ],
        [
         "27",
         "1500000US480019509023",
         "Block Group 3; Census Tract 9509.02; Anderson County; Texas",
         "345"
        ],
        [
         "28",
         "1500000US480019509024",
         "Block Group 4; Census Tract 9509.02; Anderson County; Texas",
         "634"
        ],
        [
         "29",
         "1500000US480019510011",
         "Block Group 1; Census Tract 9510.01; Anderson County; Texas",
         "487"
        ],
        [
         "30",
         "1500000US480019510012",
         "Block Group 2; Census Tract 9510.01; Anderson County; Texas",
         "977"
        ],
        [
         "31",
         "1500000US480019510021",
         "Block Group 1; Census Tract 9510.02; Anderson County; Texas",
         "195"
        ],
        [
         "32",
         "1500000US480019510022",
         "Block Group 2; Census Tract 9510.02; Anderson County; Texas",
         "524"
        ],
        [
         "33",
         "1500000US480019510023",
         "Block Group 3; Census Tract 9510.02; Anderson County; Texas",
         "270"
        ],
        [
         "34",
         "1500000US480019510024",
         "Block Group 4; Census Tract 9510.02; Anderson County; Texas",
         "307"
        ],
        [
         "35",
         "1500000US480019511001",
         "Block Group 1; Census Tract 9511; Anderson County; Texas",
         "753"
        ],
        [
         "36",
         "1500000US480019511002",
         "Block Group 2; Census Tract 9511; Anderson County; Texas",
         "368"
        ],
        [
         "37",
         "1500000US480019511003",
         "Block Group 3; Census Tract 9511; Anderson County; Texas",
         "392"
        ],
        [
         "38",
         "1500000US480019511004",
         "Block Group 4; Census Tract 9511; Anderson County; Texas",
         "336"
        ],
        [
         "39",
         "1500000US480039501001",
         "Block Group 1; Census Tract 9501; Andrews County; Texas",
         "741"
        ],
        [
         "40",
         "1500000US480039502001",
         "Block Group 1; Census Tract 9502; Andrews County; Texas",
         "528"
        ],
        [
         "41",
         "1500000US480039502002",
         "Block Group 2; Census Tract 9502; Andrews County; Texas",
         "314"
        ],
        [
         "42",
         "1500000US480039502003",
         "Block Group 3; Census Tract 9502; Andrews County; Texas",
         "735"
        ],
        [
         "43",
         "1500000US480039502004",
         "Block Group 4; Census Tract 9502; Andrews County; Texas",
         "560"
        ],
        [
         "44",
         "1500000US480039502005",
         "Block Group 5; Census Tract 9502; Andrews County; Texas",
         "327"
        ],
        [
         "45",
         "1500000US480039502006",
         "Block Group 6; Census Tract 9502; Andrews County; Texas",
         "353"
        ],
        [
         "46",
         "1500000US480039503001",
         "Block Group 1; Census Tract 9503; Andrews County; Texas",
         "795"
        ],
        [
         "47",
         "1500000US480039503002",
         "Block Group 2; Census Tract 9503; Andrews County; Texas",
         "980"
        ],
        [
         "48",
         "1500000US480039503003",
         "Block Group 3; Census Tract 9503; Andrews County; Texas",
         "153"
        ],
        [
         "49",
         "1500000US480039504001",
         "Block Group 1; Census Tract 9504; Andrews County; Texas",
         "860"
        ]
       ],
       "shape": {
        "columns": 3,
        "rows": 18638
       }
      },
      "text/html": [
       "<div>\n",
       "<style scoped>\n",
       "    .dataframe tbody tr th:only-of-type {\n",
       "        vertical-align: middle;\n",
       "    }\n",
       "\n",
       "    .dataframe tbody tr th {\n",
       "        vertical-align: top;\n",
       "    }\n",
       "\n",
       "    .dataframe thead th {\n",
       "        text-align: right;\n",
       "    }\n",
       "</style>\n",
       "<table border=\"1\" class=\"dataframe\">\n",
       "  <thead>\n",
       "    <tr style=\"text-align: right;\">\n",
       "      <th></th>\n",
       "      <th>Geo Index</th>\n",
       "      <th>Area Name</th>\n",
       "      <th>Occupied Housing Units</th>\n",
       "    </tr>\n",
       "  </thead>\n",
       "  <tbody>\n",
       "    <tr>\n",
       "      <th>0</th>\n",
       "      <td>1500000US480019501001</td>\n",
       "      <td>Block Group 1; Census Tract 9501; Anderson Cou...</td>\n",
       "      <td>611</td>\n",
       "    </tr>\n",
       "    <tr>\n",
       "      <th>1</th>\n",
       "      <td>1500000US480019501002</td>\n",
       "      <td>Block Group 2; Census Tract 9501; Anderson Cou...</td>\n",
       "      <td>839</td>\n",
       "    </tr>\n",
       "    <tr>\n",
       "      <th>2</th>\n",
       "      <td>1500000US480019501003</td>\n",
       "      <td>Block Group 3; Census Tract 9501; Anderson Cou...</td>\n",
       "      <td>477</td>\n",
       "    </tr>\n",
       "    <tr>\n",
       "      <th>3</th>\n",
       "      <td>1500000US480019504011</td>\n",
       "      <td>Block Group 1; Census Tract 9504.01; Anderson ...</td>\n",
       "      <td>26</td>\n",
       "    </tr>\n",
       "    <tr>\n",
       "      <th>4</th>\n",
       "      <td>1500000US480019504021</td>\n",
       "      <td>Block Group 1; Census Tract 9504.02; Anderson ...</td>\n",
       "      <td>0</td>\n",
       "    </tr>\n",
       "    <tr>\n",
       "      <th>...</th>\n",
       "      <td>...</td>\n",
       "      <td>...</td>\n",
       "      <td>...</td>\n",
       "    </tr>\n",
       "    <tr>\n",
       "      <th>18633</th>\n",
       "      <td>1500000US485079503021</td>\n",
       "      <td>Block Group 1; Census Tract 9503.02; Zavala Co...</td>\n",
       "      <td>576</td>\n",
       "    </tr>\n",
       "    <tr>\n",
       "      <th>18634</th>\n",
       "      <td>1500000US485079503022</td>\n",
       "      <td>Block Group 2; Census Tract 9503.02; Zavala Co...</td>\n",
       "      <td>213</td>\n",
       "    </tr>\n",
       "    <tr>\n",
       "      <th>18635</th>\n",
       "      <td>1500000US485079503023</td>\n",
       "      <td>Block Group 3; Census Tract 9503.02; Zavala Co...</td>\n",
       "      <td>323</td>\n",
       "    </tr>\n",
       "    <tr>\n",
       "      <th>18636</th>\n",
       "      <td>1500000US485079503024</td>\n",
       "      <td>Block Group 4; Census Tract 9503.02; Zavala Co...</td>\n",
       "      <td>237</td>\n",
       "    </tr>\n",
       "    <tr>\n",
       "      <th>18637</th>\n",
       "      <td>1500000US485079503025</td>\n",
       "      <td>Block Group 5; Census Tract 9503.02; Zavala Co...</td>\n",
       "      <td>450</td>\n",
       "    </tr>\n",
       "  </tbody>\n",
       "</table>\n",
       "<p>18638 rows × 3 columns</p>\n",
       "</div>"
      ],
      "text/plain": [
       "                   Geo Index  \\\n",
       "0      1500000US480019501001   \n",
       "1      1500000US480019501002   \n",
       "2      1500000US480019501003   \n",
       "3      1500000US480019504011   \n",
       "4      1500000US480019504021   \n",
       "...                      ...   \n",
       "18633  1500000US485079503021   \n",
       "18634  1500000US485079503022   \n",
       "18635  1500000US485079503023   \n",
       "18636  1500000US485079503024   \n",
       "18637  1500000US485079503025   \n",
       "\n",
       "                                               Area Name  \\\n",
       "0      Block Group 1; Census Tract 9501; Anderson Cou...   \n",
       "1      Block Group 2; Census Tract 9501; Anderson Cou...   \n",
       "2      Block Group 3; Census Tract 9501; Anderson Cou...   \n",
       "3      Block Group 1; Census Tract 9504.01; Anderson ...   \n",
       "4      Block Group 1; Census Tract 9504.02; Anderson ...   \n",
       "...                                                  ...   \n",
       "18633  Block Group 1; Census Tract 9503.02; Zavala Co...   \n",
       "18634  Block Group 2; Census Tract 9503.02; Zavala Co...   \n",
       "18635  Block Group 3; Census Tract 9503.02; Zavala Co...   \n",
       "18636  Block Group 4; Census Tract 9503.02; Zavala Co...   \n",
       "18637  Block Group 5; Census Tract 9503.02; Zavala Co...   \n",
       "\n",
       "       Occupied Housing Units  \n",
       "0                         611  \n",
       "1                         839  \n",
       "2                         477  \n",
       "3                          26  \n",
       "4                           0  \n",
       "...                       ...  \n",
       "18633                     576  \n",
       "18634                     213  \n",
       "18635                     323  \n",
       "18636                     237  \n",
       "18637                     450  \n",
       "\n",
       "[18638 rows x 3 columns]"
      ]
     },
     "execution_count": 16,
     "metadata": {},
     "output_type": "execute_result"
    }
   ],
   "source": [
    "occupancydf"
   ]
  },
  {
   "cell_type": "code",
   "execution_count": 17,
   "id": "4c00cd17",
   "metadata": {},
   "outputs": [],
   "source": [
    "##P1 Population Data\n",
    "totalpopurl = 'https://drive.google.com/file/d/16Xwj6AaIjUAB59NhU_rq_tMiykrAwzHw/view?usp=share_link'\n",
    "totalpopurl='https://drive.usercontent.google.com/download?id={}&export=download&authuser=0&confirm=t'.format(totalpopurl.split('/')[-2])\n",
    "totalpopdf = pd.read_csv(totalpopurl)\n",
    "totalpopdf.columns = totalpopdf.iloc[0]\n",
    "totalpopdf = totalpopdf[1:].reset_index(drop=True)\n",
    "totalpopdf = totalpopdf[['Geography', ' !!Total']]\n",
    "totalpopdf.columns = ['Geo Index', 'Total Population']\n",
    "totalpopdf = totalpopdf.astype({'Geo Index': 'str', 'Total Population': 'int64'})"
   ]
  },
  {
   "cell_type": "code",
   "execution_count": 18,
   "id": "4d36237e",
   "metadata": {},
   "outputs": [
    {
     "data": {
      "application/vnd.microsoft.datawrangler.viewer.v0+json": {
       "columns": [
        {
         "name": "index",
         "rawType": "int64",
         "type": "integer"
        },
        {
         "name": "Geo Index",
         "rawType": "object",
         "type": "string"
        },
        {
         "name": "Total Population",
         "rawType": "int64",
         "type": "integer"
        }
       ],
       "conversionMethod": "pd.DataFrame",
       "ref": "a92dd51f-b8c7-4a43-b13a-214c300db7ed",
       "rows": [
        [
         "0",
         "1500000US480019501001",
         "1196"
        ],
        [
         "1",
         "1500000US480019501002",
         "1962"
        ],
        [
         "2",
         "1500000US480019501003",
         "1483"
        ],
        [
         "3",
         "1500000US480019504011",
         "5782"
        ],
        [
         "4",
         "1500000US480019504021",
         "7115"
        ],
        [
         "5",
         "1500000US480019505001",
         "733"
        ],
        [
         "6",
         "1500000US480019505002",
         "470"
        ],
        [
         "7",
         "1500000US480019505003",
         "1964"
        ],
        [
         "8",
         "1500000US480019505004",
         "1312"
        ],
        [
         "9",
         "1500000US480019506001",
         "1797"
        ],
        [
         "10",
         "1500000US480019506002",
         "1485"
        ],
        [
         "11",
         "1500000US480019506003",
         "1426"
        ],
        [
         "12",
         "1500000US480019506004",
         "1328"
        ],
        [
         "13",
         "1500000US480019507001",
         "905"
        ],
        [
         "14",
         "1500000US480019507002",
         "661"
        ],
        [
         "15",
         "1500000US480019507003",
         "998"
        ],
        [
         "16",
         "1500000US480019508001",
         "1468"
        ],
        [
         "17",
         "1500000US480019508002",
         "1288"
        ],
        [
         "18",
         "1500000US480019508003",
         "1146"
        ],
        [
         "19",
         "1500000US480019508004",
         "822"
        ],
        [
         "20",
         "1500000US480019508005",
         "703"
        ],
        [
         "21",
         "1500000US480019509011",
         "1148"
        ],
        [
         "22",
         "1500000US480019509012",
         "756"
        ],
        [
         "23",
         "1500000US480019509013",
         "613"
        ],
        [
         "24",
         "1500000US480019509014",
         "2764"
        ],
        [
         "25",
         "1500000US480019509021",
         "1063"
        ],
        [
         "26",
         "1500000US480019509022",
         "1734"
        ],
        [
         "27",
         "1500000US480019509023",
         "899"
        ],
        [
         "28",
         "1500000US480019509024",
         "1394"
        ],
        [
         "29",
         "1500000US480019510011",
         "1367"
        ],
        [
         "30",
         "1500000US480019510012",
         "2251"
        ],
        [
         "31",
         "1500000US480019510021",
         "780"
        ],
        [
         "32",
         "1500000US480019510022",
         "1338"
        ],
        [
         "33",
         "1500000US480019510023",
         "644"
        ],
        [
         "34",
         "1500000US480019510024",
         "739"
        ],
        [
         "35",
         "1500000US480019511001",
         "1872"
        ],
        [
         "36",
         "1500000US480019511002",
         "817"
        ],
        [
         "37",
         "1500000US480019511003",
         "1065"
        ],
        [
         "38",
         "1500000US480019511004",
         "634"
        ],
        [
         "39",
         "1500000US480039501001",
         "2405"
        ],
        [
         "40",
         "1500000US480039502001",
         "1749"
        ],
        [
         "41",
         "1500000US480039502002",
         "1130"
        ],
        [
         "42",
         "1500000US480039502003",
         "2011"
        ],
        [
         "43",
         "1500000US480039502004",
         "910"
        ],
        [
         "44",
         "1500000US480039502005",
         "1105"
        ],
        [
         "45",
         "1500000US480039502006",
         "805"
        ],
        [
         "46",
         "1500000US480039503001",
         "2310"
        ],
        [
         "47",
         "1500000US480039503002",
         "1662"
        ],
        [
         "48",
         "1500000US480039503003",
         "696"
        ],
        [
         "49",
         "1500000US480039504001",
         "2249"
        ]
       ],
       "shape": {
        "columns": 2,
        "rows": 18638
       }
      },
      "text/html": [
       "<div>\n",
       "<style scoped>\n",
       "    .dataframe tbody tr th:only-of-type {\n",
       "        vertical-align: middle;\n",
       "    }\n",
       "\n",
       "    .dataframe tbody tr th {\n",
       "        vertical-align: top;\n",
       "    }\n",
       "\n",
       "    .dataframe thead th {\n",
       "        text-align: right;\n",
       "    }\n",
       "</style>\n",
       "<table border=\"1\" class=\"dataframe\">\n",
       "  <thead>\n",
       "    <tr style=\"text-align: right;\">\n",
       "      <th></th>\n",
       "      <th>Geo Index</th>\n",
       "      <th>Total Population</th>\n",
       "    </tr>\n",
       "  </thead>\n",
       "  <tbody>\n",
       "    <tr>\n",
       "      <th>0</th>\n",
       "      <td>1500000US480019501001</td>\n",
       "      <td>1196</td>\n",
       "    </tr>\n",
       "    <tr>\n",
       "      <th>1</th>\n",
       "      <td>1500000US480019501002</td>\n",
       "      <td>1962</td>\n",
       "    </tr>\n",
       "    <tr>\n",
       "      <th>2</th>\n",
       "      <td>1500000US480019501003</td>\n",
       "      <td>1483</td>\n",
       "    </tr>\n",
       "    <tr>\n",
       "      <th>3</th>\n",
       "      <td>1500000US480019504011</td>\n",
       "      <td>5782</td>\n",
       "    </tr>\n",
       "    <tr>\n",
       "      <th>4</th>\n",
       "      <td>1500000US480019504021</td>\n",
       "      <td>7115</td>\n",
       "    </tr>\n",
       "    <tr>\n",
       "      <th>...</th>\n",
       "      <td>...</td>\n",
       "      <td>...</td>\n",
       "    </tr>\n",
       "    <tr>\n",
       "      <th>18633</th>\n",
       "      <td>1500000US485079503021</td>\n",
       "      <td>1928</td>\n",
       "    </tr>\n",
       "    <tr>\n",
       "      <th>18634</th>\n",
       "      <td>1500000US485079503022</td>\n",
       "      <td>842</td>\n",
       "    </tr>\n",
       "    <tr>\n",
       "      <th>18635</th>\n",
       "      <td>1500000US485079503023</td>\n",
       "      <td>1140</td>\n",
       "    </tr>\n",
       "    <tr>\n",
       "      <th>18636</th>\n",
       "      <td>1500000US485079503024</td>\n",
       "      <td>869</td>\n",
       "    </tr>\n",
       "    <tr>\n",
       "      <th>18637</th>\n",
       "      <td>1500000US485079503025</td>\n",
       "      <td>809</td>\n",
       "    </tr>\n",
       "  </tbody>\n",
       "</table>\n",
       "<p>18638 rows × 2 columns</p>\n",
       "</div>"
      ],
      "text/plain": [
       "                   Geo Index  Total Population\n",
       "0      1500000US480019501001              1196\n",
       "1      1500000US480019501002              1962\n",
       "2      1500000US480019501003              1483\n",
       "3      1500000US480019504011              5782\n",
       "4      1500000US480019504021              7115\n",
       "...                      ...               ...\n",
       "18633  1500000US485079503021              1928\n",
       "18634  1500000US485079503022               842\n",
       "18635  1500000US485079503023              1140\n",
       "18636  1500000US485079503024               869\n",
       "18637  1500000US485079503025               809\n",
       "\n",
       "[18638 rows x 2 columns]"
      ]
     },
     "execution_count": 18,
     "metadata": {},
     "output_type": "execute_result"
    }
   ],
   "source": [
    "totalpopdf"
   ]
  },
  {
   "cell_type": "code",
   "execution_count": null,
   "id": "a839f269",
   "metadata": {},
   "outputs": [],
   "source": [
    "##B17017 Poverty Status (household)\n",
    "povurl = 'https://drive.google.com/file/d/1Se0lYsstbDZtrOf2aSsfAzs3hSqBn_kf/view?usp=share_link'\n",
    "povurl='https://drive.usercontent.google.com/download?id={}&export=download&authuser=0&confirm=t'.format(povurl.split('/')[-2])\n",
    "povdf = pd.read_csv(povurl)\n",
    "povdf = povdf[['GEO_ID', 'B17017_002E', 'B17017_031E']]\n",
    "povdf = povdf[1:].reset_index(drop=True)\n",
    "povdf.columns = ['Geo Index', 'Households Below Poverty Level']\n",
    "povdf = povdf.astype({'Geo Index': 'str', 'Households Below Poverty Level': 'int64'})"
   ]
  },
  {
   "cell_type": "code",
   "execution_count": 20,
   "id": "e0309ce0",
   "metadata": {},
   "outputs": [
    {
     "data": {
      "application/vnd.microsoft.datawrangler.viewer.v0+json": {
       "columns": [
        {
         "name": "index",
         "rawType": "int64",
         "type": "integer"
        },
        {
         "name": "Geo Index",
         "rawType": "object",
         "type": "string"
        },
        {
         "name": "Households Below Poverty Level",
         "rawType": "int64",
         "type": "integer"
        },
        {
         "name": "Households At or Above Poverty Level",
         "rawType": "int64",
         "type": "integer"
        }
       ],
       "conversionMethod": "pd.DataFrame",
       "ref": "e4273b75-1cfc-4018-95b3-1d5c0ab6a0aa",
       "rows": [
        [
         "0",
         "1500000US480019501001",
         "70",
         "541"
        ],
        [
         "1",
         "1500000US480019501002",
         "178",
         "661"
        ],
        [
         "2",
         "1500000US480019501003",
         "62",
         "415"
        ],
        [
         "3",
         "1500000US480019504011",
         "0",
         "26"
        ],
        [
         "4",
         "1500000US480019504021",
         "0",
         "0"
        ],
        [
         "5",
         "1500000US480019505001",
         "0",
         "169"
        ],
        [
         "6",
         "1500000US480019505002",
         "122",
         "86"
        ],
        [
         "7",
         "1500000US480019505003",
         "75",
         "440"
        ],
        [
         "8",
         "1500000US480019505004",
         "53",
         "480"
        ],
        [
         "9",
         "1500000US480019506001",
         "367",
         "213"
        ],
        [
         "10",
         "1500000US480019506002",
         "71",
         "604"
        ],
        [
         "11",
         "1500000US480019506003",
         "33",
         "261"
        ],
        [
         "12",
         "1500000US480019506004",
         "67",
         "332"
        ],
        [
         "13",
         "1500000US480019507001",
         "63",
         "284"
        ],
        [
         "14",
         "1500000US480019507002",
         "56",
         "148"
        ],
        [
         "15",
         "1500000US480019507003",
         "48",
         "129"
        ],
        [
         "16",
         "1500000US480019508001",
         "0",
         "994"
        ],
        [
         "17",
         "1500000US480019508002",
         "274",
         "326"
        ],
        [
         "18",
         "1500000US480019508003",
         "44",
         "449"
        ],
        [
         "19",
         "1500000US480019508004",
         "0",
         "272"
        ],
        [
         "20",
         "1500000US480019508005",
         "0",
         "360"
        ],
        [
         "21",
         "1500000US480019509011",
         "46",
         "348"
        ],
        [
         "22",
         "1500000US480019509012",
         "36",
         "164"
        ],
        [
         "23",
         "1500000US480019509013",
         "59",
         "365"
        ],
        [
         "24",
         "1500000US480019509014",
         "116",
         "563"
        ],
        [
         "25",
         "1500000US480019509021",
         "36",
         "214"
        ],
        [
         "26",
         "1500000US480019509022",
         "102",
         "732"
        ],
        [
         "27",
         "1500000US480019509023",
         "0",
         "345"
        ],
        [
         "28",
         "1500000US480019509024",
         "38",
         "596"
        ],
        [
         "29",
         "1500000US480019510011",
         "62",
         "425"
        ],
        [
         "30",
         "1500000US480019510012",
         "121",
         "856"
        ],
        [
         "31",
         "1500000US480019510021",
         "12",
         "183"
        ],
        [
         "32",
         "1500000US480019510022",
         "48",
         "476"
        ],
        [
         "33",
         "1500000US480019510023",
         "66",
         "204"
        ],
        [
         "34",
         "1500000US480019510024",
         "69",
         "238"
        ],
        [
         "35",
         "1500000US480019511001",
         "79",
         "674"
        ],
        [
         "36",
         "1500000US480019511002",
         "160",
         "208"
        ],
        [
         "37",
         "1500000US480019511003",
         "38",
         "354"
        ],
        [
         "38",
         "1500000US480019511004",
         "49",
         "287"
        ],
        [
         "39",
         "1500000US480039501001",
         "72",
         "669"
        ],
        [
         "40",
         "1500000US480039502001",
         "113",
         "415"
        ],
        [
         "41",
         "1500000US480039502002",
         "13",
         "301"
        ],
        [
         "42",
         "1500000US480039502003",
         "326",
         "409"
        ],
        [
         "43",
         "1500000US480039502004",
         "4",
         "556"
        ],
        [
         "44",
         "1500000US480039502005",
         "67",
         "260"
        ],
        [
         "45",
         "1500000US480039502006",
         "40",
         "313"
        ],
        [
         "46",
         "1500000US480039503001",
         "74",
         "721"
        ],
        [
         "47",
         "1500000US480039503002",
         "112",
         "868"
        ],
        [
         "48",
         "1500000US480039503003",
         "12",
         "141"
        ],
        [
         "49",
         "1500000US480039504001",
         "63",
         "797"
        ]
       ],
       "shape": {
        "columns": 3,
        "rows": 18638
       }
      },
      "text/html": [
       "<div>\n",
       "<style scoped>\n",
       "    .dataframe tbody tr th:only-of-type {\n",
       "        vertical-align: middle;\n",
       "    }\n",
       "\n",
       "    .dataframe tbody tr th {\n",
       "        vertical-align: top;\n",
       "    }\n",
       "\n",
       "    .dataframe thead th {\n",
       "        text-align: right;\n",
       "    }\n",
       "</style>\n",
       "<table border=\"1\" class=\"dataframe\">\n",
       "  <thead>\n",
       "    <tr style=\"text-align: right;\">\n",
       "      <th></th>\n",
       "      <th>Geo Index</th>\n",
       "      <th>Households Below Poverty Level</th>\n",
       "      <th>Households At or Above Poverty Level</th>\n",
       "    </tr>\n",
       "  </thead>\n",
       "  <tbody>\n",
       "    <tr>\n",
       "      <th>0</th>\n",
       "      <td>1500000US480019501001</td>\n",
       "      <td>70</td>\n",
       "      <td>541</td>\n",
       "    </tr>\n",
       "    <tr>\n",
       "      <th>1</th>\n",
       "      <td>1500000US480019501002</td>\n",
       "      <td>178</td>\n",
       "      <td>661</td>\n",
       "    </tr>\n",
       "    <tr>\n",
       "      <th>2</th>\n",
       "      <td>1500000US480019501003</td>\n",
       "      <td>62</td>\n",
       "      <td>415</td>\n",
       "    </tr>\n",
       "    <tr>\n",
       "      <th>3</th>\n",
       "      <td>1500000US480019504011</td>\n",
       "      <td>0</td>\n",
       "      <td>26</td>\n",
       "    </tr>\n",
       "    <tr>\n",
       "      <th>4</th>\n",
       "      <td>1500000US480019504021</td>\n",
       "      <td>0</td>\n",
       "      <td>0</td>\n",
       "    </tr>\n",
       "    <tr>\n",
       "      <th>...</th>\n",
       "      <td>...</td>\n",
       "      <td>...</td>\n",
       "      <td>...</td>\n",
       "    </tr>\n",
       "    <tr>\n",
       "      <th>18633</th>\n",
       "      <td>1500000US485079503021</td>\n",
       "      <td>285</td>\n",
       "      <td>291</td>\n",
       "    </tr>\n",
       "    <tr>\n",
       "      <th>18634</th>\n",
       "      <td>1500000US485079503022</td>\n",
       "      <td>44</td>\n",
       "      <td>169</td>\n",
       "    </tr>\n",
       "    <tr>\n",
       "      <th>18635</th>\n",
       "      <td>1500000US485079503023</td>\n",
       "      <td>48</td>\n",
       "      <td>275</td>\n",
       "    </tr>\n",
       "    <tr>\n",
       "      <th>18636</th>\n",
       "      <td>1500000US485079503024</td>\n",
       "      <td>80</td>\n",
       "      <td>157</td>\n",
       "    </tr>\n",
       "    <tr>\n",
       "      <th>18637</th>\n",
       "      <td>1500000US485079503025</td>\n",
       "      <td>253</td>\n",
       "      <td>197</td>\n",
       "    </tr>\n",
       "  </tbody>\n",
       "</table>\n",
       "<p>18638 rows × 3 columns</p>\n",
       "</div>"
      ],
      "text/plain": [
       "                   Geo Index  Households Below Poverty Level  \\\n",
       "0      1500000US480019501001                              70   \n",
       "1      1500000US480019501002                             178   \n",
       "2      1500000US480019501003                              62   \n",
       "3      1500000US480019504011                               0   \n",
       "4      1500000US480019504021                               0   \n",
       "...                      ...                             ...   \n",
       "18633  1500000US485079503021                             285   \n",
       "18634  1500000US485079503022                              44   \n",
       "18635  1500000US485079503023                              48   \n",
       "18636  1500000US485079503024                              80   \n",
       "18637  1500000US485079503025                             253   \n",
       "\n",
       "       Households At or Above Poverty Level  \n",
       "0                                       541  \n",
       "1                                       661  \n",
       "2                                       415  \n",
       "3                                        26  \n",
       "4                                         0  \n",
       "...                                     ...  \n",
       "18633                                   291  \n",
       "18634                                   169  \n",
       "18635                                   275  \n",
       "18636                                   157  \n",
       "18637                                   197  \n",
       "\n",
       "[18638 rows x 3 columns]"
      ]
     },
     "execution_count": 20,
     "metadata": {},
     "output_type": "execute_result"
    }
   ],
   "source": [
    "povdf"
   ]
  },
  {
   "cell_type": "code",
   "execution_count": 21,
   "id": "5e82045d",
   "metadata": {},
   "outputs": [],
   "source": [
    "#B25044 Tenure by Vehicles Available (household)\n",
    "vehiclesurl = 'https://drive.google.com/file/d/1SanHZUmBEuISsFvPpr2DeVJkDG3XV3Im/view?usp=share_link'\n",
    "vehiclesurl='https://drive.usercontent.google.com/download?id={}&export=download&authuser=0&confirm=t'.format(vehiclesurl.split('/')[-2])\n",
    "vehiclesdf = pd.read_csv(vehiclesurl)\n",
    "vehiclesdf = vehiclesdf[['GEO_ID', 'B25044_003E', 'B25044_010E']]\n",
    "vehiclesdf = vehiclesdf[1:].reset_index(drop=True)\n",
    "vehiclesdf.columns = ['Geo Index', 'Owner Occupied Households No Vehicle', 'Renter Occupied Households No Vehicle']\n",
    "vehiclesdf = vehiclesdf.astype({'Geo Index': 'str', 'Owner Occupied Households No Vehicle': 'int64', 'Renter Occupied Households No Vehicle': 'int64'})"
   ]
  },
  {
   "cell_type": "code",
   "execution_count": 22,
   "id": "84f51f4a",
   "metadata": {},
   "outputs": [
    {
     "data": {
      "application/vnd.microsoft.datawrangler.viewer.v0+json": {
       "columns": [
        {
         "name": "index",
         "rawType": "int64",
         "type": "integer"
        },
        {
         "name": "Geo Index",
         "rawType": "object",
         "type": "string"
        },
        {
         "name": "Owner Occupied Households No Vehicle",
         "rawType": "int64",
         "type": "integer"
        },
        {
         "name": "Renter Occupied Households No Vehicle",
         "rawType": "int64",
         "type": "integer"
        }
       ],
       "conversionMethod": "pd.DataFrame",
       "ref": "35fbe40f-5d31-4847-96fb-4f86559e77c6",
       "rows": [
        [
         "0",
         "1500000US480019501001",
         "3",
         "15"
        ],
        [
         "1",
         "1500000US480019501002",
         "0",
         "10"
        ],
        [
         "2",
         "1500000US480019501003",
         "20",
         "0"
        ],
        [
         "3",
         "1500000US480019504011",
         "0",
         "0"
        ],
        [
         "4",
         "1500000US480019504021",
         "0",
         "0"
        ],
        [
         "5",
         "1500000US480019505001",
         "0",
         "0"
        ],
        [
         "6",
         "1500000US480019505002",
         "55",
         "0"
        ],
        [
         "7",
         "1500000US480019505003",
         "15",
         "8"
        ],
        [
         "8",
         "1500000US480019505004",
         "0",
         "47"
        ],
        [
         "9",
         "1500000US480019506001",
         "20",
         "156"
        ],
        [
         "10",
         "1500000US480019506002",
         "0",
         "0"
        ],
        [
         "11",
         "1500000US480019506003",
         "0",
         "20"
        ],
        [
         "12",
         "1500000US480019506004",
         "0",
         "37"
        ],
        [
         "13",
         "1500000US480019507001",
         "3",
         "86"
        ],
        [
         "14",
         "1500000US480019507002",
         "4",
         "0"
        ],
        [
         "15",
         "1500000US480019507003",
         "0",
         "2"
        ],
        [
         "16",
         "1500000US480019508001",
         "0",
         "26"
        ],
        [
         "17",
         "1500000US480019508002",
         "4",
         "0"
        ],
        [
         "18",
         "1500000US480019508003",
         "0",
         "161"
        ],
        [
         "19",
         "1500000US480019508004",
         "0",
         "0"
        ],
        [
         "20",
         "1500000US480019508005",
         "14",
         "0"
        ],
        [
         "21",
         "1500000US480019509011",
         "0",
         "68"
        ],
        [
         "22",
         "1500000US480019509012",
         "0",
         "0"
        ],
        [
         "23",
         "1500000US480019509013",
         "0",
         "0"
        ],
        [
         "24",
         "1500000US480019509014",
         "13",
         "0"
        ],
        [
         "25",
         "1500000US480019509021",
         "0",
         "0"
        ],
        [
         "26",
         "1500000US480019509022",
         "29",
         "0"
        ],
        [
         "27",
         "1500000US480019509023",
         "0",
         "0"
        ],
        [
         "28",
         "1500000US480019509024",
         "10",
         "151"
        ],
        [
         "29",
         "1500000US480019510011",
         "3",
         "0"
        ],
        [
         "30",
         "1500000US480019510012",
         "8",
         "0"
        ],
        [
         "31",
         "1500000US480019510021",
         "12",
         "0"
        ],
        [
         "32",
         "1500000US480019510022",
         "0",
         "0"
        ],
        [
         "33",
         "1500000US480019510023",
         "4",
         "24"
        ],
        [
         "34",
         "1500000US480019510024",
         "0",
         "0"
        ],
        [
         "35",
         "1500000US480019511001",
         "0",
         "0"
        ],
        [
         "36",
         "1500000US480019511002",
         "20",
         "25"
        ],
        [
         "37",
         "1500000US480019511003",
         "10",
         "0"
        ],
        [
         "38",
         "1500000US480019511004",
         "0",
         "5"
        ],
        [
         "39",
         "1500000US480039501001",
         "0",
         "17"
        ],
        [
         "40",
         "1500000US480039502001",
         "0",
         "0"
        ],
        [
         "41",
         "1500000US480039502002",
         "0",
         "0"
        ],
        [
         "42",
         "1500000US480039502003",
         "33",
         "0"
        ],
        [
         "43",
         "1500000US480039502004",
         "0",
         "0"
        ],
        [
         "44",
         "1500000US480039502005",
         "0",
         "0"
        ],
        [
         "45",
         "1500000US480039502006",
         "25",
         "0"
        ],
        [
         "46",
         "1500000US480039503001",
         "0",
         "23"
        ],
        [
         "47",
         "1500000US480039503002",
         "21",
         "0"
        ],
        [
         "48",
         "1500000US480039503003",
         "0",
         "0"
        ],
        [
         "49",
         "1500000US480039504001",
         "37",
         "0"
        ]
       ],
       "shape": {
        "columns": 3,
        "rows": 18638
       }
      },
      "text/html": [
       "<div>\n",
       "<style scoped>\n",
       "    .dataframe tbody tr th:only-of-type {\n",
       "        vertical-align: middle;\n",
       "    }\n",
       "\n",
       "    .dataframe tbody tr th {\n",
       "        vertical-align: top;\n",
       "    }\n",
       "\n",
       "    .dataframe thead th {\n",
       "        text-align: right;\n",
       "    }\n",
       "</style>\n",
       "<table border=\"1\" class=\"dataframe\">\n",
       "  <thead>\n",
       "    <tr style=\"text-align: right;\">\n",
       "      <th></th>\n",
       "      <th>Geo Index</th>\n",
       "      <th>Owner Occupied Households No Vehicle</th>\n",
       "      <th>Renter Occupied Households No Vehicle</th>\n",
       "    </tr>\n",
       "  </thead>\n",
       "  <tbody>\n",
       "    <tr>\n",
       "      <th>0</th>\n",
       "      <td>1500000US480019501001</td>\n",
       "      <td>3</td>\n",
       "      <td>15</td>\n",
       "    </tr>\n",
       "    <tr>\n",
       "      <th>1</th>\n",
       "      <td>1500000US480019501002</td>\n",
       "      <td>0</td>\n",
       "      <td>10</td>\n",
       "    </tr>\n",
       "    <tr>\n",
       "      <th>2</th>\n",
       "      <td>1500000US480019501003</td>\n",
       "      <td>20</td>\n",
       "      <td>0</td>\n",
       "    </tr>\n",
       "    <tr>\n",
       "      <th>3</th>\n",
       "      <td>1500000US480019504011</td>\n",
       "      <td>0</td>\n",
       "      <td>0</td>\n",
       "    </tr>\n",
       "    <tr>\n",
       "      <th>4</th>\n",
       "      <td>1500000US480019504021</td>\n",
       "      <td>0</td>\n",
       "      <td>0</td>\n",
       "    </tr>\n",
       "    <tr>\n",
       "      <th>...</th>\n",
       "      <td>...</td>\n",
       "      <td>...</td>\n",
       "      <td>...</td>\n",
       "    </tr>\n",
       "    <tr>\n",
       "      <th>18633</th>\n",
       "      <td>1500000US485079503021</td>\n",
       "      <td>20</td>\n",
       "      <td>0</td>\n",
       "    </tr>\n",
       "    <tr>\n",
       "      <th>18634</th>\n",
       "      <td>1500000US485079503022</td>\n",
       "      <td>0</td>\n",
       "      <td>0</td>\n",
       "    </tr>\n",
       "    <tr>\n",
       "      <th>18635</th>\n",
       "      <td>1500000US485079503023</td>\n",
       "      <td>11</td>\n",
       "      <td>0</td>\n",
       "    </tr>\n",
       "    <tr>\n",
       "      <th>18636</th>\n",
       "      <td>1500000US485079503024</td>\n",
       "      <td>10</td>\n",
       "      <td>0</td>\n",
       "    </tr>\n",
       "    <tr>\n",
       "      <th>18637</th>\n",
       "      <td>1500000US485079503025</td>\n",
       "      <td>0</td>\n",
       "      <td>30</td>\n",
       "    </tr>\n",
       "  </tbody>\n",
       "</table>\n",
       "<p>18638 rows × 3 columns</p>\n",
       "</div>"
      ],
      "text/plain": [
       "                   Geo Index  Owner Occupied Households No Vehicle  \\\n",
       "0      1500000US480019501001                                     3   \n",
       "1      1500000US480019501002                                     0   \n",
       "2      1500000US480019501003                                    20   \n",
       "3      1500000US480019504011                                     0   \n",
       "4      1500000US480019504021                                     0   \n",
       "...                      ...                                   ...   \n",
       "18633  1500000US485079503021                                    20   \n",
       "18634  1500000US485079503022                                     0   \n",
       "18635  1500000US485079503023                                    11   \n",
       "18636  1500000US485079503024                                    10   \n",
       "18637  1500000US485079503025                                     0   \n",
       "\n",
       "       Renter Occupied Households No Vehicle  \n",
       "0                                         15  \n",
       "1                                         10  \n",
       "2                                          0  \n",
       "3                                          0  \n",
       "4                                          0  \n",
       "...                                      ...  \n",
       "18633                                      0  \n",
       "18634                                      0  \n",
       "18635                                      0  \n",
       "18636                                      0  \n",
       "18637                                     30  \n",
       "\n",
       "[18638 rows x 3 columns]"
      ]
     },
     "execution_count": 22,
     "metadata": {},
     "output_type": "execute_result"
    }
   ],
   "source": [
    "vehiclesdf"
   ]
  },
  {
   "cell_type": "code",
   "execution_count": 24,
   "id": "4a2d578b",
   "metadata": {},
   "outputs": [],
   "source": [
    "#Fast food locations for locating food swamps\n",
    "ffurl = 'https://drive.google.com/file/d/1i16keSSE16ysh0g2q_0hwgIBrzPI2zZ2/view?usp=share_link'\n",
    "ffurl='https://drive.usercontent.google.com/download?id={}&export=download&authuser=0&confirm=t'.format(ffurl.split('/')[-2])\n",
    "ffdf = pd.read_csv(ffurl)\n",
    "ffdf = ffdf[['city', 'province', 'country', 'latitude', 'longitude']]\n",
    "ffdf = ffdf[(ffdf['country'] == 'US') & (ffdf['province'] == 'TX')]\n",
    "ffdf = ffdf[['latitude', 'longitude']]"
   ]
  },
  {
   "cell_type": "code",
   "execution_count": 25,
   "id": "f9fae221",
   "metadata": {},
   "outputs": [
    {
     "data": {
      "application/vnd.microsoft.datawrangler.viewer.v0+json": {
       "columns": [
        {
         "name": "index",
         "rawType": "int64",
         "type": "integer"
        },
        {
         "name": "latitude",
         "rawType": "float64",
         "type": "float"
        },
        {
         "name": "longitude",
         "rawType": "float64",
         "type": "float"
        }
       ],
       "conversionMethod": "pd.DataFrame",
       "ref": "9cf2c8e6-bb5d-4393-a133-3d1d19cbb3b5",
       "rows": [
        [
         "253",
         "33.46667",
         "-94.04323"
        ],
        [
         "515",
         "30.555157",
         "-97.691696"
        ],
        [
         "516",
         "29.52078",
         "-95.07678"
        ],
        [
         "1505",
         "31.84044",
         "-106.57289"
        ],
        [
         "1508",
         "31.8831",
         "-106.58329"
        ],
        [
         "1509",
         "31.99751",
         "-106.58069"
        ],
        [
         "1674",
         "27.76237",
         "-98.23323"
        ],
        [
         "1675",
         "29.38255",
         "-98.61337"
        ],
        [
         "1676",
         "33.39245",
         "-97.72986"
        ],
        [
         "1678",
         "30.13561",
         "-96.2559"
        ],
        [
         "1680",
         "30.02808",
         "-94.59623"
        ],
        [
         "1681",
         "30.04512",
         "-94.88775"
        ],
        [
         "1683",
         "31.54343",
         "-96.83127"
        ],
        [
         "1685",
         "32.86398",
         "-96.65062"
        ],
        [
         "1686",
         "32.9333",
         "-96.68217"
        ],
        [
         "1687",
         "32.85724",
         "-96.64467"
        ],
        [
         "1688",
         "31.42089",
         "-94.80544"
        ],
        [
         "1689",
         "29.9048",
         "-96.91043"
        ],
        [
         "1691",
         "29.28968",
         "-94.78946"
        ],
        [
         "1696",
         "29.99837",
         "-95.1769"
        ],
        [
         "1697",
         "26.29332",
         "-97.99222"
        ],
        [
         "1699",
         "32.52232",
         "-96.66432"
        ],
        [
         "1700",
         "26.421545",
         "-99.00248"
        ],
        [
         "1701",
         "30.11478",
         "-94.6455"
        ],
        [
         "1707",
         "32.83232",
         "-96.61277"
        ],
        [
         "1708",
         "32.76391",
         "-96.58204"
        ],
        [
         "1715",
         "32.72699",
         "-97.8258"
        ],
        [
         "1716",
         "32.73289",
         "-97.78682"
        ],
        [
         "1718",
         "29.55486",
         "-95.39116"
        ],
        [
         "1719",
         "29.87754",
         "-97.94521"
        ],
        [
         "1722",
         "33.10106",
         "-96.80588"
        ],
        [
         "1724",
         "31.33577",
         "-94.71771"
        ],
        [
         "1730",
         "29.68866",
         "-98.1277"
        ],
        [
         "1733",
         "30.63309",
         "-96.32877"
        ],
        [
         "1745",
         "29.64992",
         "-95.16685"
        ],
        [
         "1746",
         "29.7812",
         "-94.97721"
        ],
        [
         "1747",
         "29.39496",
         "-94.93486"
        ],
        [
         "1750",
         "30.20638",
         "-95.46265"
        ],
        [
         "1755",
         "31.52533",
         "-97.13177"
        ],
        [
         "1756",
         "33.88511",
         "-98.48957"
        ],
        [
         "1757",
         "32.51575",
         "-94.7393"
        ],
        [
         "1761",
         "31.11042",
         "-97.74774"
        ],
        [
         "1765",
         "27.61045",
         "-99.47233"
        ],
        [
         "1766",
         "27.57483",
         "-99.47289"
        ],
        [
         "1767",
         "32.03608",
         "-102.1228"
        ],
        [
         "1770",
         "27.70921",
         "-97.36312"
        ],
        [
         "1771",
         "32.75882",
         "-97.11512"
        ],
        [
         "1781",
         "26.17314",
         "-98.00703"
        ],
        [
         "1800",
         "29.70698",
         "-95.40232"
        ],
        [
         "2937",
         "29.400708",
         "-95.036146"
        ]
       ],
       "shape": {
        "columns": 2,
        "rows": 426
       }
      },
      "text/html": [
       "<div>\n",
       "<style scoped>\n",
       "    .dataframe tbody tr th:only-of-type {\n",
       "        vertical-align: middle;\n",
       "    }\n",
       "\n",
       "    .dataframe tbody tr th {\n",
       "        vertical-align: top;\n",
       "    }\n",
       "\n",
       "    .dataframe thead th {\n",
       "        text-align: right;\n",
       "    }\n",
       "</style>\n",
       "<table border=\"1\" class=\"dataframe\">\n",
       "  <thead>\n",
       "    <tr style=\"text-align: right;\">\n",
       "      <th></th>\n",
       "      <th>latitude</th>\n",
       "      <th>longitude</th>\n",
       "    </tr>\n",
       "  </thead>\n",
       "  <tbody>\n",
       "    <tr>\n",
       "      <th>253</th>\n",
       "      <td>33.466670</td>\n",
       "      <td>-94.043230</td>\n",
       "    </tr>\n",
       "    <tr>\n",
       "      <th>515</th>\n",
       "      <td>30.555157</td>\n",
       "      <td>-97.691696</td>\n",
       "    </tr>\n",
       "    <tr>\n",
       "      <th>516</th>\n",
       "      <td>29.520780</td>\n",
       "      <td>-95.076780</td>\n",
       "    </tr>\n",
       "    <tr>\n",
       "      <th>1505</th>\n",
       "      <td>31.840440</td>\n",
       "      <td>-106.572890</td>\n",
       "    </tr>\n",
       "    <tr>\n",
       "      <th>1508</th>\n",
       "      <td>31.883100</td>\n",
       "      <td>-106.583290</td>\n",
       "    </tr>\n",
       "    <tr>\n",
       "      <th>...</th>\n",
       "      <td>...</td>\n",
       "      <td>...</td>\n",
       "    </tr>\n",
       "    <tr>\n",
       "      <th>9940</th>\n",
       "      <td>32.575938</td>\n",
       "      <td>-96.671489</td>\n",
       "    </tr>\n",
       "    <tr>\n",
       "      <th>9942</th>\n",
       "      <td>32.473080</td>\n",
       "      <td>-100.400862</td>\n",
       "    </tr>\n",
       "    <tr>\n",
       "      <th>9965</th>\n",
       "      <td>32.576925</td>\n",
       "      <td>-96.309464</td>\n",
       "    </tr>\n",
       "    <tr>\n",
       "      <th>9977</th>\n",
       "      <td>29.802502</td>\n",
       "      <td>-95.487346</td>\n",
       "    </tr>\n",
       "    <tr>\n",
       "      <th>9993</th>\n",
       "      <td>32.661820</td>\n",
       "      <td>-96.908570</td>\n",
       "    </tr>\n",
       "  </tbody>\n",
       "</table>\n",
       "<p>426 rows × 2 columns</p>\n",
       "</div>"
      ],
      "text/plain": [
       "       latitude   longitude\n",
       "253   33.466670  -94.043230\n",
       "515   30.555157  -97.691696\n",
       "516   29.520780  -95.076780\n",
       "1505  31.840440 -106.572890\n",
       "1508  31.883100 -106.583290\n",
       "...         ...         ...\n",
       "9940  32.575938  -96.671489\n",
       "9942  32.473080 -100.400862\n",
       "9965  32.576925  -96.309464\n",
       "9977  29.802502  -95.487346\n",
       "9993  32.661820  -96.908570\n",
       "\n",
       "[426 rows x 2 columns]"
      ]
     },
     "execution_count": 25,
     "metadata": {},
     "output_type": "execute_result"
    }
   ],
   "source": [
    "ffdf"
   ]
  },
  {
   "cell_type": "code",
   "execution_count": 75,
   "id": "72fbe9d2",
   "metadata": {},
   "outputs": [],
   "source": [
    "#SNAP Retailers\n",
    "snapurl = 'https://drive.google.com/file/d/1v9l5GSJdfdGWU7by6trpF6GQK9yPfAp8/view?usp=share_link'\n",
    "snapurl='https://drive.usercontent.google.com/download?id={}&export=download&authuser=0&confirm=t'.format(snapurl.split('/')[-2])\n",
    "snapdf = pd.read_csv(snapurl, encoding='latin1')\n",
    "snapdf = snapdf[(snapdf['State'] == 'TX')]\n",
    "snapdf['Authorization Date'] = pd.to_datetime(snapdf['Authorization Date'])\n",
    "snapdf = snapdf.replace(\"\", None)\n",
    "snapdf = snapdf.replace(\" \", None)\n",
    "snapdf['End Date'] = pd.to_datetime(snapdf['End Date'])\n",
    "snapdf = snapdf[(snapdf['Authorization Date'].dt.year <= 2023) & ((snapdf['End Date'].dt.year >= 2023) | snapdf['End Date'].isnull())]\n",
    "snapdf = snapdf[~snapdf['Store Name'].str.lower().str.contains('costco wholesale')]\n",
    "snapdf = snapdf[~(snapdf['Store Name'].str.lower().str.contains(\"sam's club\"))]\n",
    "snapdf = snapdf[~(snapdf['Store Type'].str.lower().str.contains(\"military commissary\"))]\n",
    "snapdf = snapdf[snapdf['Store Type'].isin(['Supermarket', 'Large Grocery Store', 'Super Store'])]\n",
    "snapdf = snapdf[['Store Type', 'Latitude', 'Longitude']]"
   ]
  },
  {
   "cell_type": "code",
   "execution_count": 76,
   "id": "7ff2376c",
   "metadata": {},
   "outputs": [
    {
     "data": {
      "application/vnd.microsoft.datawrangler.viewer.v0+json": {
       "columns": [
        {
         "name": "index",
         "rawType": "int64",
         "type": "integer"
        },
        {
         "name": "Store Type",
         "rawType": "object",
         "type": "string"
        },
        {
         "name": "Latitude",
         "rawType": "float64",
         "type": "float"
        },
        {
         "name": "Longitude",
         "rawType": "float64",
         "type": "float"
        }
       ],
       "conversionMethod": "pd.DataFrame",
       "ref": "4b58ea62-74ad-46c2-ab79-2bcd5c952647",
       "rows": [
        [
         "819403",
         "Supermarket",
         "31.50773",
         "-95.4761"
        ],
        [
         "819404",
         "Supermarket",
         "31.73475",
         "-95.61121"
        ],
        [
         "819468",
         "Large Grocery Store",
         "31.77138",
         "-95.62876"
        ],
        [
         "819469",
         "Large Grocery Store",
         "31.77685",
         "-95.61826"
        ],
        [
         "819470",
         "Large Grocery Store",
         "31.74482",
         "-95.65524"
        ],
        [
         "819471",
         "Large Grocery Store",
         "31.62736",
         "-95.57532"
        ],
        [
         "819472",
         "Large Grocery Store",
         "31.73718",
         "-95.6091"
        ],
        [
         "819474",
         "Large Grocery Store",
         "31.72849",
         "-95.5998"
        ],
        [
         "819475",
         "Large Grocery Store",
         "32.06241",
         "-95.50245"
        ],
        [
         "819476",
         "Large Grocery Store",
         "31.78858",
         "-95.67265"
        ],
        [
         "819480",
         "Super Store",
         "31.76175",
         "-95.62906"
        ],
        [
         "819534",
         "Supermarket",
         "32.05153",
         "-95.50046"
        ],
        [
         "819553",
         "Super Store",
         "31.73401",
         "-95.61624"
        ],
        [
         "819581",
         "Supermarket",
         "32.33097",
         "-102.5517"
        ],
        [
         "819583",
         "Super Store",
         "32.33097",
         "-102.5517"
        ],
        [
         "819634",
         "Super Store",
         "31.33314",
         "-94.71811"
        ],
        [
         "819635",
         "Super Store",
         "31.18625",
         "-94.78182"
        ],
        [
         "819636",
         "Super Store",
         "31.33201",
         "-94.75436"
        ],
        [
         "819637",
         "Super Store",
         "31.26606",
         "-94.56929"
        ],
        [
         "819638",
         "Super Store",
         "31.34655",
         "-94.71974"
        ],
        [
         "819710",
         "Supermarket",
         "31.33663",
         "-94.71775"
        ],
        [
         "819736",
         "Supermarket",
         "31.34568",
         "-94.72264"
        ],
        [
         "819834",
         "Super Store",
         "31.31319",
         "-94.71955"
        ],
        [
         "819844",
         "Super Store",
         "31.29953",
         "-94.73144"
        ],
        [
         "819846",
         "Large Grocery Store",
         "31.35343",
         "-94.72332"
        ],
        [
         "819912",
         "Supermarket",
         "28.03809",
         "-97.04255"
        ],
        [
         "819958",
         "Super Store",
         "28.04791",
         "-97.04247"
        ],
        [
         "820072",
         "Large Grocery Store",
         "28.94104",
         "-98.51743"
        ],
        [
         "820078",
         "Supermarket",
         "28.95708",
         "-98.48559"
        ],
        [
         "820080",
         "Supermarket",
         "29.23532",
         "-98.79144"
        ],
        [
         "820102",
         "Large Grocery Store",
         "28.92139",
         "-98.54127"
        ],
        [
         "820103",
         "Large Grocery Store",
         "29.04045",
         "-98.58401"
        ],
        [
         "820183",
         "Super Store",
         "28.93943",
         "-98.51392"
        ],
        [
         "820206",
         "Supermarket",
         "29.78082",
         "-96.15626"
        ],
        [
         "820207",
         "Super Store",
         "29.93948",
         "-96.2512"
        ],
        [
         "820309",
         "Super Store",
         "29.75872",
         "-96.1508"
        ],
        [
         "820325",
         "Large Grocery Store",
         "34.2281",
         "-102.727"
        ],
        [
         "820334",
         "Supermarket",
         "34.23118",
         "-102.7321"
        ],
        [
         "820380",
         "Super Store",
         "29.72941",
         "-99.07658"
        ],
        [
         "820427",
         "Super Store",
         "30.01207",
         "-97.1625"
        ],
        [
         "820503",
         "Supermarket",
         "30.30661",
         "-97.29977"
        ],
        [
         "820504",
         "Supermarket",
         "30.10347",
         "-97.32504"
        ],
        [
         "820505",
         "Large Grocery Store",
         "30.02333",
         "-97.54055"
        ],
        [
         "820514",
         "Large Grocery Store",
         "30.1404",
         "-97.567"
        ],
        [
         "820564",
         "Supermarket",
         "30.3367",
         "-97.37254"
        ],
        [
         "820635",
         "Super Store",
         "30.1034",
         "-97.33256"
        ],
        [
         "820636",
         "Super Store",
         "30.35118",
         "-97.38768"
        ],
        [
         "820652",
         "Supermarket",
         "33.58916",
         "-99.26025"
        ],
        [
         "820700",
         "Supermarket",
         "28.4013",
         "-97.74731"
        ],
        [
         "820751",
         "Super Store",
         "28.42887",
         "-97.74419"
        ]
       ],
       "shape": {
        "columns": 3,
        "rows": 3102
       }
      },
      "text/html": [
       "<div>\n",
       "<style scoped>\n",
       "    .dataframe tbody tr th:only-of-type {\n",
       "        vertical-align: middle;\n",
       "    }\n",
       "\n",
       "    .dataframe tbody tr th {\n",
       "        vertical-align: top;\n",
       "    }\n",
       "\n",
       "    .dataframe thead th {\n",
       "        text-align: right;\n",
       "    }\n",
       "</style>\n",
       "<table border=\"1\" class=\"dataframe\">\n",
       "  <thead>\n",
       "    <tr style=\"text-align: right;\">\n",
       "      <th></th>\n",
       "      <th>Store Type</th>\n",
       "      <th>Latitude</th>\n",
       "      <th>Longitude</th>\n",
       "    </tr>\n",
       "  </thead>\n",
       "  <tbody>\n",
       "    <tr>\n",
       "      <th>819403</th>\n",
       "      <td>Supermarket</td>\n",
       "      <td>31.50773</td>\n",
       "      <td>-95.47610</td>\n",
       "    </tr>\n",
       "    <tr>\n",
       "      <th>819404</th>\n",
       "      <td>Supermarket</td>\n",
       "      <td>31.73475</td>\n",
       "      <td>-95.61121</td>\n",
       "    </tr>\n",
       "    <tr>\n",
       "      <th>819468</th>\n",
       "      <td>Large Grocery Store</td>\n",
       "      <td>31.77138</td>\n",
       "      <td>-95.62876</td>\n",
       "    </tr>\n",
       "    <tr>\n",
       "      <th>819469</th>\n",
       "      <td>Large Grocery Store</td>\n",
       "      <td>31.77685</td>\n",
       "      <td>-95.61826</td>\n",
       "    </tr>\n",
       "    <tr>\n",
       "      <th>819470</th>\n",
       "      <td>Large Grocery Store</td>\n",
       "      <td>31.74482</td>\n",
       "      <td>-95.65524</td>\n",
       "    </tr>\n",
       "    <tr>\n",
       "      <th>...</th>\n",
       "      <td>...</td>\n",
       "      <td>...</td>\n",
       "      <td>...</td>\n",
       "    </tr>\n",
       "    <tr>\n",
       "      <th>896854</th>\n",
       "      <td>Super Store</td>\n",
       "      <td>33.08250</td>\n",
       "      <td>-98.58324</td>\n",
       "    </tr>\n",
       "    <tr>\n",
       "      <th>896869</th>\n",
       "      <td>Large Grocery Store</td>\n",
       "      <td>26.91913</td>\n",
       "      <td>-99.25381</td>\n",
       "    </tr>\n",
       "    <tr>\n",
       "      <th>896930</th>\n",
       "      <td>Supermarket</td>\n",
       "      <td>26.90422</td>\n",
       "      <td>-99.26919</td>\n",
       "    </tr>\n",
       "    <tr>\n",
       "      <th>896947</th>\n",
       "      <td>Supermarket</td>\n",
       "      <td>26.89368</td>\n",
       "      <td>-99.26291</td>\n",
       "    </tr>\n",
       "    <tr>\n",
       "      <th>897012</th>\n",
       "      <td>Supermarket</td>\n",
       "      <td>28.68147</td>\n",
       "      <td>-99.82949</td>\n",
       "    </tr>\n",
       "  </tbody>\n",
       "</table>\n",
       "<p>3102 rows × 3 columns</p>\n",
       "</div>"
      ],
      "text/plain": [
       "                 Store Type  Latitude  Longitude\n",
       "819403          Supermarket  31.50773  -95.47610\n",
       "819404          Supermarket  31.73475  -95.61121\n",
       "819468  Large Grocery Store  31.77138  -95.62876\n",
       "819469  Large Grocery Store  31.77685  -95.61826\n",
       "819470  Large Grocery Store  31.74482  -95.65524\n",
       "...                     ...       ...        ...\n",
       "896854          Super Store  33.08250  -98.58324\n",
       "896869  Large Grocery Store  26.91913  -99.25381\n",
       "896930          Supermarket  26.90422  -99.26919\n",
       "896947          Supermarket  26.89368  -99.26291\n",
       "897012          Supermarket  28.68147  -99.82949\n",
       "\n",
       "[3102 rows x 3 columns]"
      ]
     },
     "execution_count": 76,
     "metadata": {},
     "output_type": "execute_result"
    }
   ],
   "source": [
    "snapdf"
   ]
  },
  {
   "cell_type": "code",
   "execution_count": 64,
   "id": "f3c8ec2a",
   "metadata": {},
   "outputs": [
    {
     "data": {
      "application/vnd.microsoft.datawrangler.viewer.v0+json": {
       "columns": [
        {
         "name": "index",
         "rawType": "int64",
         "type": "integer"
        },
        {
         "name": "Geo Index",
         "rawType": "object",
         "type": "string"
        },
        {
         "name": "Total Population",
         "rawType": "int64",
         "type": "integer"
        },
        {
         "name": "Area Name",
         "rawType": "object",
         "type": "string"
        },
        {
         "name": "Occupied Housing Units",
         "rawType": "int64",
         "type": "integer"
        },
        {
         "name": "Households Below Poverty Level",
         "rawType": "int64",
         "type": "integer"
        },
        {
         "name": "Households At or Above Poverty Level",
         "rawType": "int64",
         "type": "integer"
        },
        {
         "name": "Block Group Centroid Latitude",
         "rawType": "float64",
         "type": "float"
        },
        {
         "name": "Block Group Centroid Longitude",
         "rawType": "float64",
         "type": "float"
        },
        {
         "name": "Classification",
         "rawType": "object",
         "type": "string"
        },
        {
         "name": "Percent Poverty Level",
         "rawType": "float64",
         "type": "float"
        },
        {
         "name": "Households with No Vehicle Access",
         "rawType": "int64",
         "type": "integer"
        },
        {
         "name": "Percent No Vehicle Access",
         "rawType": "float64",
         "type": "float"
        }
       ],
       "conversionMethod": "pd.DataFrame",
       "ref": "b9f20313-f947-4150-8e3a-88cbca6321d3",
       "rows": [
        [
         "0",
         "1500000US480019501001",
         "1196",
         "Block Group 1; Census Tract 9501; Anderson County; Texas",
         "611",
         "70",
         "541",
         "32.06182793913827",
         "-95.49939390429856",
         "Rural",
         "0.11456628477905073",
         "18",
         "0.029459901800327332"
        ],
        [
         "1",
         "1500000US480019501002",
         "1962",
         "Block Group 2; Census Tract 9501; Anderson County; Texas",
         "839",
         "178",
         "661",
         "31.962628828031317",
         "-95.49646503619488",
         "Rural",
         "0.21215733015494637",
         "10",
         "0.011918951132300357"
        ],
        [
         "2",
         "1500000US480019501003",
         "1483",
         "Block Group 3; Census Tract 9501; Anderson County; Texas",
         "477",
         "62",
         "415",
         "31.974467609560637",
         "-95.61224651786868",
         "Rural",
         "0.129979035639413",
         "20",
         "0.041928721174004195"
        ],
        [
         "3",
         "1500000US480019504011",
         "5782",
         "Block Group 1; Census Tract 9504.01; Anderson County; Texas",
         "26",
         "0",
         "26",
         "31.73760162965893",
         "-95.8202613333633",
         "Rural",
         "0.0",
         "0",
         "0.0"
        ],
        [
         "4",
         "1500000US480019504021",
         "7115",
         "Block Group 1; Census Tract 9504.02; Anderson County; Texas",
         "0",
         "0",
         "0",
         "31.797573257990102",
         "-95.91525506324443",
         "Rural",
         null,
         "0",
         null
        ],
        [
         "5",
         "1500000US480019505001",
         "733",
         "Block Group 1; Census Tract 9505; Anderson County; Texas",
         "169",
         "0",
         "169",
         "31.782395098996606",
         "-95.61222468404816",
         "Urban",
         "0.0",
         "0",
         "0.0"
        ],
        [
         "6",
         "1500000US480019505002",
         "470",
         "Block Group 2; Census Tract 9505; Anderson County; Texas",
         "208",
         "122",
         "86",
         "31.76906404366501",
         "-95.61623789356044",
         "Urban",
         "0.5865384615384616",
         "55",
         "0.2644230769230769"
        ],
        [
         "7",
         "1500000US480019505003",
         "1964",
         "Block Group 3; Census Tract 9505; Anderson County; Texas",
         "515",
         "75",
         "440",
         "31.78090475404665",
         "-95.62792159703713",
         "Urban",
         "0.14563106796116504",
         "23",
         "0.04466019417475728"
        ],
        [
         "8",
         "1500000US480019505004",
         "1312",
         "Block Group 4; Census Tract 9505; Anderson County; Texas",
         "533",
         "53",
         "480",
         "31.793269805536273",
         "-95.65379102849785",
         "Urban",
         "0.09943714821763602",
         "47",
         "0.08818011257035648"
        ],
        [
         "9",
         "1500000US480019506001",
         "1797",
         "Block Group 1; Census Tract 9506; Anderson County; Texas",
         "580",
         "367",
         "213",
         "31.76591915007957",
         "-95.66546159470704",
         "Urban",
         "0.6327586206896552",
         "176",
         "0.30344827586206896"
        ],
        [
         "10",
         "1500000US480019506002",
         "1485",
         "Block Group 2; Census Tract 9506; Anderson County; Texas",
         "675",
         "71",
         "604",
         "31.729636161493552",
         "-95.68835087274603",
         "Urban",
         "0.10518518518518519",
         "0",
         "0.0"
        ],
        [
         "11",
         "1500000US480019506003",
         "1426",
         "Block Group 3; Census Tract 9506; Anderson County; Texas",
         "294",
         "33",
         "261",
         "31.74657745368857",
         "-95.6532489557333",
         "Urban",
         "0.11224489795918367",
         "20",
         "0.06802721088435375"
        ],
        [
         "12",
         "1500000US480019506004",
         "1328",
         "Block Group 4; Census Tract 9506; Anderson County; Texas",
         "399",
         "67",
         "332",
         "31.739840186682866",
         "-95.66869040895033",
         "Urban",
         "0.16791979949874686",
         "37",
         "0.09273182957393483"
        ],
        [
         "13",
         "1500000US480019507001",
         "905",
         "Block Group 1; Census Tract 9507; Anderson County; Texas",
         "347",
         "63",
         "284",
         "31.74334610061417",
         "-95.63528560803728",
         "Urban",
         "0.18155619596541786",
         "89",
         "0.2564841498559078"
        ],
        [
         "14",
         "1500000US480019507002",
         "661",
         "Block Group 2; Census Tract 9507; Anderson County; Texas",
         "204",
         "56",
         "148",
         "31.756316145955562",
         "-95.6407107250429",
         "Urban",
         "0.27450980392156865",
         "4",
         "0.0196078431372549"
        ],
        [
         "15",
         "1500000US480019507003",
         "998",
         "Block Group 3; Census Tract 9507; Anderson County; Texas",
         "177",
         "48",
         "129",
         "31.759584210675786",
         "-95.62895554631564",
         "Urban",
         "0.2711864406779661",
         "2",
         "0.011299435028248588"
        ],
        [
         "16",
         "1500000US480019508001",
         "1468",
         "Block Group 1; Census Tract 9508; Anderson County; Texas",
         "994",
         "0",
         "994",
         "31.72530328376579",
         "-95.61576284004232",
         "Urban",
         "0.0",
         "26",
         "0.026156941649899398"
        ],
        [
         "17",
         "1500000US480019508002",
         "1288",
         "Block Group 2; Census Tract 9508; Anderson County; Texas",
         "600",
         "274",
         "326",
         "31.74272600360919",
         "-95.61056526221317",
         "Urban",
         "0.45666666666666667",
         "4",
         "0.006666666666666667"
        ],
        [
         "18",
         "1500000US480019508003",
         "1146",
         "Block Group 3; Census Tract 9508; Anderson County; Texas",
         "493",
         "44",
         "449",
         "31.758535907434002",
         "-95.61830803549925",
         "Urban",
         "0.08924949290060852",
         "161",
         "0.3265720081135903"
        ],
        [
         "19",
         "1500000US480019508004",
         "822",
         "Block Group 4; Census Tract 9508; Anderson County; Texas",
         "272",
         "0",
         "272",
         "31.752738078980347",
         "-95.6197910321178",
         "Urban",
         "0.0",
         "0",
         "0.0"
        ],
        [
         "20",
         "1500000US480019508005",
         "703",
         "Block Group 5; Census Tract 9508; Anderson County; Texas",
         "360",
         "0",
         "360",
         "31.747861911305968",
         "-95.61743536467183",
         "Urban",
         "0.0",
         "14",
         "0.03888888888888889"
        ],
        [
         "21",
         "1500000US480019509011",
         "1148",
         "Block Group 1; Census Tract 9509.01; Anderson County; Texas",
         "394",
         "46",
         "348",
         "31.67016100276574",
         "-95.71984828388157",
         "Rural",
         "0.116751269035533",
         "68",
         "0.17258883248730963"
        ],
        [
         "22",
         "1500000US480019509012",
         "756",
         "Block Group 2; Census Tract 9509.01; Anderson County; Texas",
         "200",
         "36",
         "164",
         "31.700135784718796",
         "-95.63173422560027",
         "Rural",
         "0.18",
         "0",
         "0.0"
        ],
        [
         "23",
         "1500000US480019509013",
         "613",
         "Block Group 3; Census Tract 9509.01; Anderson County; Texas",
         "424",
         "59",
         "365",
         "31.70089753251119",
         "-95.74711286896806",
         "Rural",
         "0.1391509433962264",
         "0",
         "0.0"
        ],
        [
         "24",
         "1500000US480019509014",
         "2764",
         "Block Group 4; Census Tract 9509.01; Anderson County; Texas",
         "679",
         "116",
         "563",
         "31.754030708716616",
         "-95.76574681471219",
         "Rural",
         "0.17083946980854198",
         "13",
         "0.01914580265095729"
        ],
        [
         "25",
         "1500000US480019509021",
         "1063",
         "Block Group 1; Census Tract 9509.02; Anderson County; Texas",
         "250",
         "36",
         "214",
         "31.727097081723922",
         "-95.46116959343573",
         "Rural",
         "0.144",
         "0",
         "0.0"
        ],
        [
         "26",
         "1500000US480019509022",
         "1734",
         "Block Group 2; Census Tract 9509.02; Anderson County; Texas",
         "834",
         "102",
         "732",
         "31.800856396546024",
         "-95.49594952121093",
         "Rural",
         "0.1223021582733813",
         "29",
         "0.03477218225419664"
        ],
        [
         "27",
         "1500000US480019509023",
         "899",
         "Block Group 3; Census Tract 9509.02; Anderson County; Texas",
         "345",
         "0",
         "345",
         "31.840435798875067",
         "-95.66275925434549",
         "Rural",
         "0.0",
         "0",
         "0.0"
        ],
        [
         "28",
         "1500000US480019509024",
         "1394",
         "Block Group 4; Census Tract 9509.02; Anderson County; Texas",
         "634",
         "38",
         "596",
         "31.840079692671946",
         "-95.57843607936618",
         "Rural",
         "0.05993690851735016",
         "161",
         "0.2539432176656151"
        ],
        [
         "29",
         "1500000US480019510011",
         "1367",
         "Block Group 1; Census Tract 9510.01; Anderson County; Texas",
         "487",
         "62",
         "425",
         "31.631664331206185",
         "-95.38259941534162",
         "Rural",
         "0.1273100616016427",
         "3",
         "0.006160164271047228"
        ],
        [
         "30",
         "1500000US480019510012",
         "2251",
         "Block Group 2; Census Tract 9510.01; Anderson County; Texas",
         "977",
         "121",
         "856",
         "31.663480723113533",
         "-95.51236008015488",
         "Rural",
         "0.12384851586489252",
         "8",
         "0.008188331627430911"
        ],
        [
         "31",
         "1500000US480019510021",
         "780",
         "Block Group 1; Census Tract 9510.02; Anderson County; Texas",
         "195",
         "12",
         "183",
         "31.656366471218195",
         "-95.62385176243984",
         "Rural",
         "0.06153846153846154",
         "12",
         "0.06153846153846154"
        ],
        [
         "32",
         "1500000US480019510022",
         "1338",
         "Block Group 2; Census Tract 9510.02; Anderson County; Texas",
         "524",
         "48",
         "476",
         "31.578811462384564",
         "-95.64382596684145",
         "Rural",
         "0.0916030534351145",
         "0",
         "0.0"
        ],
        [
         "33",
         "1500000US480019510023",
         "644",
         "Block Group 3; Census Tract 9510.02; Anderson County; Texas",
         "270",
         "66",
         "204",
         "31.60997258147747",
         "-95.58573010822398",
         "Rural",
         "0.24444444444444444",
         "28",
         "0.1037037037037037"
        ],
        [
         "34",
         "1500000US480019510024",
         "739",
         "Block Group 4; Census Tract 9510.02; Anderson County; Texas",
         "307",
         "69",
         "238",
         "31.623077933511716",
         "-95.57084006918113",
         "Rural",
         "0.2247557003257329",
         "0",
         "0.0"
        ],
        [
         "35",
         "1500000US480019511001",
         "1872",
         "Block Group 1; Census Tract 9511; Anderson County; Texas",
         "753",
         "79",
         "674",
         "31.965786864716314",
         "-95.76114796937682",
         "Rural",
         "0.1049136786188579",
         "0",
         "0.0"
        ],
        [
         "36",
         "1500000US480019511002",
         "817",
         "Block Group 2; Census Tract 9511; Anderson County; Texas",
         "368",
         "160",
         "208",
         "31.937094757570133",
         "-95.94939798485709",
         "Rural",
         "0.43478260869565216",
         "45",
         "0.12228260869565218"
        ],
        [
         "37",
         "1500000US480019511003",
         "1065",
         "Block Group 3; Census Tract 9511; Anderson County; Texas",
         "392",
         "38",
         "354",
         "31.820614931075568",
         "-95.78991673038297",
         "Rural",
         "0.09693877551020408",
         "10",
         "0.025510204081632654"
        ],
        [
         "38",
         "1500000US480019511004",
         "634",
         "Block Group 4; Census Tract 9511; Anderson County; Texas",
         "336",
         "49",
         "287",
         "31.873702284029264",
         "-95.8292091850966",
         "Rural",
         "0.14583333333333334",
         "5",
         "0.01488095238095238"
        ],
        [
         "39",
         "1500000US480039501001",
         "2405",
         "Block Group 1; Census Tract 9501; Andrews County; Texas",
         "741",
         "72",
         "669",
         "32.3587258616446",
         "-102.71668513481137",
         "Urban",
         "0.09716599190283401",
         "17",
         "0.022941970310391364"
        ],
        [
         "40",
         "1500000US480039502001",
         "1749",
         "Block Group 1; Census Tract 9502; Andrews County; Texas",
         "528",
         "113",
         "415",
         "32.33340260752156",
         "-102.54409132893808",
         "Urban",
         "0.21401515151515152",
         "0",
         "0.0"
        ],
        [
         "41",
         "1500000US480039502002",
         "1130",
         "Block Group 2; Census Tract 9502; Andrews County; Texas",
         "314",
         "13",
         "301",
         "32.32704540089018",
         "-102.54229958222781",
         "Urban",
         "0.041401273885350316",
         "0",
         "0.0"
        ],
        [
         "42",
         "1500000US480039502003",
         "2011",
         "Block Group 3; Census Tract 9502; Andrews County; Texas",
         "735",
         "326",
         "409",
         "32.32890274177889",
         "-102.55387502727977",
         "Urban",
         "0.4435374149659864",
         "33",
         "0.044897959183673466"
        ],
        [
         "43",
         "1500000US480039502004",
         "910",
         "Block Group 4; Census Tract 9502; Andrews County; Texas",
         "560",
         "4",
         "556",
         "32.32477029744055",
         "-102.56476298414407",
         "Urban",
         "0.007142857142857143",
         "0",
         "0.0"
        ],
        [
         "44",
         "1500000US480039502005",
         "1105",
         "Block Group 5; Census Tract 9502; Andrews County; Texas",
         "327",
         "67",
         "260",
         "32.32953923548761",
         "-102.56572330030815",
         "Urban",
         "0.20489296636085627",
         "0",
         "0.0"
        ],
        [
         "45",
         "1500000US480039502006",
         "805",
         "Block Group 6; Census Tract 9502; Andrews County; Texas",
         "353",
         "40",
         "313",
         "32.319667061502805",
         "-102.56310319572306",
         "Urban",
         "0.11331444759206799",
         "25",
         "0.0708215297450425"
        ],
        [
         "46",
         "1500000US480039503001",
         "2310",
         "Block Group 1; Census Tract 9503; Andrews County; Texas",
         "795",
         "74",
         "721",
         "32.31205800270301",
         "-102.54508676974169",
         "Urban",
         "0.0930817610062893",
         "23",
         "0.028930817610062894"
        ],
        [
         "47",
         "1500000US480039503002",
         "1662",
         "Block Group 2; Census Tract 9503; Andrews County; Texas",
         "980",
         "112",
         "868",
         "32.31608563328516",
         "-102.5567800770725",
         "Urban",
         "0.11428571428571428",
         "21",
         "0.02142857142857143"
        ],
        [
         "48",
         "1500000US480039503003",
         "696",
         "Block Group 3; Census Tract 9503; Andrews County; Texas",
         "153",
         "12",
         "141",
         "32.3215534633565",
         "-102.54438207020274",
         "Urban",
         "0.0784313725490196",
         "0",
         "0.0"
        ],
        [
         "49",
         "1500000US480039504001",
         "2249",
         "Block Group 1; Census Tract 9504; Andrews County; Texas",
         "860",
         "63",
         "797",
         "32.31597965087348",
         "-102.47987165630911",
         "Rural",
         "0.07325581395348837",
         "37",
         "0.04302325581395349"
        ]
       ],
       "shape": {
        "columns": 12,
        "rows": 18638
       }
      },
      "text/html": [
       "<div>\n",
       "<style scoped>\n",
       "    .dataframe tbody tr th:only-of-type {\n",
       "        vertical-align: middle;\n",
       "    }\n",
       "\n",
       "    .dataframe tbody tr th {\n",
       "        vertical-align: top;\n",
       "    }\n",
       "\n",
       "    .dataframe thead th {\n",
       "        text-align: right;\n",
       "    }\n",
       "</style>\n",
       "<table border=\"1\" class=\"dataframe\">\n",
       "  <thead>\n",
       "    <tr style=\"text-align: right;\">\n",
       "      <th></th>\n",
       "      <th>Geo Index</th>\n",
       "      <th>Total Population</th>\n",
       "      <th>Area Name</th>\n",
       "      <th>Occupied Housing Units</th>\n",
       "      <th>Households Below Poverty Level</th>\n",
       "      <th>Households At or Above Poverty Level</th>\n",
       "      <th>Block Group Centroid Latitude</th>\n",
       "      <th>Block Group Centroid Longitude</th>\n",
       "      <th>Classification</th>\n",
       "      <th>Percent Poverty Level</th>\n",
       "      <th>Households with No Vehicle Access</th>\n",
       "      <th>Percent No Vehicle Access</th>\n",
       "    </tr>\n",
       "  </thead>\n",
       "  <tbody>\n",
       "    <tr>\n",
       "      <th>0</th>\n",
       "      <td>1500000US480019501001</td>\n",
       "      <td>1196</td>\n",
       "      <td>Block Group 1; Census Tract 9501; Anderson Cou...</td>\n",
       "      <td>611</td>\n",
       "      <td>70</td>\n",
       "      <td>541</td>\n",
       "      <td>32.061828</td>\n",
       "      <td>-95.499394</td>\n",
       "      <td>Rural</td>\n",
       "      <td>0.114566</td>\n",
       "      <td>18</td>\n",
       "      <td>0.029460</td>\n",
       "    </tr>\n",
       "    <tr>\n",
       "      <th>1</th>\n",
       "      <td>1500000US480019501002</td>\n",
       "      <td>1962</td>\n",
       "      <td>Block Group 2; Census Tract 9501; Anderson Cou...</td>\n",
       "      <td>839</td>\n",
       "      <td>178</td>\n",
       "      <td>661</td>\n",
       "      <td>31.962629</td>\n",
       "      <td>-95.496465</td>\n",
       "      <td>Rural</td>\n",
       "      <td>0.212157</td>\n",
       "      <td>10</td>\n",
       "      <td>0.011919</td>\n",
       "    </tr>\n",
       "    <tr>\n",
       "      <th>2</th>\n",
       "      <td>1500000US480019501003</td>\n",
       "      <td>1483</td>\n",
       "      <td>Block Group 3; Census Tract 9501; Anderson Cou...</td>\n",
       "      <td>477</td>\n",
       "      <td>62</td>\n",
       "      <td>415</td>\n",
       "      <td>31.974468</td>\n",
       "      <td>-95.612247</td>\n",
       "      <td>Rural</td>\n",
       "      <td>0.129979</td>\n",
       "      <td>20</td>\n",
       "      <td>0.041929</td>\n",
       "    </tr>\n",
       "    <tr>\n",
       "      <th>3</th>\n",
       "      <td>1500000US480019504011</td>\n",
       "      <td>5782</td>\n",
       "      <td>Block Group 1; Census Tract 9504.01; Anderson ...</td>\n",
       "      <td>26</td>\n",
       "      <td>0</td>\n",
       "      <td>26</td>\n",
       "      <td>31.737602</td>\n",
       "      <td>-95.820261</td>\n",
       "      <td>Rural</td>\n",
       "      <td>0.000000</td>\n",
       "      <td>0</td>\n",
       "      <td>0.000000</td>\n",
       "    </tr>\n",
       "    <tr>\n",
       "      <th>4</th>\n",
       "      <td>1500000US480019504021</td>\n",
       "      <td>7115</td>\n",
       "      <td>Block Group 1; Census Tract 9504.02; Anderson ...</td>\n",
       "      <td>0</td>\n",
       "      <td>0</td>\n",
       "      <td>0</td>\n",
       "      <td>31.797573</td>\n",
       "      <td>-95.915255</td>\n",
       "      <td>Rural</td>\n",
       "      <td>NaN</td>\n",
       "      <td>0</td>\n",
       "      <td>NaN</td>\n",
       "    </tr>\n",
       "    <tr>\n",
       "      <th>...</th>\n",
       "      <td>...</td>\n",
       "      <td>...</td>\n",
       "      <td>...</td>\n",
       "      <td>...</td>\n",
       "      <td>...</td>\n",
       "      <td>...</td>\n",
       "      <td>...</td>\n",
       "      <td>...</td>\n",
       "      <td>...</td>\n",
       "      <td>...</td>\n",
       "      <td>...</td>\n",
       "      <td>...</td>\n",
       "    </tr>\n",
       "    <tr>\n",
       "      <th>18633</th>\n",
       "      <td>1500000US485079503021</td>\n",
       "      <td>1928</td>\n",
       "      <td>Block Group 1; Census Tract 9503.02; Zavala Co...</td>\n",
       "      <td>576</td>\n",
       "      <td>285</td>\n",
       "      <td>291</td>\n",
       "      <td>28.662395</td>\n",
       "      <td>-99.820920</td>\n",
       "      <td>Urban</td>\n",
       "      <td>0.494792</td>\n",
       "      <td>20</td>\n",
       "      <td>0.034722</td>\n",
       "    </tr>\n",
       "    <tr>\n",
       "      <th>18634</th>\n",
       "      <td>1500000US485079503022</td>\n",
       "      <td>842</td>\n",
       "      <td>Block Group 2; Census Tract 9503.02; Zavala Co...</td>\n",
       "      <td>213</td>\n",
       "      <td>44</td>\n",
       "      <td>169</td>\n",
       "      <td>28.691480</td>\n",
       "      <td>-99.828843</td>\n",
       "      <td>Urban</td>\n",
       "      <td>0.206573</td>\n",
       "      <td>0</td>\n",
       "      <td>0.000000</td>\n",
       "    </tr>\n",
       "    <tr>\n",
       "      <th>18635</th>\n",
       "      <td>1500000US485079503023</td>\n",
       "      <td>1140</td>\n",
       "      <td>Block Group 3; Census Tract 9503.02; Zavala Co...</td>\n",
       "      <td>323</td>\n",
       "      <td>48</td>\n",
       "      <td>275</td>\n",
       "      <td>28.682627</td>\n",
       "      <td>-99.834051</td>\n",
       "      <td>Urban</td>\n",
       "      <td>0.148607</td>\n",
       "      <td>11</td>\n",
       "      <td>0.034056</td>\n",
       "    </tr>\n",
       "    <tr>\n",
       "      <th>18636</th>\n",
       "      <td>1500000US485079503024</td>\n",
       "      <td>869</td>\n",
       "      <td>Block Group 4; Census Tract 9503.02; Zavala Co...</td>\n",
       "      <td>237</td>\n",
       "      <td>80</td>\n",
       "      <td>157</td>\n",
       "      <td>28.683151</td>\n",
       "      <td>-99.826568</td>\n",
       "      <td>Urban</td>\n",
       "      <td>0.337553</td>\n",
       "      <td>10</td>\n",
       "      <td>0.042194</td>\n",
       "    </tr>\n",
       "    <tr>\n",
       "      <th>18637</th>\n",
       "      <td>1500000US485079503025</td>\n",
       "      <td>809</td>\n",
       "      <td>Block Group 5; Census Tract 9503.02; Zavala Co...</td>\n",
       "      <td>450</td>\n",
       "      <td>253</td>\n",
       "      <td>197</td>\n",
       "      <td>28.684732</td>\n",
       "      <td>-99.820360</td>\n",
       "      <td>Urban</td>\n",
       "      <td>0.562222</td>\n",
       "      <td>30</td>\n",
       "      <td>0.066667</td>\n",
       "    </tr>\n",
       "  </tbody>\n",
       "</table>\n",
       "<p>18638 rows × 12 columns</p>\n",
       "</div>"
      ],
      "text/plain": [
       "                   Geo Index  Total Population  \\\n",
       "0      1500000US480019501001              1196   \n",
       "1      1500000US480019501002              1962   \n",
       "2      1500000US480019501003              1483   \n",
       "3      1500000US480019504011              5782   \n",
       "4      1500000US480019504021              7115   \n",
       "...                      ...               ...   \n",
       "18633  1500000US485079503021              1928   \n",
       "18634  1500000US485079503022               842   \n",
       "18635  1500000US485079503023              1140   \n",
       "18636  1500000US485079503024               869   \n",
       "18637  1500000US485079503025               809   \n",
       "\n",
       "                                               Area Name  \\\n",
       "0      Block Group 1; Census Tract 9501; Anderson Cou...   \n",
       "1      Block Group 2; Census Tract 9501; Anderson Cou...   \n",
       "2      Block Group 3; Census Tract 9501; Anderson Cou...   \n",
       "3      Block Group 1; Census Tract 9504.01; Anderson ...   \n",
       "4      Block Group 1; Census Tract 9504.02; Anderson ...   \n",
       "...                                                  ...   \n",
       "18633  Block Group 1; Census Tract 9503.02; Zavala Co...   \n",
       "18634  Block Group 2; Census Tract 9503.02; Zavala Co...   \n",
       "18635  Block Group 3; Census Tract 9503.02; Zavala Co...   \n",
       "18636  Block Group 4; Census Tract 9503.02; Zavala Co...   \n",
       "18637  Block Group 5; Census Tract 9503.02; Zavala Co...   \n",
       "\n",
       "       Occupied Housing Units  Households Below Poverty Level  \\\n",
       "0                         611                              70   \n",
       "1                         839                             178   \n",
       "2                         477                              62   \n",
       "3                          26                               0   \n",
       "4                           0                               0   \n",
       "...                       ...                             ...   \n",
       "18633                     576                             285   \n",
       "18634                     213                              44   \n",
       "18635                     323                              48   \n",
       "18636                     237                              80   \n",
       "18637                     450                             253   \n",
       "\n",
       "       Households At or Above Poverty Level  Block Group Centroid Latitude  \\\n",
       "0                                       541                      32.061828   \n",
       "1                                       661                      31.962629   \n",
       "2                                       415                      31.974468   \n",
       "3                                        26                      31.737602   \n",
       "4                                         0                      31.797573   \n",
       "...                                     ...                            ...   \n",
       "18633                                   291                      28.662395   \n",
       "18634                                   169                      28.691480   \n",
       "18635                                   275                      28.682627   \n",
       "18636                                   157                      28.683151   \n",
       "18637                                   197                      28.684732   \n",
       "\n",
       "       Block Group Centroid Longitude Classification  Percent Poverty Level  \\\n",
       "0                          -95.499394          Rural               0.114566   \n",
       "1                          -95.496465          Rural               0.212157   \n",
       "2                          -95.612247          Rural               0.129979   \n",
       "3                          -95.820261          Rural               0.000000   \n",
       "4                          -95.915255          Rural                    NaN   \n",
       "...                               ...            ...                    ...   \n",
       "18633                      -99.820920          Urban               0.494792   \n",
       "18634                      -99.828843          Urban               0.206573   \n",
       "18635                      -99.834051          Urban               0.148607   \n",
       "18636                      -99.826568          Urban               0.337553   \n",
       "18637                      -99.820360          Urban               0.562222   \n",
       "\n",
       "       Households with No Vehicle Access  Percent No Vehicle Access  \n",
       "0                                     18                   0.029460  \n",
       "1                                     10                   0.011919  \n",
       "2                                     20                   0.041929  \n",
       "3                                      0                   0.000000  \n",
       "4                                      0                        NaN  \n",
       "...                                  ...                        ...  \n",
       "18633                                 20                   0.034722  \n",
       "18634                                  0                   0.000000  \n",
       "18635                                 11                   0.034056  \n",
       "18636                                 10                   0.042194  \n",
       "18637                                 30                   0.066667  \n",
       "\n",
       "[18638 rows x 12 columns]"
      ]
     },
     "execution_count": 64,
     "metadata": {},
     "output_type": "execute_result"
    }
   ],
   "source": [
    "mergedf = pd.merge(totalpopdf, occupancydf, on='Geo Index', how='left')\n",
    "mergedf = pd.merge(mergedf, povdf, on='Geo Index', how='left')\n",
    "mergedf = pd.merge(mergedf, vehiclesdf, on='Geo Index', how='left')\n",
    "mergedf = pd.merge(mergedf, block_group_coordinates, on='Geo Index', how='left')\n",
    "mergedf = pd.merge(mergedf, classifdf, on='Geo Index', how='left')\n",
    "mergedf['Percent Poverty Level'] = mergedf['Households Below Poverty Level'] / mergedf['Occupied Housing Units']\n",
    "mergedf['Households with No Vehicle Access'] = mergedf['Owner Occupied Households No Vehicle'] + mergedf['Renter Occupied Households No Vehicle']\n",
    "mergedf = mergedf.drop(columns=['Owner Occupied Households No Vehicle', 'Renter Occupied Households No Vehicle'])\n",
    "mergedf['Percent No Vehicle Access'] = mergedf['Households with No Vehicle Access'] / mergedf['Occupied Housing Units']\n",
    "mergedf"
   ]
  },
  {
   "cell_type": "code",
   "execution_count": 78,
   "id": "704e767e",
   "metadata": {},
   "outputs": [
    {
     "data": {
      "application/vnd.microsoft.datawrangler.viewer.v0+json": {
       "columns": [
        {
         "name": "index",
         "rawType": "int64",
         "type": "integer"
        },
        {
         "name": "Geo Index",
         "rawType": "object",
         "type": "string"
        },
        {
         "name": "Block Group Centroid Latitude",
         "rawType": "float64",
         "type": "float"
        },
        {
         "name": "Block Group Centroid Longitude",
         "rawType": "float64",
         "type": "float"
        },
        {
         "name": "dummy",
         "rawType": "int64",
         "type": "integer"
        },
        {
         "name": "Blockcoords",
         "rawType": "object",
         "type": "unknown"
        },
        {
         "name": "Store Type",
         "rawType": "object",
         "type": "string"
        },
        {
         "name": "Latitude",
         "rawType": "float64",
         "type": "float"
        },
        {
         "name": "Longitude",
         "rawType": "float64",
         "type": "float"
        },
        {
         "name": "coords",
         "rawType": "object",
         "type": "unknown"
        },
        {
         "name": "Snapcoords",
         "rawType": "object",
         "type": "unknown"
        }
       ],
       "conversionMethod": "pd.DataFrame",
       "ref": "dc7fb6ed-c359-46b7-9d32-62c2614a2d5c",
       "rows": [
        [
         "0",
         "1500000US482150244031",
         "26.300754919416",
         "-97.98529799508509",
         "1",
         "(26.300754919416, -97.98529799508509)",
         "Supermarket",
         "31.50773",
         "-95.4761",
         "(31.50773, -95.4761)",
         "(31.50773, -95.4761)"
        ],
        [
         "1",
         "1500000US482150244031",
         "26.300754919416",
         "-97.98529799508509",
         "1",
         "(26.300754919416, -97.98529799508509)",
         "Supermarket",
         "31.73475",
         "-95.61121",
         "(31.73475, -95.61121)",
         "(31.73475, -95.61121)"
        ],
        [
         "2",
         "1500000US482150244031",
         "26.300754919416",
         "-97.98529799508509",
         "1",
         "(26.300754919416, -97.98529799508509)",
         "Large Grocery Store",
         "31.77138",
         "-95.62876",
         "(31.77138, -95.62876)",
         "(31.77138, -95.62876)"
        ],
        [
         "3",
         "1500000US482150244031",
         "26.300754919416",
         "-97.98529799508509",
         "1",
         "(26.300754919416, -97.98529799508509)",
         "Large Grocery Store",
         "31.77685",
         "-95.61826",
         "(31.77685, -95.61826)",
         "(31.77685, -95.61826)"
        ],
        [
         "4",
         "1500000US482150244031",
         "26.300754919416",
         "-97.98529799508509",
         "1",
         "(26.300754919416, -97.98529799508509)",
         "Large Grocery Store",
         "31.74482",
         "-95.65524",
         "(31.74482, -95.65524)",
         "(31.74482, -95.65524)"
        ],
        [
         "5",
         "1500000US482150244031",
         "26.300754919416",
         "-97.98529799508509",
         "1",
         "(26.300754919416, -97.98529799508509)",
         "Large Grocery Store",
         "31.62736",
         "-95.57532",
         "(31.62736, -95.57532)",
         "(31.62736, -95.57532)"
        ],
        [
         "6",
         "1500000US482150244031",
         "26.300754919416",
         "-97.98529799508509",
         "1",
         "(26.300754919416, -97.98529799508509)",
         "Large Grocery Store",
         "31.73718",
         "-95.6091",
         "(31.73718, -95.6091)",
         "(31.73718, -95.6091)"
        ],
        [
         "7",
         "1500000US482150244031",
         "26.300754919416",
         "-97.98529799508509",
         "1",
         "(26.300754919416, -97.98529799508509)",
         "Large Grocery Store",
         "31.72849",
         "-95.5998",
         "(31.72849, -95.5998)",
         "(31.72849, -95.5998)"
        ],
        [
         "8",
         "1500000US482150244031",
         "26.300754919416",
         "-97.98529799508509",
         "1",
         "(26.300754919416, -97.98529799508509)",
         "Large Grocery Store",
         "32.06241",
         "-95.50245",
         "(32.06241, -95.50245)",
         "(32.06241, -95.50245)"
        ],
        [
         "9",
         "1500000US482150244031",
         "26.300754919416",
         "-97.98529799508509",
         "1",
         "(26.300754919416, -97.98529799508509)",
         "Large Grocery Store",
         "31.78858",
         "-95.67265",
         "(31.78858, -95.67265)",
         "(31.78858, -95.67265)"
        ],
        [
         "10",
         "1500000US482150244031",
         "26.300754919416",
         "-97.98529799508509",
         "1",
         "(26.300754919416, -97.98529799508509)",
         "Super Store",
         "31.76175",
         "-95.62906",
         "(31.76175, -95.62906)",
         "(31.76175, -95.62906)"
        ],
        [
         "11",
         "1500000US482150244031",
         "26.300754919416",
         "-97.98529799508509",
         "1",
         "(26.300754919416, -97.98529799508509)",
         "Supermarket",
         "32.05153",
         "-95.50046",
         "(32.05153, -95.50046)",
         "(32.05153, -95.50046)"
        ],
        [
         "12",
         "1500000US482150244031",
         "26.300754919416",
         "-97.98529799508509",
         "1",
         "(26.300754919416, -97.98529799508509)",
         "Super Store",
         "31.73401",
         "-95.61624",
         "(31.73401, -95.61624)",
         "(31.73401, -95.61624)"
        ],
        [
         "13",
         "1500000US482150244031",
         "26.300754919416",
         "-97.98529799508509",
         "1",
         "(26.300754919416, -97.98529799508509)",
         "Supermarket",
         "32.33097",
         "-102.5517",
         "(32.33097, -102.5517)",
         "(32.33097, -102.5517)"
        ],
        [
         "14",
         "1500000US482150244031",
         "26.300754919416",
         "-97.98529799508509",
         "1",
         "(26.300754919416, -97.98529799508509)",
         "Super Store",
         "32.33097",
         "-102.5517",
         "(32.33097, -102.5517)",
         "(32.33097, -102.5517)"
        ],
        [
         "15",
         "1500000US482150244031",
         "26.300754919416",
         "-97.98529799508509",
         "1",
         "(26.300754919416, -97.98529799508509)",
         "Super Store",
         "31.33314",
         "-94.71811",
         "(31.33314, -94.71811)",
         "(31.33314, -94.71811)"
        ],
        [
         "16",
         "1500000US482150244031",
         "26.300754919416",
         "-97.98529799508509",
         "1",
         "(26.300754919416, -97.98529799508509)",
         "Super Store",
         "31.18625",
         "-94.78182",
         "(31.18625, -94.78182)",
         "(31.18625, -94.78182)"
        ],
        [
         "17",
         "1500000US482150244031",
         "26.300754919416",
         "-97.98529799508509",
         "1",
         "(26.300754919416, -97.98529799508509)",
         "Super Store",
         "31.33201",
         "-94.75436",
         "(31.33201, -94.75436)",
         "(31.33201, -94.75436)"
        ],
        [
         "18",
         "1500000US482150244031",
         "26.300754919416",
         "-97.98529799508509",
         "1",
         "(26.300754919416, -97.98529799508509)",
         "Super Store",
         "31.26606",
         "-94.56929",
         "(31.26606, -94.56929)",
         "(31.26606, -94.56929)"
        ],
        [
         "19",
         "1500000US482150244031",
         "26.300754919416",
         "-97.98529799508509",
         "1",
         "(26.300754919416, -97.98529799508509)",
         "Super Store",
         "31.34655",
         "-94.71974",
         "(31.34655, -94.71974)",
         "(31.34655, -94.71974)"
        ],
        [
         "20",
         "1500000US482150244031",
         "26.300754919416",
         "-97.98529799508509",
         "1",
         "(26.300754919416, -97.98529799508509)",
         "Supermarket",
         "31.33663",
         "-94.71775",
         "(31.33663, -94.71775)",
         "(31.33663, -94.71775)"
        ],
        [
         "21",
         "1500000US482150244031",
         "26.300754919416",
         "-97.98529799508509",
         "1",
         "(26.300754919416, -97.98529799508509)",
         "Supermarket",
         "31.34568",
         "-94.72264",
         "(31.34568, -94.72264)",
         "(31.34568, -94.72264)"
        ],
        [
         "22",
         "1500000US482150244031",
         "26.300754919416",
         "-97.98529799508509",
         "1",
         "(26.300754919416, -97.98529799508509)",
         "Super Store",
         "31.31319",
         "-94.71955",
         "(31.31319, -94.71955)",
         "(31.31319, -94.71955)"
        ],
        [
         "23",
         "1500000US482150244031",
         "26.300754919416",
         "-97.98529799508509",
         "1",
         "(26.300754919416, -97.98529799508509)",
         "Super Store",
         "31.29953",
         "-94.73144",
         "(31.29953, -94.73144)",
         "(31.29953, -94.73144)"
        ],
        [
         "24",
         "1500000US482150244031",
         "26.300754919416",
         "-97.98529799508509",
         "1",
         "(26.300754919416, -97.98529799508509)",
         "Large Grocery Store",
         "31.35343",
         "-94.72332",
         "(31.35343, -94.72332)",
         "(31.35343, -94.72332)"
        ],
        [
         "25",
         "1500000US482150244031",
         "26.300754919416",
         "-97.98529799508509",
         "1",
         "(26.300754919416, -97.98529799508509)",
         "Supermarket",
         "28.03809",
         "-97.04255",
         "(28.03809, -97.04255)",
         "(28.03809, -97.04255)"
        ],
        [
         "26",
         "1500000US482150244031",
         "26.300754919416",
         "-97.98529799508509",
         "1",
         "(26.300754919416, -97.98529799508509)",
         "Super Store",
         "28.04791",
         "-97.04247",
         "(28.04791, -97.04247)",
         "(28.04791, -97.04247)"
        ],
        [
         "27",
         "1500000US482150244031",
         "26.300754919416",
         "-97.98529799508509",
         "1",
         "(26.300754919416, -97.98529799508509)",
         "Large Grocery Store",
         "28.94104",
         "-98.51743",
         "(28.94104, -98.51743)",
         "(28.94104, -98.51743)"
        ],
        [
         "28",
         "1500000US482150244031",
         "26.300754919416",
         "-97.98529799508509",
         "1",
         "(26.300754919416, -97.98529799508509)",
         "Supermarket",
         "28.95708",
         "-98.48559",
         "(28.95708, -98.48559)",
         "(28.95708, -98.48559)"
        ],
        [
         "29",
         "1500000US482150244031",
         "26.300754919416",
         "-97.98529799508509",
         "1",
         "(26.300754919416, -97.98529799508509)",
         "Supermarket",
         "29.23532",
         "-98.79144",
         "(29.23532, -98.79144)",
         "(29.23532, -98.79144)"
        ],
        [
         "30",
         "1500000US482150244031",
         "26.300754919416",
         "-97.98529799508509",
         "1",
         "(26.300754919416, -97.98529799508509)",
         "Large Grocery Store",
         "28.92139",
         "-98.54127",
         "(28.92139, -98.54127)",
         "(28.92139, -98.54127)"
        ],
        [
         "31",
         "1500000US482150244031",
         "26.300754919416",
         "-97.98529799508509",
         "1",
         "(26.300754919416, -97.98529799508509)",
         "Large Grocery Store",
         "29.04045",
         "-98.58401",
         "(29.04045, -98.58401)",
         "(29.04045, -98.58401)"
        ],
        [
         "32",
         "1500000US482150244031",
         "26.300754919416",
         "-97.98529799508509",
         "1",
         "(26.300754919416, -97.98529799508509)",
         "Super Store",
         "28.93943",
         "-98.51392",
         "(28.93943, -98.51392)",
         "(28.93943, -98.51392)"
        ],
        [
         "33",
         "1500000US482150244031",
         "26.300754919416",
         "-97.98529799508509",
         "1",
         "(26.300754919416, -97.98529799508509)",
         "Supermarket",
         "29.78082",
         "-96.15626",
         "(29.78082, -96.15626)",
         "(29.78082, -96.15626)"
        ],
        [
         "34",
         "1500000US482150244031",
         "26.300754919416",
         "-97.98529799508509",
         "1",
         "(26.300754919416, -97.98529799508509)",
         "Super Store",
         "29.93948",
         "-96.2512",
         "(29.93948, -96.2512)",
         "(29.93948, -96.2512)"
        ],
        [
         "35",
         "1500000US482150244031",
         "26.300754919416",
         "-97.98529799508509",
         "1",
         "(26.300754919416, -97.98529799508509)",
         "Super Store",
         "29.75872",
         "-96.1508",
         "(29.75872, -96.1508)",
         "(29.75872, -96.1508)"
        ],
        [
         "36",
         "1500000US482150244031",
         "26.300754919416",
         "-97.98529799508509",
         "1",
         "(26.300754919416, -97.98529799508509)",
         "Large Grocery Store",
         "34.2281",
         "-102.727",
         "(34.2281, -102.727)",
         "(34.2281, -102.727)"
        ],
        [
         "37",
         "1500000US482150244031",
         "26.300754919416",
         "-97.98529799508509",
         "1",
         "(26.300754919416, -97.98529799508509)",
         "Supermarket",
         "34.23118",
         "-102.7321",
         "(34.23118, -102.7321)",
         "(34.23118, -102.7321)"
        ],
        [
         "38",
         "1500000US482150244031",
         "26.300754919416",
         "-97.98529799508509",
         "1",
         "(26.300754919416, -97.98529799508509)",
         "Super Store",
         "29.72941",
         "-99.07658",
         "(29.72941, -99.07658)",
         "(29.72941, -99.07658)"
        ],
        [
         "39",
         "1500000US482150244031",
         "26.300754919416",
         "-97.98529799508509",
         "1",
         "(26.300754919416, -97.98529799508509)",
         "Super Store",
         "30.01207",
         "-97.1625",
         "(30.01207, -97.1625)",
         "(30.01207, -97.1625)"
        ],
        [
         "40",
         "1500000US482150244031",
         "26.300754919416",
         "-97.98529799508509",
         "1",
         "(26.300754919416, -97.98529799508509)",
         "Supermarket",
         "30.30661",
         "-97.29977",
         "(30.30661, -97.29977)",
         "(30.30661, -97.29977)"
        ],
        [
         "41",
         "1500000US482150244031",
         "26.300754919416",
         "-97.98529799508509",
         "1",
         "(26.300754919416, -97.98529799508509)",
         "Supermarket",
         "30.10347",
         "-97.32504",
         "(30.10347, -97.32504)",
         "(30.10347, -97.32504)"
        ],
        [
         "42",
         "1500000US482150244031",
         "26.300754919416",
         "-97.98529799508509",
         "1",
         "(26.300754919416, -97.98529799508509)",
         "Large Grocery Store",
         "30.02333",
         "-97.54055",
         "(30.02333, -97.54055)",
         "(30.02333, -97.54055)"
        ],
        [
         "43",
         "1500000US482150244031",
         "26.300754919416",
         "-97.98529799508509",
         "1",
         "(26.300754919416, -97.98529799508509)",
         "Large Grocery Store",
         "30.1404",
         "-97.567",
         "(30.1404, -97.567)",
         "(30.1404, -97.567)"
        ],
        [
         "44",
         "1500000US482150244031",
         "26.300754919416",
         "-97.98529799508509",
         "1",
         "(26.300754919416, -97.98529799508509)",
         "Supermarket",
         "30.3367",
         "-97.37254",
         "(30.3367, -97.37254)",
         "(30.3367, -97.37254)"
        ],
        [
         "45",
         "1500000US482150244031",
         "26.300754919416",
         "-97.98529799508509",
         "1",
         "(26.300754919416, -97.98529799508509)",
         "Super Store",
         "30.1034",
         "-97.33256",
         "(30.1034, -97.33256)",
         "(30.1034, -97.33256)"
        ],
        [
         "46",
         "1500000US482150244031",
         "26.300754919416",
         "-97.98529799508509",
         "1",
         "(26.300754919416, -97.98529799508509)",
         "Super Store",
         "30.35118",
         "-97.38768",
         "(30.35118, -97.38768)",
         "(30.35118, -97.38768)"
        ],
        [
         "47",
         "1500000US482150244031",
         "26.300754919416",
         "-97.98529799508509",
         "1",
         "(26.300754919416, -97.98529799508509)",
         "Supermarket",
         "33.58916",
         "-99.26025",
         "(33.58916, -99.26025)",
         "(33.58916, -99.26025)"
        ],
        [
         "48",
         "1500000US482150244031",
         "26.300754919416",
         "-97.98529799508509",
         "1",
         "(26.300754919416, -97.98529799508509)",
         "Supermarket",
         "28.4013",
         "-97.74731",
         "(28.4013, -97.74731)",
         "(28.4013, -97.74731)"
        ],
        [
         "49",
         "1500000US482150244031",
         "26.300754919416",
         "-97.98529799508509",
         "1",
         "(26.300754919416, -97.98529799508509)",
         "Super Store",
         "28.42887",
         "-97.74419",
         "(28.42887, -97.74419)",
         "(28.42887, -97.74419)"
        ]
       ],
       "shape": {
        "columns": 10,
        "rows": 57815076
       }
      },
      "text/html": [
       "<div>\n",
       "<style scoped>\n",
       "    .dataframe tbody tr th:only-of-type {\n",
       "        vertical-align: middle;\n",
       "    }\n",
       "\n",
       "    .dataframe tbody tr th {\n",
       "        vertical-align: top;\n",
       "    }\n",
       "\n",
       "    .dataframe thead th {\n",
       "        text-align: right;\n",
       "    }\n",
       "</style>\n",
       "<table border=\"1\" class=\"dataframe\">\n",
       "  <thead>\n",
       "    <tr style=\"text-align: right;\">\n",
       "      <th></th>\n",
       "      <th>Geo Index</th>\n",
       "      <th>Block Group Centroid Latitude</th>\n",
       "      <th>Block Group Centroid Longitude</th>\n",
       "      <th>dummy</th>\n",
       "      <th>Blockcoords</th>\n",
       "      <th>Store Type</th>\n",
       "      <th>Latitude</th>\n",
       "      <th>Longitude</th>\n",
       "      <th>coords</th>\n",
       "      <th>Snapcoords</th>\n",
       "    </tr>\n",
       "  </thead>\n",
       "  <tbody>\n",
       "    <tr>\n",
       "      <th>0</th>\n",
       "      <td>1500000US482150244031</td>\n",
       "      <td>26.300755</td>\n",
       "      <td>-97.985298</td>\n",
       "      <td>1</td>\n",
       "      <td>(26.300754919416, -97.98529799508509)</td>\n",
       "      <td>Supermarket</td>\n",
       "      <td>31.50773</td>\n",
       "      <td>-95.47610</td>\n",
       "      <td>(31.50773, -95.4761)</td>\n",
       "      <td>(31.50773, -95.4761)</td>\n",
       "    </tr>\n",
       "    <tr>\n",
       "      <th>1</th>\n",
       "      <td>1500000US482150244031</td>\n",
       "      <td>26.300755</td>\n",
       "      <td>-97.985298</td>\n",
       "      <td>1</td>\n",
       "      <td>(26.300754919416, -97.98529799508509)</td>\n",
       "      <td>Supermarket</td>\n",
       "      <td>31.73475</td>\n",
       "      <td>-95.61121</td>\n",
       "      <td>(31.73475, -95.61121)</td>\n",
       "      <td>(31.73475, -95.61121)</td>\n",
       "    </tr>\n",
       "    <tr>\n",
       "      <th>2</th>\n",
       "      <td>1500000US482150244031</td>\n",
       "      <td>26.300755</td>\n",
       "      <td>-97.985298</td>\n",
       "      <td>1</td>\n",
       "      <td>(26.300754919416, -97.98529799508509)</td>\n",
       "      <td>Large Grocery Store</td>\n",
       "      <td>31.77138</td>\n",
       "      <td>-95.62876</td>\n",
       "      <td>(31.77138, -95.62876)</td>\n",
       "      <td>(31.77138, -95.62876)</td>\n",
       "    </tr>\n",
       "    <tr>\n",
       "      <th>3</th>\n",
       "      <td>1500000US482150244031</td>\n",
       "      <td>26.300755</td>\n",
       "      <td>-97.985298</td>\n",
       "      <td>1</td>\n",
       "      <td>(26.300754919416, -97.98529799508509)</td>\n",
       "      <td>Large Grocery Store</td>\n",
       "      <td>31.77685</td>\n",
       "      <td>-95.61826</td>\n",
       "      <td>(31.77685, -95.61826)</td>\n",
       "      <td>(31.77685, -95.61826)</td>\n",
       "    </tr>\n",
       "    <tr>\n",
       "      <th>4</th>\n",
       "      <td>1500000US482150244031</td>\n",
       "      <td>26.300755</td>\n",
       "      <td>-97.985298</td>\n",
       "      <td>1</td>\n",
       "      <td>(26.300754919416, -97.98529799508509)</td>\n",
       "      <td>Large Grocery Store</td>\n",
       "      <td>31.74482</td>\n",
       "      <td>-95.65524</td>\n",
       "      <td>(31.74482, -95.65524)</td>\n",
       "      <td>(31.74482, -95.65524)</td>\n",
       "    </tr>\n",
       "    <tr>\n",
       "      <th>...</th>\n",
       "      <td>...</td>\n",
       "      <td>...</td>\n",
       "      <td>...</td>\n",
       "      <td>...</td>\n",
       "      <td>...</td>\n",
       "      <td>...</td>\n",
       "      <td>...</td>\n",
       "      <td>...</td>\n",
       "      <td>...</td>\n",
       "      <td>...</td>\n",
       "    </tr>\n",
       "    <tr>\n",
       "      <th>57815071</th>\n",
       "      <td>1500000US482012528001</td>\n",
       "      <td>29.865404</td>\n",
       "      <td>-95.000995</td>\n",
       "      <td>1</td>\n",
       "      <td>(29.865403503456324, -95.00099507011562)</td>\n",
       "      <td>Super Store</td>\n",
       "      <td>33.08250</td>\n",
       "      <td>-98.58324</td>\n",
       "      <td>(33.0825, -98.58324)</td>\n",
       "      <td>(33.0825, -98.58324)</td>\n",
       "    </tr>\n",
       "    <tr>\n",
       "      <th>57815072</th>\n",
       "      <td>1500000US482012528001</td>\n",
       "      <td>29.865404</td>\n",
       "      <td>-95.000995</td>\n",
       "      <td>1</td>\n",
       "      <td>(29.865403503456324, -95.00099507011562)</td>\n",
       "      <td>Large Grocery Store</td>\n",
       "      <td>26.91913</td>\n",
       "      <td>-99.25381</td>\n",
       "      <td>(26.91913, -99.25381)</td>\n",
       "      <td>(26.91913, -99.25381)</td>\n",
       "    </tr>\n",
       "    <tr>\n",
       "      <th>57815073</th>\n",
       "      <td>1500000US482012528001</td>\n",
       "      <td>29.865404</td>\n",
       "      <td>-95.000995</td>\n",
       "      <td>1</td>\n",
       "      <td>(29.865403503456324, -95.00099507011562)</td>\n",
       "      <td>Supermarket</td>\n",
       "      <td>26.90422</td>\n",
       "      <td>-99.26919</td>\n",
       "      <td>(26.90422, -99.26919)</td>\n",
       "      <td>(26.90422, -99.26919)</td>\n",
       "    </tr>\n",
       "    <tr>\n",
       "      <th>57815074</th>\n",
       "      <td>1500000US482012528001</td>\n",
       "      <td>29.865404</td>\n",
       "      <td>-95.000995</td>\n",
       "      <td>1</td>\n",
       "      <td>(29.865403503456324, -95.00099507011562)</td>\n",
       "      <td>Supermarket</td>\n",
       "      <td>26.89368</td>\n",
       "      <td>-99.26291</td>\n",
       "      <td>(26.89368, -99.26291)</td>\n",
       "      <td>(26.89368, -99.26291)</td>\n",
       "    </tr>\n",
       "    <tr>\n",
       "      <th>57815075</th>\n",
       "      <td>1500000US482012528001</td>\n",
       "      <td>29.865404</td>\n",
       "      <td>-95.000995</td>\n",
       "      <td>1</td>\n",
       "      <td>(29.865403503456324, -95.00099507011562)</td>\n",
       "      <td>Supermarket</td>\n",
       "      <td>28.68147</td>\n",
       "      <td>-99.82949</td>\n",
       "      <td>(28.68147, -99.82949)</td>\n",
       "      <td>(28.68147, -99.82949)</td>\n",
       "    </tr>\n",
       "  </tbody>\n",
       "</table>\n",
       "<p>57815076 rows × 10 columns</p>\n",
       "</div>"
      ],
      "text/plain": [
       "                      Geo Index  Block Group Centroid Latitude  \\\n",
       "0         1500000US482150244031                      26.300755   \n",
       "1         1500000US482150244031                      26.300755   \n",
       "2         1500000US482150244031                      26.300755   \n",
       "3         1500000US482150244031                      26.300755   \n",
       "4         1500000US482150244031                      26.300755   \n",
       "...                         ...                            ...   \n",
       "57815071  1500000US482012528001                      29.865404   \n",
       "57815072  1500000US482012528001                      29.865404   \n",
       "57815073  1500000US482012528001                      29.865404   \n",
       "57815074  1500000US482012528001                      29.865404   \n",
       "57815075  1500000US482012528001                      29.865404   \n",
       "\n",
       "          Block Group Centroid Longitude  dummy  \\\n",
       "0                             -97.985298      1   \n",
       "1                             -97.985298      1   \n",
       "2                             -97.985298      1   \n",
       "3                             -97.985298      1   \n",
       "4                             -97.985298      1   \n",
       "...                                  ...    ...   \n",
       "57815071                      -95.000995      1   \n",
       "57815072                      -95.000995      1   \n",
       "57815073                      -95.000995      1   \n",
       "57815074                      -95.000995      1   \n",
       "57815075                      -95.000995      1   \n",
       "\n",
       "                                       Blockcoords           Store Type  \\\n",
       "0            (26.300754919416, -97.98529799508509)          Supermarket   \n",
       "1            (26.300754919416, -97.98529799508509)          Supermarket   \n",
       "2            (26.300754919416, -97.98529799508509)  Large Grocery Store   \n",
       "3            (26.300754919416, -97.98529799508509)  Large Grocery Store   \n",
       "4            (26.300754919416, -97.98529799508509)  Large Grocery Store   \n",
       "...                                            ...                  ...   \n",
       "57815071  (29.865403503456324, -95.00099507011562)          Super Store   \n",
       "57815072  (29.865403503456324, -95.00099507011562)  Large Grocery Store   \n",
       "57815073  (29.865403503456324, -95.00099507011562)          Supermarket   \n",
       "57815074  (29.865403503456324, -95.00099507011562)          Supermarket   \n",
       "57815075  (29.865403503456324, -95.00099507011562)          Supermarket   \n",
       "\n",
       "          Latitude  Longitude                 coords             Snapcoords  \n",
       "0         31.50773  -95.47610   (31.50773, -95.4761)   (31.50773, -95.4761)  \n",
       "1         31.73475  -95.61121  (31.73475, -95.61121)  (31.73475, -95.61121)  \n",
       "2         31.77138  -95.62876  (31.77138, -95.62876)  (31.77138, -95.62876)  \n",
       "3         31.77685  -95.61826  (31.77685, -95.61826)  (31.77685, -95.61826)  \n",
       "4         31.74482  -95.65524  (31.74482, -95.65524)  (31.74482, -95.65524)  \n",
       "...            ...        ...                    ...                    ...  \n",
       "57815071  33.08250  -98.58324   (33.0825, -98.58324)   (33.0825, -98.58324)  \n",
       "57815072  26.91913  -99.25381  (26.91913, -99.25381)  (26.91913, -99.25381)  \n",
       "57815073  26.90422  -99.26919  (26.90422, -99.26919)  (26.90422, -99.26919)  \n",
       "57815074  26.89368  -99.26291  (26.89368, -99.26291)  (26.89368, -99.26291)  \n",
       "57815075  28.68147  -99.82949  (28.68147, -99.82949)  (28.68147, -99.82949)  \n",
       "\n",
       "[57815076 rows x 10 columns]"
      ]
     },
     "execution_count": 78,
     "metadata": {},
     "output_type": "execute_result"
    }
   ],
   "source": [
    "closestgrocery = block_group_coordinates.copy()\n",
    "closestgrocery['dummy'] = 1\n",
    "closestgrocery['Blockcoords'] = list(zip(closestgrocery['Block Group Centroid Latitude'], closestgrocery['Block Group Centroid Longitude']))\n",
    "snapdf['dummy'] = 1\n",
    "snapdf['Snapcoords'] = list(zip(snapdf['Latitude'], snapdf['Longitude']))\n",
    "closestgrocery = pd.merge(closestgrocery, snapdf, on='dummy', how='outer')\n",
    "closestgrocery"
   ]
  },
  {
   "cell_type": "code",
   "execution_count": null,
   "id": "c64cb589",
   "metadata": {},
   "outputs": [],
   "source": [
    "# This took an hour to run\n",
    "# closestgrocery['distance'] = closestgrocery.apply(lambda x: distance.distance(x.Blockcoords, x.Snapcoords).miles, axis=1)\n",
    "# closestgrocery"
   ]
  },
  {
   "cell_type": "code",
   "execution_count": null,
   "id": "0343edc1",
   "metadata": {},
   "outputs": [],
   "source": []
  }
 ],
 "metadata": {
  "kernelspec": {
   "display_name": ".venv",
   "language": "python",
   "name": "python3"
  },
  "language_info": {
   "codemirror_mode": {
    "name": "ipython",
    "version": 3
   },
   "file_extension": ".py",
   "mimetype": "text/x-python",
   "name": "python",
   "nbconvert_exporter": "python",
   "pygments_lexer": "ipython3",
   "version": "3.12.9"
  }
 },
 "nbformat": 4,
 "nbformat_minor": 5
}
