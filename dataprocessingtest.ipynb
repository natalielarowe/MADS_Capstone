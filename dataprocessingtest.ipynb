{
 "cells": [
  {
   "cell_type": "code",
   "execution_count": 15,
   "id": "e779405a",
   "metadata": {},
   "outputs": [],
   "source": [
    "import pandas as pd\n",
    "import numpy as np"
   ]
  },
  {
   "cell_type": "code",
   "execution_count": 27,
   "id": "ed23b613",
   "metadata": {},
   "outputs": [],
   "source": [
    "##B25002 Occupancy of Housing Units\n",
    "occurl = 'https://drive.google.com/file/d/1v4YateaDR-UTQm6XhbqLMuzv6x1ZYXmF/view?usp=share_link'\n",
    "occurl='https://drive.usercontent.google.com/download?id={}&export=download&authuser=0&confirm=t'.format(occurl.split('/')[-2])\n",
    "occupancydf = pd.read_csv(occurl)\n",
    "occupancydf.columns = occupancydf.iloc[0]\n",
    "occupancydf = occupancydf[1:].reset_index(drop=True)\n",
    "occupancydf = occupancydf[['Geography', 'Geographic Area Name', 'Estimate!!Total:', 'Estimate!!Total:!!Occupied']]\n",
    "occupancydf.columns = ['Geo Index', 'Area Name', 'Total', 'Occupied']"
   ]
  },
  {
   "cell_type": "code",
   "execution_count": 28,
   "id": "00d73bd7",
   "metadata": {},
   "outputs": [
    {
     "data": {
      "application/vnd.microsoft.datawrangler.viewer.v0+json": {
       "columns": [
        {
         "name": "index",
         "rawType": "int64",
         "type": "integer"
        },
        {
         "name": "Geo Index",
         "rawType": "object",
         "type": "string"
        },
        {
         "name": "Area Name",
         "rawType": "object",
         "type": "string"
        },
        {
         "name": "Total",
         "rawType": "object",
         "type": "string"
        },
        {
         "name": "Occupied",
         "rawType": "object",
         "type": "string"
        }
       ],
       "conversionMethod": "pd.DataFrame",
       "ref": "01b81911-af69-44f8-8a27-8be55f247a96",
       "rows": [
        [
         "0",
         "1500000US480019501001",
         "Block Group 1; Census Tract 9501; Anderson County; Texas",
         "746",
         "611"
        ],
        [
         "1",
         "1500000US480019501002",
         "Block Group 2; Census Tract 9501; Anderson County; Texas",
         "1002",
         "839"
        ],
        [
         "2",
         "1500000US480019501003",
         "Block Group 3; Census Tract 9501; Anderson County; Texas",
         "596",
         "477"
        ],
        [
         "3",
         "1500000US480019504011",
         "Block Group 1; Census Tract 9504.01; Anderson County; Texas",
         "53",
         "26"
        ],
        [
         "4",
         "1500000US480019504021",
         "Block Group 1; Census Tract 9504.02; Anderson County; Texas",
         "0",
         "0"
        ],
        [
         "5",
         "1500000US480019505001",
         "Block Group 1; Census Tract 9505; Anderson County; Texas",
         "169",
         "169"
        ],
        [
         "6",
         "1500000US480019505002",
         "Block Group 2; Census Tract 9505; Anderson County; Texas",
         "208",
         "208"
        ],
        [
         "7",
         "1500000US480019505003",
         "Block Group 3; Census Tract 9505; Anderson County; Texas",
         "610",
         "515"
        ],
        [
         "8",
         "1500000US480019505004",
         "Block Group 4; Census Tract 9505; Anderson County; Texas",
         "642",
         "533"
        ],
        [
         "9",
         "1500000US480019506001",
         "Block Group 1; Census Tract 9506; Anderson County; Texas",
         "580",
         "580"
        ],
        [
         "10",
         "1500000US480019506002",
         "Block Group 2; Census Tract 9506; Anderson County; Texas",
         "713",
         "675"
        ],
        [
         "11",
         "1500000US480019506003",
         "Block Group 3; Census Tract 9506; Anderson County; Texas",
         "447",
         "294"
        ],
        [
         "12",
         "1500000US480019506004",
         "Block Group 4; Census Tract 9506; Anderson County; Texas",
         "477",
         "399"
        ],
        [
         "13",
         "1500000US480019507001",
         "Block Group 1; Census Tract 9507; Anderson County; Texas",
         "390",
         "347"
        ],
        [
         "14",
         "1500000US480019507002",
         "Block Group 2; Census Tract 9507; Anderson County; Texas",
         "326",
         "204"
        ],
        [
         "15",
         "1500000US480019507003",
         "Block Group 3; Census Tract 9507; Anderson County; Texas",
         "251",
         "177"
        ],
        [
         "16",
         "1500000US480019508001",
         "Block Group 1; Census Tract 9508; Anderson County; Texas",
         "1110",
         "994"
        ],
        [
         "17",
         "1500000US480019508002",
         "Block Group 2; Census Tract 9508; Anderson County; Texas",
         "659",
         "600"
        ],
        [
         "18",
         "1500000US480019508003",
         "Block Group 3; Census Tract 9508; Anderson County; Texas",
         "538",
         "493"
        ],
        [
         "19",
         "1500000US480019508004",
         "Block Group 4; Census Tract 9508; Anderson County; Texas",
         "272",
         "272"
        ],
        [
         "20",
         "1500000US480019508005",
         "Block Group 5; Census Tract 9508; Anderson County; Texas",
         "360",
         "360"
        ],
        [
         "21",
         "1500000US480019509011",
         "Block Group 1; Census Tract 9509.01; Anderson County; Texas",
         "441",
         "394"
        ],
        [
         "22",
         "1500000US480019509012",
         "Block Group 2; Census Tract 9509.01; Anderson County; Texas",
         "288",
         "200"
        ],
        [
         "23",
         "1500000US480019509013",
         "Block Group 3; Census Tract 9509.01; Anderson County; Texas",
         "479",
         "424"
        ],
        [
         "24",
         "1500000US480019509014",
         "Block Group 4; Census Tract 9509.01; Anderson County; Texas",
         "937",
         "679"
        ],
        [
         "25",
         "1500000US480019509021",
         "Block Group 1; Census Tract 9509.02; Anderson County; Texas",
         "308",
         "250"
        ],
        [
         "26",
         "1500000US480019509022",
         "Block Group 2; Census Tract 9509.02; Anderson County; Texas",
         "980",
         "834"
        ],
        [
         "27",
         "1500000US480019509023",
         "Block Group 3; Census Tract 9509.02; Anderson County; Texas",
         "364",
         "345"
        ],
        [
         "28",
         "1500000US480019509024",
         "Block Group 4; Census Tract 9509.02; Anderson County; Texas",
         "743",
         "634"
        ],
        [
         "29",
         "1500000US480019510011",
         "Block Group 1; Census Tract 9510.01; Anderson County; Texas",
         "625",
         "487"
        ],
        [
         "30",
         "1500000US480019510012",
         "Block Group 2; Census Tract 9510.01; Anderson County; Texas",
         "1136",
         "977"
        ],
        [
         "31",
         "1500000US480019510021",
         "Block Group 1; Census Tract 9510.02; Anderson County; Texas",
         "199",
         "195"
        ],
        [
         "32",
         "1500000US480019510022",
         "Block Group 2; Census Tract 9510.02; Anderson County; Texas",
         "696",
         "524"
        ],
        [
         "33",
         "1500000US480019510023",
         "Block Group 3; Census Tract 9510.02; Anderson County; Texas",
         "293",
         "270"
        ],
        [
         "34",
         "1500000US480019510024",
         "Block Group 4; Census Tract 9510.02; Anderson County; Texas",
         "331",
         "307"
        ],
        [
         "35",
         "1500000US480019511001",
         "Block Group 1; Census Tract 9511; Anderson County; Texas",
         "992",
         "753"
        ],
        [
         "36",
         "1500000US480019511002",
         "Block Group 2; Census Tract 9511; Anderson County; Texas",
         "427",
         "368"
        ],
        [
         "37",
         "1500000US480019511003",
         "Block Group 3; Census Tract 9511; Anderson County; Texas",
         "528",
         "392"
        ],
        [
         "38",
         "1500000US480019511004",
         "Block Group 4; Census Tract 9511; Anderson County; Texas",
         "558",
         "336"
        ],
        [
         "39",
         "1500000US480039501001",
         "Block Group 1; Census Tract 9501; Andrews County; Texas",
         "778",
         "741"
        ],
        [
         "40",
         "1500000US480039502001",
         "Block Group 1; Census Tract 9502; Andrews County; Texas",
         "528",
         "528"
        ],
        [
         "41",
         "1500000US480039502002",
         "Block Group 2; Census Tract 9502; Andrews County; Texas",
         "314",
         "314"
        ],
        [
         "42",
         "1500000US480039502003",
         "Block Group 3; Census Tract 9502; Andrews County; Texas",
         "735",
         "735"
        ],
        [
         "43",
         "1500000US480039502004",
         "Block Group 4; Census Tract 9502; Andrews County; Texas",
         "560",
         "560"
        ],
        [
         "44",
         "1500000US480039502005",
         "Block Group 5; Census Tract 9502; Andrews County; Texas",
         "327",
         "327"
        ],
        [
         "45",
         "1500000US480039502006",
         "Block Group 6; Census Tract 9502; Andrews County; Texas",
         "353",
         "353"
        ],
        [
         "46",
         "1500000US480039503001",
         "Block Group 1; Census Tract 9503; Andrews County; Texas",
         "821",
         "795"
        ],
        [
         "47",
         "1500000US480039503002",
         "Block Group 2; Census Tract 9503; Andrews County; Texas",
         "1023",
         "980"
        ],
        [
         "48",
         "1500000US480039503003",
         "Block Group 3; Census Tract 9503; Andrews County; Texas",
         "213",
         "153"
        ],
        [
         "49",
         "1500000US480039504001",
         "Block Group 1; Census Tract 9504; Andrews County; Texas",
         "948",
         "860"
        ]
       ],
       "shape": {
        "columns": 4,
        "rows": 18638
       }
      },
      "text/html": [
       "<div>\n",
       "<style scoped>\n",
       "    .dataframe tbody tr th:only-of-type {\n",
       "        vertical-align: middle;\n",
       "    }\n",
       "\n",
       "    .dataframe tbody tr th {\n",
       "        vertical-align: top;\n",
       "    }\n",
       "\n",
       "    .dataframe thead th {\n",
       "        text-align: right;\n",
       "    }\n",
       "</style>\n",
       "<table border=\"1\" class=\"dataframe\">\n",
       "  <thead>\n",
       "    <tr style=\"text-align: right;\">\n",
       "      <th></th>\n",
       "      <th>Geo Index</th>\n",
       "      <th>Area Name</th>\n",
       "      <th>Total</th>\n",
       "      <th>Occupied</th>\n",
       "    </tr>\n",
       "  </thead>\n",
       "  <tbody>\n",
       "    <tr>\n",
       "      <th>0</th>\n",
       "      <td>1500000US480019501001</td>\n",
       "      <td>Block Group 1; Census Tract 9501; Anderson Cou...</td>\n",
       "      <td>746</td>\n",
       "      <td>611</td>\n",
       "    </tr>\n",
       "    <tr>\n",
       "      <th>1</th>\n",
       "      <td>1500000US480019501002</td>\n",
       "      <td>Block Group 2; Census Tract 9501; Anderson Cou...</td>\n",
       "      <td>1002</td>\n",
       "      <td>839</td>\n",
       "    </tr>\n",
       "    <tr>\n",
       "      <th>2</th>\n",
       "      <td>1500000US480019501003</td>\n",
       "      <td>Block Group 3; Census Tract 9501; Anderson Cou...</td>\n",
       "      <td>596</td>\n",
       "      <td>477</td>\n",
       "    </tr>\n",
       "    <tr>\n",
       "      <th>3</th>\n",
       "      <td>1500000US480019504011</td>\n",
       "      <td>Block Group 1; Census Tract 9504.01; Anderson ...</td>\n",
       "      <td>53</td>\n",
       "      <td>26</td>\n",
       "    </tr>\n",
       "    <tr>\n",
       "      <th>4</th>\n",
       "      <td>1500000US480019504021</td>\n",
       "      <td>Block Group 1; Census Tract 9504.02; Anderson ...</td>\n",
       "      <td>0</td>\n",
       "      <td>0</td>\n",
       "    </tr>\n",
       "    <tr>\n",
       "      <th>...</th>\n",
       "      <td>...</td>\n",
       "      <td>...</td>\n",
       "      <td>...</td>\n",
       "      <td>...</td>\n",
       "    </tr>\n",
       "    <tr>\n",
       "      <th>18633</th>\n",
       "      <td>1500000US485079503021</td>\n",
       "      <td>Block Group 1; Census Tract 9503.02; Zavala Co...</td>\n",
       "      <td>676</td>\n",
       "      <td>576</td>\n",
       "    </tr>\n",
       "    <tr>\n",
       "      <th>18634</th>\n",
       "      <td>1500000US485079503022</td>\n",
       "      <td>Block Group 2; Census Tract 9503.02; Zavala Co...</td>\n",
       "      <td>276</td>\n",
       "      <td>213</td>\n",
       "    </tr>\n",
       "    <tr>\n",
       "      <th>18635</th>\n",
       "      <td>1500000US485079503023</td>\n",
       "      <td>Block Group 3; Census Tract 9503.02; Zavala Co...</td>\n",
       "      <td>323</td>\n",
       "      <td>323</td>\n",
       "    </tr>\n",
       "    <tr>\n",
       "      <th>18636</th>\n",
       "      <td>1500000US485079503024</td>\n",
       "      <td>Block Group 4; Census Tract 9503.02; Zavala Co...</td>\n",
       "      <td>290</td>\n",
       "      <td>237</td>\n",
       "    </tr>\n",
       "    <tr>\n",
       "      <th>18637</th>\n",
       "      <td>1500000US485079503025</td>\n",
       "      <td>Block Group 5; Census Tract 9503.02; Zavala Co...</td>\n",
       "      <td>477</td>\n",
       "      <td>450</td>\n",
       "    </tr>\n",
       "  </tbody>\n",
       "</table>\n",
       "<p>18638 rows × 4 columns</p>\n",
       "</div>"
      ],
      "text/plain": [
       "                   Geo Index  \\\n",
       "0      1500000US480019501001   \n",
       "1      1500000US480019501002   \n",
       "2      1500000US480019501003   \n",
       "3      1500000US480019504011   \n",
       "4      1500000US480019504021   \n",
       "...                      ...   \n",
       "18633  1500000US485079503021   \n",
       "18634  1500000US485079503022   \n",
       "18635  1500000US485079503023   \n",
       "18636  1500000US485079503024   \n",
       "18637  1500000US485079503025   \n",
       "\n",
       "                                               Area Name Total Occupied  \n",
       "0      Block Group 1; Census Tract 9501; Anderson Cou...   746      611  \n",
       "1      Block Group 2; Census Tract 9501; Anderson Cou...  1002      839  \n",
       "2      Block Group 3; Census Tract 9501; Anderson Cou...   596      477  \n",
       "3      Block Group 1; Census Tract 9504.01; Anderson ...    53       26  \n",
       "4      Block Group 1; Census Tract 9504.02; Anderson ...     0        0  \n",
       "...                                                  ...   ...      ...  \n",
       "18633  Block Group 1; Census Tract 9503.02; Zavala Co...   676      576  \n",
       "18634  Block Group 2; Census Tract 9503.02; Zavala Co...   276      213  \n",
       "18635  Block Group 3; Census Tract 9503.02; Zavala Co...   323      323  \n",
       "18636  Block Group 4; Census Tract 9503.02; Zavala Co...   290      237  \n",
       "18637  Block Group 5; Census Tract 9503.02; Zavala Co...   477      450  \n",
       "\n",
       "[18638 rows x 4 columns]"
      ]
     },
     "execution_count": 28,
     "metadata": {},
     "output_type": "execute_result"
    }
   ],
   "source": [
    "occupancydf"
   ]
  },
  {
   "cell_type": "code",
   "execution_count": 32,
   "id": "4c00cd17",
   "metadata": {},
   "outputs": [],
   "source": [
    "##B25008 Population in Housing Units\n",
    "housingpopurl = 'https://drive.google.com/file/d/1dHuoGA6hLMh_c6t94V9FJMYuSIPaItpl/view?usp=share_link'\n",
    "housingpopurl='https://drive.usercontent.google.com/download?id={}&export=download&authuser=0&confirm=t'.format(housingpopurl.split('/')[-2])\n",
    "housingpopdf = pd.read_csv(housingpopurl)\n",
    "housingpopdf.columns = housingpopdf.iloc[0]\n",
    "housingpopdf = housingpopdf[1:].reset_index(drop=True)\n",
    "housingpopdf = housingpopdf[['Geography', 'Geographic Area Name', 'Estimate!!Total:']]\n",
    "housingpopdf.columns = ['Geo Index', 'Area Name', 'Total']"
   ]
  },
  {
   "cell_type": "code",
   "execution_count": 33,
   "id": "4d36237e",
   "metadata": {},
   "outputs": [
    {
     "data": {
      "application/vnd.microsoft.datawrangler.viewer.v0+json": {
       "columns": [
        {
         "name": "index",
         "rawType": "int64",
         "type": "integer"
        },
        {
         "name": "Geo Index",
         "rawType": "object",
         "type": "string"
        },
        {
         "name": "Area Name",
         "rawType": "object",
         "type": "string"
        },
        {
         "name": "Total",
         "rawType": "object",
         "type": "string"
        }
       ],
       "conversionMethod": "pd.DataFrame",
       "ref": "660285e6-f943-443d-9907-42ec8dd85514",
       "rows": [
        [
         "0",
         "1500000US480019501001",
         "Block Group 1; Census Tract 9501; Anderson County; Texas",
         "1652"
        ],
        [
         "1",
         "1500000US480019501002",
         "Block Group 2; Census Tract 9501; Anderson County; Texas",
         "2396"
        ],
        [
         "2",
         "1500000US480019501003",
         "Block Group 3; Census Tract 9501; Anderson County; Texas",
         "1286"
        ],
        [
         "3",
         "1500000US480019504011",
         "Block Group 1; Census Tract 9504.01; Anderson County; Texas",
         "85"
        ],
        [
         "4",
         "1500000US480019504021",
         "Block Group 1; Census Tract 9504.02; Anderson County; Texas",
         "0"
        ],
        [
         "5",
         "1500000US480019505001",
         "Block Group 1; Census Tract 9505; Anderson County; Texas",
         "507"
        ],
        [
         "6",
         "1500000US480019505002",
         "Block Group 2; Census Tract 9505; Anderson County; Texas",
         "489"
        ],
        [
         "7",
         "1500000US480019505003",
         "Block Group 3; Census Tract 9505; Anderson County; Texas",
         "1516"
        ],
        [
         "8",
         "1500000US480019505004",
         "Block Group 4; Census Tract 9505; Anderson County; Texas",
         "1969"
        ],
        [
         "9",
         "1500000US480019506001",
         "Block Group 1; Census Tract 9506; Anderson County; Texas",
         "1130"
        ],
        [
         "10",
         "1500000US480019506002",
         "Block Group 2; Census Tract 9506; Anderson County; Texas",
         "2179"
        ],
        [
         "11",
         "1500000US480019506003",
         "Block Group 3; Census Tract 9506; Anderson County; Texas",
         "639"
        ],
        [
         "12",
         "1500000US480019506004",
         "Block Group 4; Census Tract 9506; Anderson County; Texas",
         "1259"
        ],
        [
         "13",
         "1500000US480019507001",
         "Block Group 1; Census Tract 9507; Anderson County; Texas",
         "1018"
        ],
        [
         "14",
         "1500000US480019507002",
         "Block Group 2; Census Tract 9507; Anderson County; Texas",
         "656"
        ],
        [
         "15",
         "1500000US480019507003",
         "Block Group 3; Census Tract 9507; Anderson County; Texas",
         "448"
        ],
        [
         "16",
         "1500000US480019508001",
         "Block Group 1; Census Tract 9508; Anderson County; Texas",
         "1693"
        ],
        [
         "17",
         "1500000US480019508002",
         "Block Group 2; Census Tract 9508; Anderson County; Texas",
         "2337"
        ],
        [
         "18",
         "1500000US480019508003",
         "Block Group 3; Census Tract 9508; Anderson County; Texas",
         "1039"
        ],
        [
         "19",
         "1500000US480019508004",
         "Block Group 4; Census Tract 9508; Anderson County; Texas",
         "449"
        ],
        [
         "20",
         "1500000US480019508005",
         "Block Group 5; Census Tract 9508; Anderson County; Texas",
         "834"
        ],
        [
         "21",
         "1500000US480019509011",
         "Block Group 1; Census Tract 9509.01; Anderson County; Texas",
         "988"
        ],
        [
         "22",
         "1500000US480019509012",
         "Block Group 2; Census Tract 9509.01; Anderson County; Texas",
         "550"
        ],
        [
         "23",
         "1500000US480019509013",
         "Block Group 3; Census Tract 9509.01; Anderson County; Texas",
         "1224"
        ],
        [
         "24",
         "1500000US480019509014",
         "Block Group 4; Census Tract 9509.01; Anderson County; Texas",
         "2014"
        ],
        [
         "25",
         "1500000US480019509021",
         "Block Group 1; Census Tract 9509.02; Anderson County; Texas",
         "626"
        ],
        [
         "26",
         "1500000US480019509022",
         "Block Group 2; Census Tract 9509.02; Anderson County; Texas",
         "2651"
        ],
        [
         "27",
         "1500000US480019509023",
         "Block Group 3; Census Tract 9509.02; Anderson County; Texas",
         "982"
        ],
        [
         "28",
         "1500000US480019509024",
         "Block Group 4; Census Tract 9509.02; Anderson County; Texas",
         "1285"
        ],
        [
         "29",
         "1500000US480019510011",
         "Block Group 1; Census Tract 9510.01; Anderson County; Texas",
         "1180"
        ],
        [
         "30",
         "1500000US480019510012",
         "Block Group 2; Census Tract 9510.01; Anderson County; Texas",
         "3361"
        ],
        [
         "31",
         "1500000US480019510021",
         "Block Group 1; Census Tract 9510.02; Anderson County; Texas",
         "469"
        ],
        [
         "32",
         "1500000US480019510022",
         "Block Group 2; Census Tract 9510.02; Anderson County; Texas",
         "1441"
        ],
        [
         "33",
         "1500000US480019510023",
         "Block Group 3; Census Tract 9510.02; Anderson County; Texas",
         "715"
        ],
        [
         "34",
         "1500000US480019510024",
         "Block Group 4; Census Tract 9510.02; Anderson County; Texas",
         "929"
        ],
        [
         "35",
         "1500000US480019511001",
         "Block Group 1; Census Tract 9511; Anderson County; Texas",
         "2034"
        ],
        [
         "36",
         "1500000US480019511002",
         "Block Group 2; Census Tract 9511; Anderson County; Texas",
         "1016"
        ],
        [
         "37",
         "1500000US480019511003",
         "Block Group 3; Census Tract 9511; Anderson County; Texas",
         "813"
        ],
        [
         "38",
         "1500000US480019511004",
         "Block Group 4; Census Tract 9511; Anderson County; Texas",
         "805"
        ],
        [
         "39",
         "1500000US480039501001",
         "Block Group 1; Census Tract 9501; Andrews County; Texas",
         "2517"
        ],
        [
         "40",
         "1500000US480039502001",
         "Block Group 1; Census Tract 9502; Andrews County; Texas",
         "1402"
        ],
        [
         "41",
         "1500000US480039502002",
         "Block Group 2; Census Tract 9502; Andrews County; Texas",
         "740"
        ],
        [
         "42",
         "1500000US480039502003",
         "Block Group 3; Census Tract 9502; Andrews County; Texas",
         "1939"
        ],
        [
         "43",
         "1500000US480039502004",
         "Block Group 4; Census Tract 9502; Andrews County; Texas",
         "1619"
        ],
        [
         "44",
         "1500000US480039502005",
         "Block Group 5; Census Tract 9502; Andrews County; Texas",
         "975"
        ],
        [
         "45",
         "1500000US480039502006",
         "Block Group 6; Census Tract 9502; Andrews County; Texas",
         "883"
        ],
        [
         "46",
         "1500000US480039503001",
         "Block Group 1; Census Tract 9503; Andrews County; Texas",
         "1891"
        ],
        [
         "47",
         "1500000US480039503002",
         "Block Group 2; Census Tract 9503; Andrews County; Texas",
         "2334"
        ],
        [
         "48",
         "1500000US480039503003",
         "Block Group 3; Census Tract 9503; Andrews County; Texas",
         "293"
        ],
        [
         "49",
         "1500000US480039504001",
         "Block Group 1; Census Tract 9504; Andrews County; Texas",
         "2642"
        ]
       ],
       "shape": {
        "columns": 3,
        "rows": 18638
       }
      },
      "text/html": [
       "<div>\n",
       "<style scoped>\n",
       "    .dataframe tbody tr th:only-of-type {\n",
       "        vertical-align: middle;\n",
       "    }\n",
       "\n",
       "    .dataframe tbody tr th {\n",
       "        vertical-align: top;\n",
       "    }\n",
       "\n",
       "    .dataframe thead th {\n",
       "        text-align: right;\n",
       "    }\n",
       "</style>\n",
       "<table border=\"1\" class=\"dataframe\">\n",
       "  <thead>\n",
       "    <tr style=\"text-align: right;\">\n",
       "      <th></th>\n",
       "      <th>Geo Index</th>\n",
       "      <th>Area Name</th>\n",
       "      <th>Total</th>\n",
       "    </tr>\n",
       "  </thead>\n",
       "  <tbody>\n",
       "    <tr>\n",
       "      <th>0</th>\n",
       "      <td>1500000US480019501001</td>\n",
       "      <td>Block Group 1; Census Tract 9501; Anderson Cou...</td>\n",
       "      <td>1652</td>\n",
       "    </tr>\n",
       "    <tr>\n",
       "      <th>1</th>\n",
       "      <td>1500000US480019501002</td>\n",
       "      <td>Block Group 2; Census Tract 9501; Anderson Cou...</td>\n",
       "      <td>2396</td>\n",
       "    </tr>\n",
       "    <tr>\n",
       "      <th>2</th>\n",
       "      <td>1500000US480019501003</td>\n",
       "      <td>Block Group 3; Census Tract 9501; Anderson Cou...</td>\n",
       "      <td>1286</td>\n",
       "    </tr>\n",
       "    <tr>\n",
       "      <th>3</th>\n",
       "      <td>1500000US480019504011</td>\n",
       "      <td>Block Group 1; Census Tract 9504.01; Anderson ...</td>\n",
       "      <td>85</td>\n",
       "    </tr>\n",
       "    <tr>\n",
       "      <th>4</th>\n",
       "      <td>1500000US480019504021</td>\n",
       "      <td>Block Group 1; Census Tract 9504.02; Anderson ...</td>\n",
       "      <td>0</td>\n",
       "    </tr>\n",
       "    <tr>\n",
       "      <th>...</th>\n",
       "      <td>...</td>\n",
       "      <td>...</td>\n",
       "      <td>...</td>\n",
       "    </tr>\n",
       "    <tr>\n",
       "      <th>18633</th>\n",
       "      <td>1500000US485079503021</td>\n",
       "      <td>Block Group 1; Census Tract 9503.02; Zavala Co...</td>\n",
       "      <td>2265</td>\n",
       "    </tr>\n",
       "    <tr>\n",
       "      <th>18634</th>\n",
       "      <td>1500000US485079503022</td>\n",
       "      <td>Block Group 2; Census Tract 9503.02; Zavala Co...</td>\n",
       "      <td>456</td>\n",
       "    </tr>\n",
       "    <tr>\n",
       "      <th>18635</th>\n",
       "      <td>1500000US485079503023</td>\n",
       "      <td>Block Group 3; Census Tract 9503.02; Zavala Co...</td>\n",
       "      <td>873</td>\n",
       "    </tr>\n",
       "    <tr>\n",
       "      <th>18636</th>\n",
       "      <td>1500000US485079503024</td>\n",
       "      <td>Block Group 4; Census Tract 9503.02; Zavala Co...</td>\n",
       "      <td>588</td>\n",
       "    </tr>\n",
       "    <tr>\n",
       "      <th>18637</th>\n",
       "      <td>1500000US485079503025</td>\n",
       "      <td>Block Group 5; Census Tract 9503.02; Zavala Co...</td>\n",
       "      <td>1182</td>\n",
       "    </tr>\n",
       "  </tbody>\n",
       "</table>\n",
       "<p>18638 rows × 3 columns</p>\n",
       "</div>"
      ],
      "text/plain": [
       "                   Geo Index  \\\n",
       "0      1500000US480019501001   \n",
       "1      1500000US480019501002   \n",
       "2      1500000US480019501003   \n",
       "3      1500000US480019504011   \n",
       "4      1500000US480019504021   \n",
       "...                      ...   \n",
       "18633  1500000US485079503021   \n",
       "18634  1500000US485079503022   \n",
       "18635  1500000US485079503023   \n",
       "18636  1500000US485079503024   \n",
       "18637  1500000US485079503025   \n",
       "\n",
       "                                               Area Name Total  \n",
       "0      Block Group 1; Census Tract 9501; Anderson Cou...  1652  \n",
       "1      Block Group 2; Census Tract 9501; Anderson Cou...  2396  \n",
       "2      Block Group 3; Census Tract 9501; Anderson Cou...  1286  \n",
       "3      Block Group 1; Census Tract 9504.01; Anderson ...    85  \n",
       "4      Block Group 1; Census Tract 9504.02; Anderson ...     0  \n",
       "...                                                  ...   ...  \n",
       "18633  Block Group 1; Census Tract 9503.02; Zavala Co...  2265  \n",
       "18634  Block Group 2; Census Tract 9503.02; Zavala Co...   456  \n",
       "18635  Block Group 3; Census Tract 9503.02; Zavala Co...   873  \n",
       "18636  Block Group 4; Census Tract 9503.02; Zavala Co...   588  \n",
       "18637  Block Group 5; Census Tract 9503.02; Zavala Co...  1182  \n",
       "\n",
       "[18638 rows x 3 columns]"
      ]
     },
     "execution_count": 33,
     "metadata": {},
     "output_type": "execute_result"
    }
   ],
   "source": [
    "housingpopdf"
   ]
  },
  {
   "cell_type": "code",
   "execution_count": 37,
   "id": "31519001",
   "metadata": {},
   "outputs": [],
   "source": [
    "##P1 Population Data\n",
    "totalpopurl = 'https://drive.google.com/file/d/16Xwj6AaIjUAB59NhU_rq_tMiykrAwzHw/view?usp=share_link'\n",
    "totalpopurl='https://drive.usercontent.google.com/download?id={}&export=download&authuser=0&confirm=t'.format(totalpopurl.split('/')[-2])\n",
    "totalpopdf = pd.read_csv(totalpopurl)\n",
    "totalpopdf.columns = totalpopdf.iloc[0]\n",
    "totalpopdf = totalpopdf[1:].reset_index(drop=True)\n",
    "totalpopdf = totalpopdf[['Geography', 'Geographic Area Name', ' !!Total']]\n",
    "totalpopdf.columns = ['Geo Index', 'Area Name', 'Total']"
   ]
  },
  {
   "cell_type": "code",
   "execution_count": 38,
   "id": "c9c505b0",
   "metadata": {},
   "outputs": [
    {
     "data": {
      "application/vnd.microsoft.datawrangler.viewer.v0+json": {
       "columns": [
        {
         "name": "index",
         "rawType": "int64",
         "type": "integer"
        },
        {
         "name": "Geo Index",
         "rawType": "object",
         "type": "string"
        },
        {
         "name": "Area Name",
         "rawType": "object",
         "type": "string"
        },
        {
         "name": "Total",
         "rawType": "object",
         "type": "string"
        }
       ],
       "conversionMethod": "pd.DataFrame",
       "ref": "95629c8f-5340-424f-88f8-cb80d9946c57",
       "rows": [
        [
         "0",
         "1500000US480019501001",
         "Block Group 1; Census Tract 9501; Anderson County; Texas",
         "1196"
        ],
        [
         "1",
         "1500000US480019501002",
         "Block Group 2; Census Tract 9501; Anderson County; Texas",
         "1962"
        ],
        [
         "2",
         "1500000US480019501003",
         "Block Group 3; Census Tract 9501; Anderson County; Texas",
         "1483"
        ],
        [
         "3",
         "1500000US480019504011",
         "Block Group 1; Census Tract 9504.01; Anderson County; Texas",
         "5782"
        ],
        [
         "4",
         "1500000US480019504021",
         "Block Group 1; Census Tract 9504.02; Anderson County; Texas",
         "7115"
        ],
        [
         "5",
         "1500000US480019505001",
         "Block Group 1; Census Tract 9505; Anderson County; Texas",
         "733"
        ],
        [
         "6",
         "1500000US480019505002",
         "Block Group 2; Census Tract 9505; Anderson County; Texas",
         "470"
        ],
        [
         "7",
         "1500000US480019505003",
         "Block Group 3; Census Tract 9505; Anderson County; Texas",
         "1964"
        ],
        [
         "8",
         "1500000US480019505004",
         "Block Group 4; Census Tract 9505; Anderson County; Texas",
         "1312"
        ],
        [
         "9",
         "1500000US480019506001",
         "Block Group 1; Census Tract 9506; Anderson County; Texas",
         "1797"
        ],
        [
         "10",
         "1500000US480019506002",
         "Block Group 2; Census Tract 9506; Anderson County; Texas",
         "1485"
        ],
        [
         "11",
         "1500000US480019506003",
         "Block Group 3; Census Tract 9506; Anderson County; Texas",
         "1426"
        ],
        [
         "12",
         "1500000US480019506004",
         "Block Group 4; Census Tract 9506; Anderson County; Texas",
         "1328"
        ],
        [
         "13",
         "1500000US480019507001",
         "Block Group 1; Census Tract 9507; Anderson County; Texas",
         "905"
        ],
        [
         "14",
         "1500000US480019507002",
         "Block Group 2; Census Tract 9507; Anderson County; Texas",
         "661"
        ],
        [
         "15",
         "1500000US480019507003",
         "Block Group 3; Census Tract 9507; Anderson County; Texas",
         "998"
        ],
        [
         "16",
         "1500000US480019508001",
         "Block Group 1; Census Tract 9508; Anderson County; Texas",
         "1468"
        ],
        [
         "17",
         "1500000US480019508002",
         "Block Group 2; Census Tract 9508; Anderson County; Texas",
         "1288"
        ],
        [
         "18",
         "1500000US480019508003",
         "Block Group 3; Census Tract 9508; Anderson County; Texas",
         "1146"
        ],
        [
         "19",
         "1500000US480019508004",
         "Block Group 4; Census Tract 9508; Anderson County; Texas",
         "822"
        ],
        [
         "20",
         "1500000US480019508005",
         "Block Group 5; Census Tract 9508; Anderson County; Texas",
         "703"
        ],
        [
         "21",
         "1500000US480019509011",
         "Block Group 1; Census Tract 9509.01; Anderson County; Texas",
         "1148"
        ],
        [
         "22",
         "1500000US480019509012",
         "Block Group 2; Census Tract 9509.01; Anderson County; Texas",
         "756"
        ],
        [
         "23",
         "1500000US480019509013",
         "Block Group 3; Census Tract 9509.01; Anderson County; Texas",
         "613"
        ],
        [
         "24",
         "1500000US480019509014",
         "Block Group 4; Census Tract 9509.01; Anderson County; Texas",
         "2764"
        ],
        [
         "25",
         "1500000US480019509021",
         "Block Group 1; Census Tract 9509.02; Anderson County; Texas",
         "1063"
        ],
        [
         "26",
         "1500000US480019509022",
         "Block Group 2; Census Tract 9509.02; Anderson County; Texas",
         "1734"
        ],
        [
         "27",
         "1500000US480019509023",
         "Block Group 3; Census Tract 9509.02; Anderson County; Texas",
         "899"
        ],
        [
         "28",
         "1500000US480019509024",
         "Block Group 4; Census Tract 9509.02; Anderson County; Texas",
         "1394"
        ],
        [
         "29",
         "1500000US480019510011",
         "Block Group 1; Census Tract 9510.01; Anderson County; Texas",
         "1367"
        ],
        [
         "30",
         "1500000US480019510012",
         "Block Group 2; Census Tract 9510.01; Anderson County; Texas",
         "2251"
        ],
        [
         "31",
         "1500000US480019510021",
         "Block Group 1; Census Tract 9510.02; Anderson County; Texas",
         "780"
        ],
        [
         "32",
         "1500000US480019510022",
         "Block Group 2; Census Tract 9510.02; Anderson County; Texas",
         "1338"
        ],
        [
         "33",
         "1500000US480019510023",
         "Block Group 3; Census Tract 9510.02; Anderson County; Texas",
         "644"
        ],
        [
         "34",
         "1500000US480019510024",
         "Block Group 4; Census Tract 9510.02; Anderson County; Texas",
         "739"
        ],
        [
         "35",
         "1500000US480019511001",
         "Block Group 1; Census Tract 9511; Anderson County; Texas",
         "1872"
        ],
        [
         "36",
         "1500000US480019511002",
         "Block Group 2; Census Tract 9511; Anderson County; Texas",
         "817"
        ],
        [
         "37",
         "1500000US480019511003",
         "Block Group 3; Census Tract 9511; Anderson County; Texas",
         "1065"
        ],
        [
         "38",
         "1500000US480019511004",
         "Block Group 4; Census Tract 9511; Anderson County; Texas",
         "634"
        ],
        [
         "39",
         "1500000US480039501001",
         "Block Group 1; Census Tract 9501; Andrews County; Texas",
         "2405"
        ],
        [
         "40",
         "1500000US480039502001",
         "Block Group 1; Census Tract 9502; Andrews County; Texas",
         "1749"
        ],
        [
         "41",
         "1500000US480039502002",
         "Block Group 2; Census Tract 9502; Andrews County; Texas",
         "1130"
        ],
        [
         "42",
         "1500000US480039502003",
         "Block Group 3; Census Tract 9502; Andrews County; Texas",
         "2011"
        ],
        [
         "43",
         "1500000US480039502004",
         "Block Group 4; Census Tract 9502; Andrews County; Texas",
         "910"
        ],
        [
         "44",
         "1500000US480039502005",
         "Block Group 5; Census Tract 9502; Andrews County; Texas",
         "1105"
        ],
        [
         "45",
         "1500000US480039502006",
         "Block Group 6; Census Tract 9502; Andrews County; Texas",
         "805"
        ],
        [
         "46",
         "1500000US480039503001",
         "Block Group 1; Census Tract 9503; Andrews County; Texas",
         "2310"
        ],
        [
         "47",
         "1500000US480039503002",
         "Block Group 2; Census Tract 9503; Andrews County; Texas",
         "1662"
        ],
        [
         "48",
         "1500000US480039503003",
         "Block Group 3; Census Tract 9503; Andrews County; Texas",
         "696"
        ],
        [
         "49",
         "1500000US480039504001",
         "Block Group 1; Census Tract 9504; Andrews County; Texas",
         "2249"
        ]
       ],
       "shape": {
        "columns": 3,
        "rows": 18638
       }
      },
      "text/html": [
       "<div>\n",
       "<style scoped>\n",
       "    .dataframe tbody tr th:only-of-type {\n",
       "        vertical-align: middle;\n",
       "    }\n",
       "\n",
       "    .dataframe tbody tr th {\n",
       "        vertical-align: top;\n",
       "    }\n",
       "\n",
       "    .dataframe thead th {\n",
       "        text-align: right;\n",
       "    }\n",
       "</style>\n",
       "<table border=\"1\" class=\"dataframe\">\n",
       "  <thead>\n",
       "    <tr style=\"text-align: right;\">\n",
       "      <th></th>\n",
       "      <th>Geo Index</th>\n",
       "      <th>Area Name</th>\n",
       "      <th>Total</th>\n",
       "    </tr>\n",
       "  </thead>\n",
       "  <tbody>\n",
       "    <tr>\n",
       "      <th>0</th>\n",
       "      <td>1500000US480019501001</td>\n",
       "      <td>Block Group 1; Census Tract 9501; Anderson Cou...</td>\n",
       "      <td>1196</td>\n",
       "    </tr>\n",
       "    <tr>\n",
       "      <th>1</th>\n",
       "      <td>1500000US480019501002</td>\n",
       "      <td>Block Group 2; Census Tract 9501; Anderson Cou...</td>\n",
       "      <td>1962</td>\n",
       "    </tr>\n",
       "    <tr>\n",
       "      <th>2</th>\n",
       "      <td>1500000US480019501003</td>\n",
       "      <td>Block Group 3; Census Tract 9501; Anderson Cou...</td>\n",
       "      <td>1483</td>\n",
       "    </tr>\n",
       "    <tr>\n",
       "      <th>3</th>\n",
       "      <td>1500000US480019504011</td>\n",
       "      <td>Block Group 1; Census Tract 9504.01; Anderson ...</td>\n",
       "      <td>5782</td>\n",
       "    </tr>\n",
       "    <tr>\n",
       "      <th>4</th>\n",
       "      <td>1500000US480019504021</td>\n",
       "      <td>Block Group 1; Census Tract 9504.02; Anderson ...</td>\n",
       "      <td>7115</td>\n",
       "    </tr>\n",
       "    <tr>\n",
       "      <th>...</th>\n",
       "      <td>...</td>\n",
       "      <td>...</td>\n",
       "      <td>...</td>\n",
       "    </tr>\n",
       "    <tr>\n",
       "      <th>18633</th>\n",
       "      <td>1500000US485079503021</td>\n",
       "      <td>Block Group 1; Census Tract 9503.02; Zavala Co...</td>\n",
       "      <td>1928</td>\n",
       "    </tr>\n",
       "    <tr>\n",
       "      <th>18634</th>\n",
       "      <td>1500000US485079503022</td>\n",
       "      <td>Block Group 2; Census Tract 9503.02; Zavala Co...</td>\n",
       "      <td>842</td>\n",
       "    </tr>\n",
       "    <tr>\n",
       "      <th>18635</th>\n",
       "      <td>1500000US485079503023</td>\n",
       "      <td>Block Group 3; Census Tract 9503.02; Zavala Co...</td>\n",
       "      <td>1140</td>\n",
       "    </tr>\n",
       "    <tr>\n",
       "      <th>18636</th>\n",
       "      <td>1500000US485079503024</td>\n",
       "      <td>Block Group 4; Census Tract 9503.02; Zavala Co...</td>\n",
       "      <td>869</td>\n",
       "    </tr>\n",
       "    <tr>\n",
       "      <th>18637</th>\n",
       "      <td>1500000US485079503025</td>\n",
       "      <td>Block Group 5; Census Tract 9503.02; Zavala Co...</td>\n",
       "      <td>809</td>\n",
       "    </tr>\n",
       "  </tbody>\n",
       "</table>\n",
       "<p>18638 rows × 3 columns</p>\n",
       "</div>"
      ],
      "text/plain": [
       "                   Geo Index  \\\n",
       "0      1500000US480019501001   \n",
       "1      1500000US480019501002   \n",
       "2      1500000US480019501003   \n",
       "3      1500000US480019504011   \n",
       "4      1500000US480019504021   \n",
       "...                      ...   \n",
       "18633  1500000US485079503021   \n",
       "18634  1500000US485079503022   \n",
       "18635  1500000US485079503023   \n",
       "18636  1500000US485079503024   \n",
       "18637  1500000US485079503025   \n",
       "\n",
       "                                               Area Name Total  \n",
       "0      Block Group 1; Census Tract 9501; Anderson Cou...  1196  \n",
       "1      Block Group 2; Census Tract 9501; Anderson Cou...  1962  \n",
       "2      Block Group 3; Census Tract 9501; Anderson Cou...  1483  \n",
       "3      Block Group 1; Census Tract 9504.01; Anderson ...  5782  \n",
       "4      Block Group 1; Census Tract 9504.02; Anderson ...  7115  \n",
       "...                                                  ...   ...  \n",
       "18633  Block Group 1; Census Tract 9503.02; Zavala Co...  1928  \n",
       "18634  Block Group 2; Census Tract 9503.02; Zavala Co...   842  \n",
       "18635  Block Group 3; Census Tract 9503.02; Zavala Co...  1140  \n",
       "18636  Block Group 4; Census Tract 9503.02; Zavala Co...   869  \n",
       "18637  Block Group 5; Census Tract 9503.02; Zavala Co...   809  \n",
       "\n",
       "[18638 rows x 3 columns]"
      ]
     },
     "execution_count": 38,
     "metadata": {},
     "output_type": "execute_result"
    }
   ],
   "source": [
    "totalpopdf"
   ]
  },
  {
   "cell_type": "code",
   "execution_count": 42,
   "id": "a839f269",
   "metadata": {},
   "outputs": [],
   "source": [
    "##B17017 Poverty Status\n",
    "povurl = 'https://drive.google.com/file/d/1RI_gohidHo2aXqg67XayVAnKQumdIeNG/view?usp=share_link'\n",
    "povurl='https://drive.usercontent.google.com/download?id={}&export=download&authuser=0&confirm=t'.format(povurl.split('/')[-2])\n",
    "povdf = pd.read_csv(povurl)\n",
    "povdf = povdf[['GEO_ID', 'NAME', 'B17101_001E', 'B17101_002E', 'B17101_003E']]\n",
    "povdf = povdf[1:].reset_index(drop=True)\n",
    "povdf.columns = ['Geo Index', 'Area Name', 'Total', 'Below Poverty Level', 'At Poverty Level']"
   ]
  },
  {
   "cell_type": "code",
   "execution_count": 43,
   "id": "e0309ce0",
   "metadata": {},
   "outputs": [
    {
     "data": {
      "application/vnd.microsoft.datawrangler.viewer.v0+json": {
       "columns": [
        {
         "name": "index",
         "rawType": "int64",
         "type": "integer"
        },
        {
         "name": "Geo Index",
         "rawType": "object",
         "type": "string"
        },
        {
         "name": "Area Name",
         "rawType": "object",
         "type": "string"
        },
        {
         "name": "Total",
         "rawType": "object",
         "type": "string"
        },
        {
         "name": "Below Poverty Level",
         "rawType": "object",
         "type": "string"
        },
        {
         "name": "At Poverty Level",
         "rawType": "object",
         "type": "string"
        }
       ],
       "conversionMethod": "pd.DataFrame",
       "ref": "f71e1d09-f45a-40dc-9a63-5cd0872d9bb7",
       "rows": [
        [
         "0",
         "1500000US480019501001",
         "Block Group 1; Census Tract 9501; Anderson County; Texas",
         "1652",
         "122",
         "1530"
        ],
        [
         "1",
         "1500000US480019501002",
         "Block Group 2; Census Tract 9501; Anderson County; Texas",
         "2392",
         "423",
         "1969"
        ],
        [
         "2",
         "1500000US480019501003",
         "Block Group 3; Census Tract 9501; Anderson County; Texas",
         "1286",
         "281",
         "1005"
        ],
        [
         "3",
         "1500000US480019504011",
         "Block Group 1; Census Tract 9504.01; Anderson County; Texas",
         "85",
         "0",
         "85"
        ],
        [
         "4",
         "1500000US480019504021",
         "Block Group 1; Census Tract 9504.02; Anderson County; Texas",
         "0",
         "0",
         "0"
        ],
        [
         "5",
         "1500000US480019505001",
         "Block Group 1; Census Tract 9505; Anderson County; Texas",
         "507",
         "0",
         "507"
        ],
        [
         "6",
         "1500000US480019505002",
         "Block Group 2; Census Tract 9505; Anderson County; Texas",
         "489",
         "254",
         "235"
        ],
        [
         "7",
         "1500000US480019505003",
         "Block Group 3; Census Tract 9505; Anderson County; Texas",
         "1511",
         "96",
         "1415"
        ],
        [
         "8",
         "1500000US480019505004",
         "Block Group 4; Census Tract 9505; Anderson County; Texas",
         "1969",
         "364",
         "1605"
        ],
        [
         "9",
         "1500000US480019506001",
         "Block Group 1; Census Tract 9506; Anderson County; Texas",
         "1130",
         "768",
         "362"
        ],
        [
         "10",
         "1500000US480019506002",
         "Block Group 2; Census Tract 9506; Anderson County; Texas",
         "2179",
         "224",
         "1955"
        ],
        [
         "11",
         "1500000US480019506003",
         "Block Group 3; Census Tract 9506; Anderson County; Texas",
         "631",
         "77",
         "554"
        ],
        [
         "12",
         "1500000US480019506004",
         "Block Group 4; Census Tract 9506; Anderson County; Texas",
         "1259",
         "251",
         "1008"
        ],
        [
         "13",
         "1500000US480019507001",
         "Block Group 1; Census Tract 9507; Anderson County; Texas",
         "1018",
         "293",
         "725"
        ],
        [
         "14",
         "1500000US480019507002",
         "Block Group 2; Census Tract 9507; Anderson County; Texas",
         "656",
         "124",
         "532"
        ],
        [
         "15",
         "1500000US480019507003",
         "Block Group 3; Census Tract 9507; Anderson County; Texas",
         "448",
         "48",
         "400"
        ],
        [
         "16",
         "1500000US480019508001",
         "Block Group 1; Census Tract 9508; Anderson County; Texas",
         "1693",
         "0",
         "1693"
        ],
        [
         "17",
         "1500000US480019508002",
         "Block Group 2; Census Tract 9508; Anderson County; Texas",
         "2337",
         "769",
         "1568"
        ],
        [
         "18",
         "1500000US480019508003",
         "Block Group 3; Census Tract 9508; Anderson County; Texas",
         "1039",
         "138",
         "901"
        ],
        [
         "19",
         "1500000US480019508004",
         "Block Group 4; Census Tract 9508; Anderson County; Texas",
         "449",
         "0",
         "449"
        ],
        [
         "20",
         "1500000US480019508005",
         "Block Group 5; Census Tract 9508; Anderson County; Texas",
         "834",
         "0",
         "834"
        ],
        [
         "21",
         "1500000US480019509011",
         "Block Group 1; Census Tract 9509.01; Anderson County; Texas",
         "988",
         "53",
         "935"
        ],
        [
         "22",
         "1500000US480019509012",
         "Block Group 2; Census Tract 9509.01; Anderson County; Texas",
         "550",
         "105",
         "445"
        ],
        [
         "23",
         "1500000US480019509013",
         "Block Group 3; Census Tract 9509.01; Anderson County; Texas",
         "1224",
         "214",
         "1010"
        ],
        [
         "24",
         "1500000US480019509014",
         "Block Group 4; Census Tract 9509.01; Anderson County; Texas",
         "2014",
         "567",
         "1447"
        ],
        [
         "25",
         "1500000US480019509021",
         "Block Group 1; Census Tract 9509.02; Anderson County; Texas",
         "626",
         "128",
         "498"
        ],
        [
         "26",
         "1500000US480019509022",
         "Block Group 2; Census Tract 9509.02; Anderson County; Texas",
         "2651",
         "390",
         "2261"
        ],
        [
         "27",
         "1500000US480019509023",
         "Block Group 3; Census Tract 9509.02; Anderson County; Texas",
         "982",
         "0",
         "982"
        ],
        [
         "28",
         "1500000US480019509024",
         "Block Group 4; Census Tract 9509.02; Anderson County; Texas",
         "1285",
         "56",
         "1229"
        ],
        [
         "29",
         "1500000US480019510011",
         "Block Group 1; Census Tract 9510.01; Anderson County; Texas",
         "1180",
         "178",
         "1002"
        ],
        [
         "30",
         "1500000US480019510012",
         "Block Group 2; Census Tract 9510.01; Anderson County; Texas",
         "3361",
         "718",
         "2643"
        ],
        [
         "31",
         "1500000US480019510021",
         "Block Group 1; Census Tract 9510.02; Anderson County; Texas",
         "469",
         "12",
         "457"
        ],
        [
         "32",
         "1500000US480019510022",
         "Block Group 2; Census Tract 9510.02; Anderson County; Texas",
         "1441",
         "114",
         "1327"
        ],
        [
         "33",
         "1500000US480019510023",
         "Block Group 3; Census Tract 9510.02; Anderson County; Texas",
         "715",
         "70",
         "645"
        ],
        [
         "34",
         "1500000US480019510024",
         "Block Group 4; Census Tract 9510.02; Anderson County; Texas",
         "929",
         "243",
         "686"
        ],
        [
         "35",
         "1500000US480019511001",
         "Block Group 1; Census Tract 9511; Anderson County; Texas",
         "2034",
         "226",
         "1808"
        ],
        [
         "36",
         "1500000US480019511002",
         "Block Group 2; Census Tract 9511; Anderson County; Texas",
         "1016",
         "329",
         "687"
        ],
        [
         "37",
         "1500000US480019511003",
         "Block Group 3; Census Tract 9511; Anderson County; Texas",
         "813",
         "110",
         "703"
        ],
        [
         "38",
         "1500000US480019511004",
         "Block Group 4; Census Tract 9511; Anderson County; Texas",
         "805",
         "125",
         "680"
        ],
        [
         "39",
         "1500000US480039501001",
         "Block Group 1; Census Tract 9501; Andrews County; Texas",
         "2517",
         "235",
         "2282"
        ],
        [
         "40",
         "1500000US480039502001",
         "Block Group 1; Census Tract 9502; Andrews County; Texas",
         "1402",
         "274",
         "1128"
        ],
        [
         "41",
         "1500000US480039502002",
         "Block Group 2; Census Tract 9502; Andrews County; Texas",
         "740",
         "13",
         "727"
        ],
        [
         "42",
         "1500000US480039502003",
         "Block Group 3; Census Tract 9502; Andrews County; Texas",
         "1939",
         "718",
         "1221"
        ],
        [
         "43",
         "1500000US480039502004",
         "Block Group 4; Census Tract 9502; Andrews County; Texas",
         "1619",
         "86",
         "1533"
        ],
        [
         "44",
         "1500000US480039502005",
         "Block Group 5; Census Tract 9502; Andrews County; Texas",
         "975",
         "188",
         "787"
        ],
        [
         "45",
         "1500000US480039502006",
         "Block Group 6; Census Tract 9502; Andrews County; Texas",
         "883",
         "133",
         "750"
        ],
        [
         "46",
         "1500000US480039503001",
         "Block Group 1; Census Tract 9503; Andrews County; Texas",
         "1891",
         "285",
         "1606"
        ],
        [
         "47",
         "1500000US480039503002",
         "Block Group 2; Census Tract 9503; Andrews County; Texas",
         "2334",
         "201",
         "2133"
        ],
        [
         "48",
         "1500000US480039503003",
         "Block Group 3; Census Tract 9503; Andrews County; Texas",
         "293",
         "21",
         "272"
        ],
        [
         "49",
         "1500000US480039504001",
         "Block Group 1; Census Tract 9504; Andrews County; Texas",
         "2642",
         "212",
         "2430"
        ]
       ],
       "shape": {
        "columns": 5,
        "rows": 18638
       }
      },
      "text/html": [
       "<div>\n",
       "<style scoped>\n",
       "    .dataframe tbody tr th:only-of-type {\n",
       "        vertical-align: middle;\n",
       "    }\n",
       "\n",
       "    .dataframe tbody tr th {\n",
       "        vertical-align: top;\n",
       "    }\n",
       "\n",
       "    .dataframe thead th {\n",
       "        text-align: right;\n",
       "    }\n",
       "</style>\n",
       "<table border=\"1\" class=\"dataframe\">\n",
       "  <thead>\n",
       "    <tr style=\"text-align: right;\">\n",
       "      <th></th>\n",
       "      <th>Geo Index</th>\n",
       "      <th>Area Name</th>\n",
       "      <th>Total</th>\n",
       "      <th>Below Poverty Level</th>\n",
       "      <th>At Poverty Level</th>\n",
       "    </tr>\n",
       "  </thead>\n",
       "  <tbody>\n",
       "    <tr>\n",
       "      <th>0</th>\n",
       "      <td>1500000US480019501001</td>\n",
       "      <td>Block Group 1; Census Tract 9501; Anderson Cou...</td>\n",
       "      <td>1652</td>\n",
       "      <td>122</td>\n",
       "      <td>1530</td>\n",
       "    </tr>\n",
       "    <tr>\n",
       "      <th>1</th>\n",
       "      <td>1500000US480019501002</td>\n",
       "      <td>Block Group 2; Census Tract 9501; Anderson Cou...</td>\n",
       "      <td>2392</td>\n",
       "      <td>423</td>\n",
       "      <td>1969</td>\n",
       "    </tr>\n",
       "    <tr>\n",
       "      <th>2</th>\n",
       "      <td>1500000US480019501003</td>\n",
       "      <td>Block Group 3; Census Tract 9501; Anderson Cou...</td>\n",
       "      <td>1286</td>\n",
       "      <td>281</td>\n",
       "      <td>1005</td>\n",
       "    </tr>\n",
       "    <tr>\n",
       "      <th>3</th>\n",
       "      <td>1500000US480019504011</td>\n",
       "      <td>Block Group 1; Census Tract 9504.01; Anderson ...</td>\n",
       "      <td>85</td>\n",
       "      <td>0</td>\n",
       "      <td>85</td>\n",
       "    </tr>\n",
       "    <tr>\n",
       "      <th>4</th>\n",
       "      <td>1500000US480019504021</td>\n",
       "      <td>Block Group 1; Census Tract 9504.02; Anderson ...</td>\n",
       "      <td>0</td>\n",
       "      <td>0</td>\n",
       "      <td>0</td>\n",
       "    </tr>\n",
       "    <tr>\n",
       "      <th>...</th>\n",
       "      <td>...</td>\n",
       "      <td>...</td>\n",
       "      <td>...</td>\n",
       "      <td>...</td>\n",
       "      <td>...</td>\n",
       "    </tr>\n",
       "    <tr>\n",
       "      <th>18633</th>\n",
       "      <td>1500000US485079503021</td>\n",
       "      <td>Block Group 1; Census Tract 9503.02; Zavala Co...</td>\n",
       "      <td>2265</td>\n",
       "      <td>1565</td>\n",
       "      <td>700</td>\n",
       "    </tr>\n",
       "    <tr>\n",
       "      <th>18634</th>\n",
       "      <td>1500000US485079503022</td>\n",
       "      <td>Block Group 2; Census Tract 9503.02; Zavala Co...</td>\n",
       "      <td>456</td>\n",
       "      <td>44</td>\n",
       "      <td>412</td>\n",
       "    </tr>\n",
       "    <tr>\n",
       "      <th>18635</th>\n",
       "      <td>1500000US485079503023</td>\n",
       "      <td>Block Group 3; Census Tract 9503.02; Zavala Co...</td>\n",
       "      <td>873</td>\n",
       "      <td>112</td>\n",
       "      <td>761</td>\n",
       "    </tr>\n",
       "    <tr>\n",
       "      <th>18636</th>\n",
       "      <td>1500000US485079503024</td>\n",
       "      <td>Block Group 4; Census Tract 9503.02; Zavala Co...</td>\n",
       "      <td>588</td>\n",
       "      <td>123</td>\n",
       "      <td>465</td>\n",
       "    </tr>\n",
       "    <tr>\n",
       "      <th>18637</th>\n",
       "      <td>1500000US485079503025</td>\n",
       "      <td>Block Group 5; Census Tract 9503.02; Zavala Co...</td>\n",
       "      <td>1182</td>\n",
       "      <td>380</td>\n",
       "      <td>802</td>\n",
       "    </tr>\n",
       "  </tbody>\n",
       "</table>\n",
       "<p>18638 rows × 5 columns</p>\n",
       "</div>"
      ],
      "text/plain": [
       "                   Geo Index  \\\n",
       "0      1500000US480019501001   \n",
       "1      1500000US480019501002   \n",
       "2      1500000US480019501003   \n",
       "3      1500000US480019504011   \n",
       "4      1500000US480019504021   \n",
       "...                      ...   \n",
       "18633  1500000US485079503021   \n",
       "18634  1500000US485079503022   \n",
       "18635  1500000US485079503023   \n",
       "18636  1500000US485079503024   \n",
       "18637  1500000US485079503025   \n",
       "\n",
       "                                               Area Name Total  \\\n",
       "0      Block Group 1; Census Tract 9501; Anderson Cou...  1652   \n",
       "1      Block Group 2; Census Tract 9501; Anderson Cou...  2392   \n",
       "2      Block Group 3; Census Tract 9501; Anderson Cou...  1286   \n",
       "3      Block Group 1; Census Tract 9504.01; Anderson ...    85   \n",
       "4      Block Group 1; Census Tract 9504.02; Anderson ...     0   \n",
       "...                                                  ...   ...   \n",
       "18633  Block Group 1; Census Tract 9503.02; Zavala Co...  2265   \n",
       "18634  Block Group 2; Census Tract 9503.02; Zavala Co...   456   \n",
       "18635  Block Group 3; Census Tract 9503.02; Zavala Co...   873   \n",
       "18636  Block Group 4; Census Tract 9503.02; Zavala Co...   588   \n",
       "18637  Block Group 5; Census Tract 9503.02; Zavala Co...  1182   \n",
       "\n",
       "      Below Poverty Level At Poverty Level  \n",
       "0                     122             1530  \n",
       "1                     423             1969  \n",
       "2                     281             1005  \n",
       "3                       0               85  \n",
       "4                       0                0  \n",
       "...                   ...              ...  \n",
       "18633                1565              700  \n",
       "18634                  44              412  \n",
       "18635                 112              761  \n",
       "18636                 123              465  \n",
       "18637                 380              802  \n",
       "\n",
       "[18638 rows x 5 columns]"
      ]
     },
     "execution_count": 43,
     "metadata": {},
     "output_type": "execute_result"
    }
   ],
   "source": [
    "povdf"
   ]
  },
  {
   "cell_type": "code",
   "execution_count": 44,
   "id": "5e82045d",
   "metadata": {},
   "outputs": [
    {
     "name": "stderr",
     "output_type": "stream",
     "text": [
      "C:\\Users\\natal\\AppData\\Local\\Temp\\ipykernel_36288\\2332152003.py:4: DtypeWarning: Columns (2,3,4,5,6,7,8,9,10,11,12,13,14,15,16,17,18,19,20,21,22,23,24,25,26,27,28,29,30,31) have mixed types. Specify dtype option on import or set low_memory=False.\n",
      "  vehiclesdf = pd.read_csv(vehiclesurl)\n"
     ]
    }
   ],
   "source": [
    "#B25044 Tenure by Vehicles Available\n",
    "vehiclesurl = 'https://drive.google.com/file/d/1SanHZUmBEuISsFvPpr2DeVJkDG3XV3Im/view?usp=share_link'\n",
    "vehiclesurl='https://drive.usercontent.google.com/download?id={}&export=download&authuser=0&confirm=t'.format(vehiclesurl.split('/')[-2])\n",
    "vehiclesdf = pd.read_csv(vehiclesurl)\n",
    "vehiclesdf = vehiclesdf[['GEO_ID', 'NAME', 'B25044_001E', 'B25044_003E', 'B25044_010E']]\n",
    "vehiclesdf = vehiclesdf[1:].reset_index(drop=True)\n",
    "vehiclesdf.columns = ['Geo Index', 'Area Name', 'Total Occupied Households', 'Total Owner Occupied No Vehicle', 'Total Renter Occupied No Vehicle']"
   ]
  },
  {
   "cell_type": "code",
   "execution_count": 45,
   "id": "84f51f4a",
   "metadata": {},
   "outputs": [
    {
     "data": {
      "application/vnd.microsoft.datawrangler.viewer.v0+json": {
       "columns": [
        {
         "name": "index",
         "rawType": "int64",
         "type": "integer"
        },
        {
         "name": "Geo Index",
         "rawType": "object",
         "type": "string"
        },
        {
         "name": "Area Name",
         "rawType": "object",
         "type": "string"
        },
        {
         "name": "Total Occupied Households",
         "rawType": "object",
         "type": "unknown"
        },
        {
         "name": "Total Owner Occupied No Vehicle",
         "rawType": "object",
         "type": "unknown"
        },
        {
         "name": "Total Renter Occupied No Vehicle",
         "rawType": "object",
         "type": "unknown"
        }
       ],
       "conversionMethod": "pd.DataFrame",
       "ref": "f2883e85-83fc-449a-8fe7-2cf3e3fc61ff",
       "rows": [
        [
         "0",
         "1500000US480019501001",
         "Block Group 1; Census Tract 9501; Anderson County; Texas",
         "611",
         "3",
         "15"
        ],
        [
         "1",
         "1500000US480019501002",
         "Block Group 2; Census Tract 9501; Anderson County; Texas",
         "839",
         "0",
         "10"
        ],
        [
         "2",
         "1500000US480019501003",
         "Block Group 3; Census Tract 9501; Anderson County; Texas",
         "477",
         "20",
         "0"
        ],
        [
         "3",
         "1500000US480019504011",
         "Block Group 1; Census Tract 9504.01; Anderson County; Texas",
         "26",
         "0",
         "0"
        ],
        [
         "4",
         "1500000US480019504021",
         "Block Group 1; Census Tract 9504.02; Anderson County; Texas",
         "0",
         "0",
         "0"
        ],
        [
         "5",
         "1500000US480019505001",
         "Block Group 1; Census Tract 9505; Anderson County; Texas",
         "169",
         "0",
         "0"
        ],
        [
         "6",
         "1500000US480019505002",
         "Block Group 2; Census Tract 9505; Anderson County; Texas",
         "208",
         "55",
         "0"
        ],
        [
         "7",
         "1500000US480019505003",
         "Block Group 3; Census Tract 9505; Anderson County; Texas",
         "515",
         "15",
         "8"
        ],
        [
         "8",
         "1500000US480019505004",
         "Block Group 4; Census Tract 9505; Anderson County; Texas",
         "533",
         "0",
         "47"
        ],
        [
         "9",
         "1500000US480019506001",
         "Block Group 1; Census Tract 9506; Anderson County; Texas",
         "580",
         "20",
         "156"
        ],
        [
         "10",
         "1500000US480019506002",
         "Block Group 2; Census Tract 9506; Anderson County; Texas",
         "675",
         "0",
         "0"
        ],
        [
         "11",
         "1500000US480019506003",
         "Block Group 3; Census Tract 9506; Anderson County; Texas",
         "294",
         "0",
         "20"
        ],
        [
         "12",
         "1500000US480019506004",
         "Block Group 4; Census Tract 9506; Anderson County; Texas",
         "399",
         "0",
         "37"
        ],
        [
         "13",
         "1500000US480019507001",
         "Block Group 1; Census Tract 9507; Anderson County; Texas",
         "347",
         "3",
         "86"
        ],
        [
         "14",
         "1500000US480019507002",
         "Block Group 2; Census Tract 9507; Anderson County; Texas",
         "204",
         "4",
         "0"
        ],
        [
         "15",
         "1500000US480019507003",
         "Block Group 3; Census Tract 9507; Anderson County; Texas",
         "177",
         "0",
         "2"
        ],
        [
         "16",
         "1500000US480019508001",
         "Block Group 1; Census Tract 9508; Anderson County; Texas",
         "994",
         "0",
         "26"
        ],
        [
         "17",
         "1500000US480019508002",
         "Block Group 2; Census Tract 9508; Anderson County; Texas",
         "600",
         "4",
         "0"
        ],
        [
         "18",
         "1500000US480019508003",
         "Block Group 3; Census Tract 9508; Anderson County; Texas",
         "493",
         "0",
         "161"
        ],
        [
         "19",
         "1500000US480019508004",
         "Block Group 4; Census Tract 9508; Anderson County; Texas",
         "272",
         "0",
         "0"
        ],
        [
         "20",
         "1500000US480019508005",
         "Block Group 5; Census Tract 9508; Anderson County; Texas",
         "360",
         "14",
         "0"
        ],
        [
         "21",
         "1500000US480019509011",
         "Block Group 1; Census Tract 9509.01; Anderson County; Texas",
         "394",
         "0",
         "68"
        ],
        [
         "22",
         "1500000US480019509012",
         "Block Group 2; Census Tract 9509.01; Anderson County; Texas",
         "200",
         "0",
         "0"
        ],
        [
         "23",
         "1500000US480019509013",
         "Block Group 3; Census Tract 9509.01; Anderson County; Texas",
         "424",
         "0",
         "0"
        ],
        [
         "24",
         "1500000US480019509014",
         "Block Group 4; Census Tract 9509.01; Anderson County; Texas",
         "679",
         "13",
         "0"
        ],
        [
         "25",
         "1500000US480019509021",
         "Block Group 1; Census Tract 9509.02; Anderson County; Texas",
         "250",
         "0",
         "0"
        ],
        [
         "26",
         "1500000US480019509022",
         "Block Group 2; Census Tract 9509.02; Anderson County; Texas",
         "834",
         "29",
         "0"
        ],
        [
         "27",
         "1500000US480019509023",
         "Block Group 3; Census Tract 9509.02; Anderson County; Texas",
         "345",
         "0",
         "0"
        ],
        [
         "28",
         "1500000US480019509024",
         "Block Group 4; Census Tract 9509.02; Anderson County; Texas",
         "634",
         "10",
         "151"
        ],
        [
         "29",
         "1500000US480019510011",
         "Block Group 1; Census Tract 9510.01; Anderson County; Texas",
         "487",
         "3",
         "0"
        ],
        [
         "30",
         "1500000US480019510012",
         "Block Group 2; Census Tract 9510.01; Anderson County; Texas",
         "977",
         "8",
         "0"
        ],
        [
         "31",
         "1500000US480019510021",
         "Block Group 1; Census Tract 9510.02; Anderson County; Texas",
         "195",
         "12",
         "0"
        ],
        [
         "32",
         "1500000US480019510022",
         "Block Group 2; Census Tract 9510.02; Anderson County; Texas",
         "524",
         "0",
         "0"
        ],
        [
         "33",
         "1500000US480019510023",
         "Block Group 3; Census Tract 9510.02; Anderson County; Texas",
         "270",
         "4",
         "24"
        ],
        [
         "34",
         "1500000US480019510024",
         "Block Group 4; Census Tract 9510.02; Anderson County; Texas",
         "307",
         "0",
         "0"
        ],
        [
         "35",
         "1500000US480019511001",
         "Block Group 1; Census Tract 9511; Anderson County; Texas",
         "753",
         "0",
         "0"
        ],
        [
         "36",
         "1500000US480019511002",
         "Block Group 2; Census Tract 9511; Anderson County; Texas",
         "368",
         "20",
         "25"
        ],
        [
         "37",
         "1500000US480019511003",
         "Block Group 3; Census Tract 9511; Anderson County; Texas",
         "392",
         "10",
         "0"
        ],
        [
         "38",
         "1500000US480019511004",
         "Block Group 4; Census Tract 9511; Anderson County; Texas",
         "336",
         "0",
         "5"
        ],
        [
         "39",
         "1500000US480039501001",
         "Block Group 1; Census Tract 9501; Andrews County; Texas",
         "741",
         "0",
         "17"
        ],
        [
         "40",
         "1500000US480039502001",
         "Block Group 1; Census Tract 9502; Andrews County; Texas",
         "528",
         "0",
         "0"
        ],
        [
         "41",
         "1500000US480039502002",
         "Block Group 2; Census Tract 9502; Andrews County; Texas",
         "314",
         "0",
         "0"
        ],
        [
         "42",
         "1500000US480039502003",
         "Block Group 3; Census Tract 9502; Andrews County; Texas",
         "735",
         "33",
         "0"
        ],
        [
         "43",
         "1500000US480039502004",
         "Block Group 4; Census Tract 9502; Andrews County; Texas",
         "560",
         "0",
         "0"
        ],
        [
         "44",
         "1500000US480039502005",
         "Block Group 5; Census Tract 9502; Andrews County; Texas",
         "327",
         "0",
         "0"
        ],
        [
         "45",
         "1500000US480039502006",
         "Block Group 6; Census Tract 9502; Andrews County; Texas",
         "353",
         "25",
         "0"
        ],
        [
         "46",
         "1500000US480039503001",
         "Block Group 1; Census Tract 9503; Andrews County; Texas",
         "795",
         "0",
         "23"
        ],
        [
         "47",
         "1500000US480039503002",
         "Block Group 2; Census Tract 9503; Andrews County; Texas",
         "980",
         "21",
         "0"
        ],
        [
         "48",
         "1500000US480039503003",
         "Block Group 3; Census Tract 9503; Andrews County; Texas",
         "153",
         "0",
         "0"
        ],
        [
         "49",
         "1500000US480039504001",
         "Block Group 1; Census Tract 9504; Andrews County; Texas",
         "860",
         "37",
         "0"
        ]
       ],
       "shape": {
        "columns": 5,
        "rows": 18638
       }
      },
      "text/html": [
       "<div>\n",
       "<style scoped>\n",
       "    .dataframe tbody tr th:only-of-type {\n",
       "        vertical-align: middle;\n",
       "    }\n",
       "\n",
       "    .dataframe tbody tr th {\n",
       "        vertical-align: top;\n",
       "    }\n",
       "\n",
       "    .dataframe thead th {\n",
       "        text-align: right;\n",
       "    }\n",
       "</style>\n",
       "<table border=\"1\" class=\"dataframe\">\n",
       "  <thead>\n",
       "    <tr style=\"text-align: right;\">\n",
       "      <th></th>\n",
       "      <th>Geo Index</th>\n",
       "      <th>Area Name</th>\n",
       "      <th>Total Occupied Households</th>\n",
       "      <th>Total Owner Occupied No Vehicle</th>\n",
       "      <th>Total Renter Occupied No Vehicle</th>\n",
       "    </tr>\n",
       "  </thead>\n",
       "  <tbody>\n",
       "    <tr>\n",
       "      <th>0</th>\n",
       "      <td>1500000US480019501001</td>\n",
       "      <td>Block Group 1; Census Tract 9501; Anderson Cou...</td>\n",
       "      <td>611</td>\n",
       "      <td>3</td>\n",
       "      <td>15</td>\n",
       "    </tr>\n",
       "    <tr>\n",
       "      <th>1</th>\n",
       "      <td>1500000US480019501002</td>\n",
       "      <td>Block Group 2; Census Tract 9501; Anderson Cou...</td>\n",
       "      <td>839</td>\n",
       "      <td>0</td>\n",
       "      <td>10</td>\n",
       "    </tr>\n",
       "    <tr>\n",
       "      <th>2</th>\n",
       "      <td>1500000US480019501003</td>\n",
       "      <td>Block Group 3; Census Tract 9501; Anderson Cou...</td>\n",
       "      <td>477</td>\n",
       "      <td>20</td>\n",
       "      <td>0</td>\n",
       "    </tr>\n",
       "    <tr>\n",
       "      <th>3</th>\n",
       "      <td>1500000US480019504011</td>\n",
       "      <td>Block Group 1; Census Tract 9504.01; Anderson ...</td>\n",
       "      <td>26</td>\n",
       "      <td>0</td>\n",
       "      <td>0</td>\n",
       "    </tr>\n",
       "    <tr>\n",
       "      <th>4</th>\n",
       "      <td>1500000US480019504021</td>\n",
       "      <td>Block Group 1; Census Tract 9504.02; Anderson ...</td>\n",
       "      <td>0</td>\n",
       "      <td>0</td>\n",
       "      <td>0</td>\n",
       "    </tr>\n",
       "    <tr>\n",
       "      <th>...</th>\n",
       "      <td>...</td>\n",
       "      <td>...</td>\n",
       "      <td>...</td>\n",
       "      <td>...</td>\n",
       "      <td>...</td>\n",
       "    </tr>\n",
       "    <tr>\n",
       "      <th>18633</th>\n",
       "      <td>1500000US485079503021</td>\n",
       "      <td>Block Group 1; Census Tract 9503.02; Zavala Co...</td>\n",
       "      <td>576</td>\n",
       "      <td>20</td>\n",
       "      <td>0</td>\n",
       "    </tr>\n",
       "    <tr>\n",
       "      <th>18634</th>\n",
       "      <td>1500000US485079503022</td>\n",
       "      <td>Block Group 2; Census Tract 9503.02; Zavala Co...</td>\n",
       "      <td>213</td>\n",
       "      <td>0</td>\n",
       "      <td>0</td>\n",
       "    </tr>\n",
       "    <tr>\n",
       "      <th>18635</th>\n",
       "      <td>1500000US485079503023</td>\n",
       "      <td>Block Group 3; Census Tract 9503.02; Zavala Co...</td>\n",
       "      <td>323</td>\n",
       "      <td>11</td>\n",
       "      <td>0</td>\n",
       "    </tr>\n",
       "    <tr>\n",
       "      <th>18636</th>\n",
       "      <td>1500000US485079503024</td>\n",
       "      <td>Block Group 4; Census Tract 9503.02; Zavala Co...</td>\n",
       "      <td>237</td>\n",
       "      <td>10</td>\n",
       "      <td>0</td>\n",
       "    </tr>\n",
       "    <tr>\n",
       "      <th>18637</th>\n",
       "      <td>1500000US485079503025</td>\n",
       "      <td>Block Group 5; Census Tract 9503.02; Zavala Co...</td>\n",
       "      <td>450</td>\n",
       "      <td>0</td>\n",
       "      <td>30</td>\n",
       "    </tr>\n",
       "  </tbody>\n",
       "</table>\n",
       "<p>18638 rows × 5 columns</p>\n",
       "</div>"
      ],
      "text/plain": [
       "                   Geo Index  \\\n",
       "0      1500000US480019501001   \n",
       "1      1500000US480019501002   \n",
       "2      1500000US480019501003   \n",
       "3      1500000US480019504011   \n",
       "4      1500000US480019504021   \n",
       "...                      ...   \n",
       "18633  1500000US485079503021   \n",
       "18634  1500000US485079503022   \n",
       "18635  1500000US485079503023   \n",
       "18636  1500000US485079503024   \n",
       "18637  1500000US485079503025   \n",
       "\n",
       "                                               Area Name  \\\n",
       "0      Block Group 1; Census Tract 9501; Anderson Cou...   \n",
       "1      Block Group 2; Census Tract 9501; Anderson Cou...   \n",
       "2      Block Group 3; Census Tract 9501; Anderson Cou...   \n",
       "3      Block Group 1; Census Tract 9504.01; Anderson ...   \n",
       "4      Block Group 1; Census Tract 9504.02; Anderson ...   \n",
       "...                                                  ...   \n",
       "18633  Block Group 1; Census Tract 9503.02; Zavala Co...   \n",
       "18634  Block Group 2; Census Tract 9503.02; Zavala Co...   \n",
       "18635  Block Group 3; Census Tract 9503.02; Zavala Co...   \n",
       "18636  Block Group 4; Census Tract 9503.02; Zavala Co...   \n",
       "18637  Block Group 5; Census Tract 9503.02; Zavala Co...   \n",
       "\n",
       "      Total Occupied Households Total Owner Occupied No Vehicle  \\\n",
       "0                           611                               3   \n",
       "1                           839                               0   \n",
       "2                           477                              20   \n",
       "3                            26                               0   \n",
       "4                             0                               0   \n",
       "...                         ...                             ...   \n",
       "18633                       576                              20   \n",
       "18634                       213                               0   \n",
       "18635                       323                              11   \n",
       "18636                       237                              10   \n",
       "18637                       450                               0   \n",
       "\n",
       "      Total Renter Occupied No Vehicle  \n",
       "0                                   15  \n",
       "1                                   10  \n",
       "2                                    0  \n",
       "3                                    0  \n",
       "4                                    0  \n",
       "...                                ...  \n",
       "18633                                0  \n",
       "18634                                0  \n",
       "18635                                0  \n",
       "18636                                0  \n",
       "18637                               30  \n",
       "\n",
       "[18638 rows x 5 columns]"
      ]
     },
     "execution_count": 45,
     "metadata": {},
     "output_type": "execute_result"
    }
   ],
   "source": [
    "vehiclesdf"
   ]
  },
  {
   "cell_type": "code",
   "execution_count": null,
   "id": "4a2d578b",
   "metadata": {},
   "outputs": [],
   "source": [
    "#Fast food locations for locating food swamps\n",
    "ffurl = 'https://drive.google.com/file/d/1i16keSSE16ysh0g2q_0hwgIBrzPI2zZ2/view?usp=share_link'\n",
    "ffurl='https://drive.usercontent.google.com/download?id={}&export=download&authuser=0&confirm=t'.format(ffurl.split('/')[-2])\n",
    "ffdf = pd.read_csv(ffurl)\n",
    "ffdf = ffdf[['city', 'province', 'country', 'latitude', 'longitude']]\n",
    "ffdf = ffdf[(ffdf['country'] == 'US') & (ffdf['province'] == 'TX')]\n",
    "ffdf = ffdf[['latitude', 'longitude']]"
   ]
  },
  {
   "cell_type": "code",
   "execution_count": null,
   "id": "f9fae221",
   "metadata": {},
   "outputs": [
    {
     "data": {
      "application/vnd.microsoft.datawrangler.viewer.v0+json": {
       "columns": [
        {
         "name": "index",
         "rawType": "int64",
         "type": "integer"
        },
        {
         "name": "latitude",
         "rawType": "float64",
         "type": "float"
        },
        {
         "name": "longitude",
         "rawType": "float64",
         "type": "float"
        }
       ],
       "conversionMethod": "pd.DataFrame",
       "ref": "701185e2-ae06-493e-93e4-9551d8d96a0c",
       "rows": [
        [
         "253",
         "33.46667",
         "-94.04323"
        ],
        [
         "515",
         "30.555157",
         "-97.691696"
        ],
        [
         "516",
         "29.52078",
         "-95.07678"
        ],
        [
         "1505",
         "31.84044",
         "-106.57289"
        ],
        [
         "1508",
         "31.8831",
         "-106.58329"
        ],
        [
         "1509",
         "31.99751",
         "-106.58069"
        ],
        [
         "1674",
         "27.76237",
         "-98.23323"
        ],
        [
         "1675",
         "29.38255",
         "-98.61337"
        ],
        [
         "1676",
         "33.39245",
         "-97.72986"
        ],
        [
         "1678",
         "30.13561",
         "-96.2559"
        ],
        [
         "1680",
         "30.02808",
         "-94.59623"
        ],
        [
         "1681",
         "30.04512",
         "-94.88775"
        ],
        [
         "1683",
         "31.54343",
         "-96.83127"
        ],
        [
         "1685",
         "32.86398",
         "-96.65062"
        ],
        [
         "1686",
         "32.9333",
         "-96.68217"
        ],
        [
         "1687",
         "32.85724",
         "-96.64467"
        ],
        [
         "1688",
         "31.42089",
         "-94.80544"
        ],
        [
         "1689",
         "29.9048",
         "-96.91043"
        ],
        [
         "1691",
         "29.28968",
         "-94.78946"
        ],
        [
         "1696",
         "29.99837",
         "-95.1769"
        ],
        [
         "1697",
         "26.29332",
         "-97.99222"
        ],
        [
         "1699",
         "32.52232",
         "-96.66432"
        ],
        [
         "1700",
         "26.421545",
         "-99.00248"
        ],
        [
         "1701",
         "30.11478",
         "-94.6455"
        ],
        [
         "1707",
         "32.83232",
         "-96.61277"
        ],
        [
         "1708",
         "32.76391",
         "-96.58204"
        ],
        [
         "1715",
         "32.72699",
         "-97.8258"
        ],
        [
         "1716",
         "32.73289",
         "-97.78682"
        ],
        [
         "1718",
         "29.55486",
         "-95.39116"
        ],
        [
         "1719",
         "29.87754",
         "-97.94521"
        ],
        [
         "1722",
         "33.10106",
         "-96.80588"
        ],
        [
         "1724",
         "31.33577",
         "-94.71771"
        ],
        [
         "1730",
         "29.68866",
         "-98.1277"
        ],
        [
         "1733",
         "30.63309",
         "-96.32877"
        ],
        [
         "1745",
         "29.64992",
         "-95.16685"
        ],
        [
         "1746",
         "29.7812",
         "-94.97721"
        ],
        [
         "1747",
         "29.39496",
         "-94.93486"
        ],
        [
         "1750",
         "30.20638",
         "-95.46265"
        ],
        [
         "1755",
         "31.52533",
         "-97.13177"
        ],
        [
         "1756",
         "33.88511",
         "-98.48957"
        ],
        [
         "1757",
         "32.51575",
         "-94.7393"
        ],
        [
         "1761",
         "31.11042",
         "-97.74774"
        ],
        [
         "1765",
         "27.61045",
         "-99.47233"
        ],
        [
         "1766",
         "27.57483",
         "-99.47289"
        ],
        [
         "1767",
         "32.03608",
         "-102.1228"
        ],
        [
         "1770",
         "27.70921",
         "-97.36312"
        ],
        [
         "1771",
         "32.75882",
         "-97.11512"
        ],
        [
         "1781",
         "26.17314",
         "-98.00703"
        ],
        [
         "1800",
         "29.70698",
         "-95.40232"
        ],
        [
         "2937",
         "29.400708",
         "-95.036146"
        ]
       ],
       "shape": {
        "columns": 2,
        "rows": 426
       }
      },
      "text/html": [
       "<div>\n",
       "<style scoped>\n",
       "    .dataframe tbody tr th:only-of-type {\n",
       "        vertical-align: middle;\n",
       "    }\n",
       "\n",
       "    .dataframe tbody tr th {\n",
       "        vertical-align: top;\n",
       "    }\n",
       "\n",
       "    .dataframe thead th {\n",
       "        text-align: right;\n",
       "    }\n",
       "</style>\n",
       "<table border=\"1\" class=\"dataframe\">\n",
       "  <thead>\n",
       "    <tr style=\"text-align: right;\">\n",
       "      <th></th>\n",
       "      <th>latitude</th>\n",
       "      <th>longitude</th>\n",
       "    </tr>\n",
       "  </thead>\n",
       "  <tbody>\n",
       "    <tr>\n",
       "      <th>253</th>\n",
       "      <td>33.466670</td>\n",
       "      <td>-94.043230</td>\n",
       "    </tr>\n",
       "    <tr>\n",
       "      <th>515</th>\n",
       "      <td>30.555157</td>\n",
       "      <td>-97.691696</td>\n",
       "    </tr>\n",
       "    <tr>\n",
       "      <th>516</th>\n",
       "      <td>29.520780</td>\n",
       "      <td>-95.076780</td>\n",
       "    </tr>\n",
       "    <tr>\n",
       "      <th>1505</th>\n",
       "      <td>31.840440</td>\n",
       "      <td>-106.572890</td>\n",
       "    </tr>\n",
       "    <tr>\n",
       "      <th>1508</th>\n",
       "      <td>31.883100</td>\n",
       "      <td>-106.583290</td>\n",
       "    </tr>\n",
       "    <tr>\n",
       "      <th>...</th>\n",
       "      <td>...</td>\n",
       "      <td>...</td>\n",
       "    </tr>\n",
       "    <tr>\n",
       "      <th>9940</th>\n",
       "      <td>32.575938</td>\n",
       "      <td>-96.671489</td>\n",
       "    </tr>\n",
       "    <tr>\n",
       "      <th>9942</th>\n",
       "      <td>32.473080</td>\n",
       "      <td>-100.400862</td>\n",
       "    </tr>\n",
       "    <tr>\n",
       "      <th>9965</th>\n",
       "      <td>32.576925</td>\n",
       "      <td>-96.309464</td>\n",
       "    </tr>\n",
       "    <tr>\n",
       "      <th>9977</th>\n",
       "      <td>29.802502</td>\n",
       "      <td>-95.487346</td>\n",
       "    </tr>\n",
       "    <tr>\n",
       "      <th>9993</th>\n",
       "      <td>32.661820</td>\n",
       "      <td>-96.908570</td>\n",
       "    </tr>\n",
       "  </tbody>\n",
       "</table>\n",
       "<p>426 rows × 2 columns</p>\n",
       "</div>"
      ],
      "text/plain": [
       "       latitude   longitude\n",
       "253   33.466670  -94.043230\n",
       "515   30.555157  -97.691696\n",
       "516   29.520780  -95.076780\n",
       "1505  31.840440 -106.572890\n",
       "1508  31.883100 -106.583290\n",
       "...         ...         ...\n",
       "9940  32.575938  -96.671489\n",
       "9942  32.473080 -100.400862\n",
       "9965  32.576925  -96.309464\n",
       "9977  29.802502  -95.487346\n",
       "9993  32.661820  -96.908570\n",
       "\n",
       "[426 rows x 2 columns]"
      ]
     },
     "execution_count": 50,
     "metadata": {},
     "output_type": "execute_result"
    }
   ],
   "source": [
    "ffdf"
   ]
  },
  {
   "cell_type": "code",
   "execution_count": 74,
   "id": "72fbe9d2",
   "metadata": {},
   "outputs": [],
   "source": [
    "#SNAP Retailers\n",
    "snapurl = 'https://drive.google.com/file/d/1v9l5GSJdfdGWU7by6trpF6GQK9yPfAp8/view?usp=share_link'\n",
    "snapurl='https://drive.usercontent.google.com/download?id={}&export=download&authuser=0&confirm=t'.format(snapurl.split('/')[-2])\n",
    "snapdf = pd.read_csv(snapurl, encoding='latin1')\n",
    "snapdf = snapdf[(snapdf['State'] == 'TX')]\n",
    "snapdf['Authorization Date'] = pd.to_datetime(snapdf['Authorization Date'])\n",
    "snapdf = snapdf.replace(\"\", None)\n",
    "snapdf = snapdf.replace(\" \", None)\n",
    "snapdf['End Date'] = pd.to_datetime(snapdf['End Date'])\n",
    "snapdf = snapdf[(snapdf['Authorization Date'].dt.year < 2023) & ((snapdf['End Date'].dt.year >= 2023) | snapdf['End Date'].isnull())]\n",
    "snapdf = snapdf[['Latitude', 'Longitude']]"
   ]
  },
  {
   "cell_type": "code",
   "execution_count": 75,
   "id": "7ff2376c",
   "metadata": {},
   "outputs": [
    {
     "data": {
      "application/vnd.microsoft.datawrangler.viewer.v0+json": {
       "columns": [
        {
         "name": "index",
         "rawType": "int64",
         "type": "integer"
        },
        {
         "name": "Latitude",
         "rawType": "float64",
         "type": "float"
        },
        {
         "name": "Longitude",
         "rawType": "float64",
         "type": "float"
        }
       ],
       "conversionMethod": "pd.DataFrame",
       "ref": "c669bc14-1feb-487f-9770-88f873f32062",
       "rows": [
        [
         "819396",
         "31.7391",
         "-95.61613"
        ],
        [
         "819403",
         "31.50773",
         "-95.4761"
        ],
        [
         "819404",
         "31.73475",
         "-95.61121"
        ],
        [
         "819409",
         "31.72804",
         "-95.6761"
        ],
        [
         "819417",
         "31.73577",
         "-95.60873"
        ],
        [
         "819421",
         "31.74174",
         "-95.61567"
        ],
        [
         "819422",
         "31.76574",
         "-95.62866"
        ],
        [
         "819423",
         "31.63919",
         "-95.57863"
        ],
        [
         "819424",
         "31.7331",
         "-95.67261"
        ],
        [
         "819425",
         "32.05148",
         "-95.5016"
        ],
        [
         "819426",
         "31.87598",
         "-95.73211"
        ],
        [
         "819427",
         "31.73897",
         "-95.60766"
        ],
        [
         "819428",
         "31.73442",
         "-95.67035"
        ],
        [
         "819435",
         "31.7633",
         "-95.63315"
        ],
        [
         "819437",
         "31.75023",
         "-95.64976"
        ],
        [
         "819441",
         "31.63542",
         "-95.57801"
        ],
        [
         "819442",
         "31.76175",
         "-95.62915"
        ],
        [
         "819443",
         "31.74166",
         "-95.61559"
        ],
        [
         "819444",
         "32.14241",
         "-95.47718"
        ],
        [
         "819445",
         "31.79268",
         "-95.61772"
        ],
        [
         "819446",
         "31.74131",
         "-95.65874"
        ],
        [
         "819447",
         "31.9193",
         "-95.9211"
        ],
        [
         "819451",
         "31.77085",
         "-95.63387"
        ],
        [
         "819468",
         "31.77138",
         "-95.62876"
        ],
        [
         "819469",
         "31.77685",
         "-95.61826"
        ],
        [
         "819470",
         "31.74482",
         "-95.65524"
        ],
        [
         "819471",
         "31.62736",
         "-95.57532"
        ],
        [
         "819472",
         "31.73718",
         "-95.6091"
        ],
        [
         "819474",
         "31.72849",
         "-95.5998"
        ],
        [
         "819475",
         "32.06241",
         "-95.50245"
        ],
        [
         "819480",
         "31.76175",
         "-95.62906"
        ],
        [
         "819491",
         "31.68047",
         "-95.74458"
        ],
        [
         "819503",
         "31.73401",
         "-95.61602"
        ],
        [
         "819507",
         "31.76422",
         "-95.64253"
        ],
        [
         "819512",
         "31.7375",
         "-95.60964"
        ],
        [
         "819516",
         "31.77169",
         "-95.62849"
        ],
        [
         "819517",
         "31.7683",
         "-95.64423"
        ],
        [
         "819518",
         "31.73192",
         "-95.67454"
        ],
        [
         "819533",
         "31.76256",
         "-95.63267"
        ],
        [
         "819534",
         "32.05153",
         "-95.50046"
        ],
        [
         "819551",
         "31.73459",
         "-95.61245"
        ],
        [
         "819553",
         "31.73401",
         "-95.61624"
        ],
        [
         "819560",
         "32.31886",
         "-102.5467"
        ],
        [
         "819565",
         "32.32635",
         "-102.549"
        ],
        [
         "819567",
         "32.33533",
         "-102.5517"
        ],
        [
         "819568",
         "32.31119",
         "-102.5435"
        ],
        [
         "819569",
         "32.33176",
         "-102.5507"
        ],
        [
         "819570",
         "32.33363",
         "-102.5419"
        ],
        [
         "819571",
         "32.31424",
         "-102.5457"
        ],
        [
         "819577",
         "32.32104",
         "-102.5474"
        ]
       ],
       "shape": {
        "columns": 2,
        "rows": 21630
       }
      },
      "text/html": [
       "<div>\n",
       "<style scoped>\n",
       "    .dataframe tbody tr th:only-of-type {\n",
       "        vertical-align: middle;\n",
       "    }\n",
       "\n",
       "    .dataframe tbody tr th {\n",
       "        vertical-align: top;\n",
       "    }\n",
       "\n",
       "    .dataframe thead th {\n",
       "        text-align: right;\n",
       "    }\n",
       "</style>\n",
       "<table border=\"1\" class=\"dataframe\">\n",
       "  <thead>\n",
       "    <tr style=\"text-align: right;\">\n",
       "      <th></th>\n",
       "      <th>Latitude</th>\n",
       "      <th>Longitude</th>\n",
       "    </tr>\n",
       "  </thead>\n",
       "  <tbody>\n",
       "    <tr>\n",
       "      <th>819396</th>\n",
       "      <td>31.73910</td>\n",
       "      <td>-95.61613</td>\n",
       "    </tr>\n",
       "    <tr>\n",
       "      <th>819403</th>\n",
       "      <td>31.50773</td>\n",
       "      <td>-95.47610</td>\n",
       "    </tr>\n",
       "    <tr>\n",
       "      <th>819404</th>\n",
       "      <td>31.73475</td>\n",
       "      <td>-95.61121</td>\n",
       "    </tr>\n",
       "    <tr>\n",
       "      <th>819409</th>\n",
       "      <td>31.72804</td>\n",
       "      <td>-95.67610</td>\n",
       "    </tr>\n",
       "    <tr>\n",
       "      <th>819417</th>\n",
       "      <td>31.73577</td>\n",
       "      <td>-95.60873</td>\n",
       "    </tr>\n",
       "    <tr>\n",
       "      <th>...</th>\n",
       "      <td>...</td>\n",
       "      <td>...</td>\n",
       "    </tr>\n",
       "    <tr>\n",
       "      <th>897026</th>\n",
       "      <td>28.67970</td>\n",
       "      <td>-99.82105</td>\n",
       "    </tr>\n",
       "    <tr>\n",
       "      <th>897037</th>\n",
       "      <td>28.67955</td>\n",
       "      <td>-99.82034</td>\n",
       "    </tr>\n",
       "    <tr>\n",
       "      <th>897050</th>\n",
       "      <td>28.69383</td>\n",
       "      <td>-99.83141</td>\n",
       "    </tr>\n",
       "    <tr>\n",
       "      <th>897051</th>\n",
       "      <td>28.94196</td>\n",
       "      <td>-99.84821</td>\n",
       "    </tr>\n",
       "    <tr>\n",
       "      <th>897058</th>\n",
       "      <td>28.96218</td>\n",
       "      <td>-99.61858</td>\n",
       "    </tr>\n",
       "  </tbody>\n",
       "</table>\n",
       "<p>21630 rows × 2 columns</p>\n",
       "</div>"
      ],
      "text/plain": [
       "        Latitude  Longitude\n",
       "819396  31.73910  -95.61613\n",
       "819403  31.50773  -95.47610\n",
       "819404  31.73475  -95.61121\n",
       "819409  31.72804  -95.67610\n",
       "819417  31.73577  -95.60873\n",
       "...          ...        ...\n",
       "897026  28.67970  -99.82105\n",
       "897037  28.67955  -99.82034\n",
       "897050  28.69383  -99.83141\n",
       "897051  28.94196  -99.84821\n",
       "897058  28.96218  -99.61858\n",
       "\n",
       "[21630 rows x 2 columns]"
      ]
     },
     "execution_count": 75,
     "metadata": {},
     "output_type": "execute_result"
    }
   ],
   "source": [
    "snapdf"
   ]
  },
  {
   "cell_type": "code",
   "execution_count": null,
   "id": "9c1da8a2",
   "metadata": {},
   "outputs": [],
   "source": []
  }
 ],
 "metadata": {
  "kernelspec": {
   "display_name": ".venv",
   "language": "python",
   "name": "python3"
  },
  "language_info": {
   "codemirror_mode": {
    "name": "ipython",
    "version": 3
   },
   "file_extension": ".py",
   "mimetype": "text/x-python",
   "name": "python",
   "nbconvert_exporter": "python",
   "pygments_lexer": "ipython3",
   "version": "3.12.9"
  }
 },
 "nbformat": 4,
 "nbformat_minor": 5
}
